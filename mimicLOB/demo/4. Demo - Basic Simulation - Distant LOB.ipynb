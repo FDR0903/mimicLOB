{
 "cells": [
  {
   "cell_type": "markdown",
   "metadata": {},
   "source": [
    "# Imports"
   ]
  },
  {
   "cell_type": "code",
   "execution_count": 1,
   "metadata": {},
   "outputs": [],
   "source": [
    "import mimicLOB as lob\n",
    "from mimicLOB.agent.randomAgent import randomAgent\n",
    "from apscheduler.schedulers.background import BackgroundScheduler\n",
    "\n",
    "import requests\n",
    "import matplotlib.pyplot as plt\n",
    "import numpy as np\n",
    "import pandas as pd\n",
    "from sortedcontainers import SortedDict\n",
    "from pprint import pprint\n",
    "\n",
    "# local server\n",
    "localserver = \"http://127.0.0.1:5001\"\n",
    "\n",
    "# distant server\n",
    "distantserver = \"http://mimiclob.appspot.com\"\n",
    "\n",
    "# Server used\n",
    "server = localserver\n",
    "\n",
    "# Executed Trades\n",
    "executedtrades = SortedDict()\n",
    "\n",
    "# pending Sent Orders \n",
    "pendingtrades = SortedDict()\n"
   ]
  },
  {
   "cell_type": "markdown",
   "metadata": {},
   "source": [
    "# Get the LOB state"
   ]
  },
  {
   "cell_type": "code",
   "execution_count": 2,
   "metadata": {
    "scrolled": true
   },
   "outputs": [
    {
     "name": "stdout",
     "output_type": "stream",
     "text": [
      "LOB is empty\n"
     ]
    }
   ],
   "source": [
    "response = requests.get(f\"{server}/getLOBstate\")\n",
    "tickSize =  requests.get(f\"{server}/getticksize\").json()['ticksize']\n",
    "\n",
    "try:\n",
    "    LOBstate = pd.read_json(response.json()['LOBstate'])\n",
    "    LOBstate.sort_index(inplace=True)\n",
    "    minPrice = LOBstate.index[0]\n",
    "    maxPrice = LOBstate.index[-1]\n",
    "    LOBstate = LOBstate.reindex(range(minPrice, maxPrice, tickSize))\n",
    "    LOBstate.columns = ['quantities']\n",
    "    print(LOBstate)\n",
    "    LOBstate.plot.bar(figsize=(20, 7))\n",
    "except:\n",
    "    print('LOB is empty')"
   ]
  },
  {
   "cell_type": "markdown",
   "metadata": {},
   "source": [
    "## Simulation configuration"
   ]
  },
  {
   "cell_type": "code",
   "execution_count": 3,
   "metadata": {},
   "outputs": [],
   "source": [
    "config =   {'agents'      : {'agent1' : {'type'         : 'randomAgent',\n",
    "                                        'subtype'       : 'randomLimitBuyer',\n",
    "                                        'server'        : server,\n",
    "                                        'intensity'     : 0.4,\n",
    "                                        'quantityRange' : [50, 200, 10]},\n",
    "                            'agent2' : {'type'          : 'randomAgent',\n",
    "                                        'subtype'       : 'randomMarketBuyer',\n",
    "                                        'server'        : server,\n",
    "                                        'intensity'     : 0.4,\n",
    "                                        'quantityRange' : [50, 200, 10]},\n",
    "                            'agent3' : {'type'          : 'randomAgent',\n",
    "                                        'subtype'       : 'randomLimitSeller',\n",
    "                                        'server'        : server,\n",
    "                                        'intensity'     : 0.4,\n",
    "                                        'quantityRange' : [50, 200, 10]},\n",
    "                            'agent4' : {'type'          : 'randomAgent',\n",
    "                                        'subtype'       : 'randomMarketSeller',\n",
    "                                        'server'        : server,\n",
    "                                        'intensity'     : 0.4,\n",
    "                                        'quantityRange' : [50, 200, 10]},\n",
    "                            'MM'     : {'type'          : 'basicMM',\n",
    "                                        'server'        : server,\n",
    "                                        'refQuantity'   : 100,\n",
    "                                        'refPrice'      : 100}}}"
   ]
  },
  {
   "cell_type": "markdown",
   "metadata": {},
   "source": [
    "## Create the agents"
   ]
  },
  {
   "cell_type": "code",
   "execution_count": 4,
   "metadata": {},
   "outputs": [],
   "source": [
    "agentFactory = {} # keeps references on agents\n",
    "config_agents = config['agents']\n",
    "\n",
    "def getInstance(module, defObject, **kwargs):\n",
    "    typ = defObject['type']\n",
    "    exec(f'global myModule; from {module} import {typ} as myModule')\n",
    "    class_ = getattr(myModule, typ)\n",
    "    return class_(**defObject)\n",
    "\n",
    "for agent in config_agents:\n",
    "    agentFactory[agent] = getInstance('mimicLOB.agent', config_agents[agent])        "
   ]
  },
  {
   "cell_type": "markdown",
   "metadata": {},
   "source": [
    "## Launch News"
   ]
  },
  {
   "cell_type": "code",
   "execution_count": 5,
   "metadata": {
    "scrolled": true
   },
   "outputs": [
    {
     "data": {
      "text/plain": [
       "'DONE'"
      ]
     },
     "execution_count": 5,
     "metadata": {},
     "output_type": "execute_result"
    }
   ],
   "source": [
    "# start news\n",
    "response = requests.get(f\"{server}/launchNews\").json()\n",
    "response['status']"
   ]
  },
  {
   "cell_type": "markdown",
   "metadata": {},
   "source": [
    "## Launch Trading"
   ]
  },
  {
   "cell_type": "code",
   "execution_count": 6,
   "metadata": {},
   "outputs": [],
   "source": [
    "sched = BackgroundScheduler()\n",
    "sched.start()\n",
    "\n",
    "def startSimulation():\n",
    "    for agent in agentFactory:\n",
    "        agentFactory[agent].jobSO = sched.add_job(agentFactory[agent].sendOrders, 'interval', seconds=0.1, jitter=0.1)\n",
    "        agentFactory[agent].JobCO = sched.add_job(agentFactory[agent].cancelFarAwayOrders, 'interval', seconds=1, jitter=0.5) \n",
    "\n",
    "def stopSimulation():\n",
    "    for agent in agentFactory:\n",
    "        if agentFactory[agent].JobSO is not None:  agentFactory[agent].JobSO.remove()       \n",
    "        if agentFactory[agent].JobCO is not None:  agentFactory[agent].JobCO.remove()    \n",
    "        agentFactory[agent].JobSO = None\n",
    "        agentFactory[agent].JobCO = None"
   ]
  },
  {
   "cell_type": "code",
   "execution_count": 14,
   "metadata": {
    "scrolled": true
   },
   "outputs": [],
   "source": [
    "startSimulation()"
   ]
  },
  {
   "cell_type": "markdown",
   "metadata": {},
   "source": [
    "## Pause Trading"
   ]
  },
  {
   "cell_type": "code",
   "execution_count": 13,
   "metadata": {
    "scrolled": true
   },
   "outputs": [],
   "source": [
    "try:\n",
    "    sched.pause()\n",
    "except Exception as e:\n",
    "    print(e)"
   ]
  },
  {
   "cell_type": "markdown",
   "metadata": {},
   "source": [
    "## Resume Trading"
   ]
  },
  {
   "cell_type": "code",
   "execution_count": 9,
   "metadata": {
    "scrolled": true
   },
   "outputs": [
    {
     "name": "stderr",
     "output_type": "stream",
     "text": [
      "Run time of job \"randomAgent.sendOrders (trigger: interval[0:00:00.100000], next run at: 2020-04-08 10:05:44 CEST)\" was missed by 0:00:01.023536\n",
      "Run time of job \"randomAgent.sendOrders (trigger: interval[0:00:00.100000], next run at: 2020-04-08 10:05:44 CEST)\" was missed by 0:00:01.290095\n",
      "Run time of job \"randomAgent.sendOrders (trigger: interval[0:00:00.100000], next run at: 2020-04-08 10:05:44 CEST)\" was missed by 0:00:01.661291\n",
      "Run time of job \"randomAgent.cancelFarAwayOrders (trigger: interval[0:00:01], next run at: 2020-04-08 10:05:44 CEST)\" was missed by 0:00:02.505418\n",
      "Run time of job \"randomAgent.cancelFarAwayOrders (trigger: interval[0:00:01], next run at: 2020-04-08 10:05:45 CEST)\" was missed by 0:00:02.296525\n",
      "Run time of job \"basicMM.cancelFarAwayOrders (trigger: interval[0:00:01], next run at: 2020-04-08 10:05:45 CEST)\" was missed by 0:00:02.160904\n",
      "Run time of job \"randomAgent.cancelFarAwayOrders (trigger: interval[0:00:01], next run at: 2020-04-08 10:05:44 CEST)\" was missed by 0:00:01.867964\n",
      "Execution of job \"randomAgent.cancelFarAwayOrders (trigger: interval[0:00:01], next run at: 2020-04-08 10:05:45 CEST)\" skipped: maximum number of running instances reached (1)\n",
      "Run time of job \"randomAgent.cancelFarAwayOrders (trigger: interval[0:00:01], next run at: 2020-04-08 10:05:46 CEST)\" was missed by 0:00:01.268656\n",
      "Execution of job \"basicMM.sendOrders (trigger: interval[0:00:00.100000], next run at: 2020-04-08 10:05:46 CEST)\" skipped: maximum number of running instances reached (1)\n",
      "Execution of job \"basicMM.cancelFarAwayOrders (trigger: interval[0:00:01], next run at: 2020-04-08 10:05:46 CEST)\" skipped: maximum number of running instances reached (1)\n",
      "Execution of job \"randomAgent.cancelFarAwayOrders (trigger: interval[0:00:01], next run at: 2020-04-08 10:05:46 CEST)\" skipped: maximum number of running instances reached (1)\n",
      "Execution of job \"randomAgent.sendOrders (trigger: interval[0:00:00.100000], next run at: 2020-04-08 10:05:47 CEST)\" skipped: maximum number of running instances reached (1)\n",
      "Execution of job \"randomAgent.sendOrders (trigger: interval[0:00:00.100000], next run at: 2020-04-08 10:05:47 CEST)\" skipped: maximum number of running instances reached (1)\n",
      "Execution of job \"basicMM.sendOrders (trigger: interval[0:00:00.100000], next run at: 2020-04-08 10:05:47 CEST)\" skipped: maximum number of running instances reached (1)\n",
      "Execution of job \"randomAgent.cancelFarAwayOrders (trigger: interval[0:00:01], next run at: 2020-04-08 10:05:47 CEST)\" skipped: maximum number of running instances reached (1)\n",
      "Execution of job \"randomAgent.cancelFarAwayOrders (trigger: interval[0:00:01], next run at: 2020-04-08 10:05:47 CEST)\" skipped: maximum number of running instances reached (1)\n",
      "Execution of job \"randomAgent.sendOrders (trigger: interval[0:00:00.100000], next run at: 2020-04-08 10:05:47 CEST)\" skipped: maximum number of running instances reached (1)\n",
      "Execution of job \"basicMM.cancelFarAwayOrders (trigger: interval[0:00:01], next run at: 2020-04-08 10:05:48 CEST)\" skipped: maximum number of running instances reached (1)\n",
      "Execution of job \"randomAgent.cancelFarAwayOrders (trigger: interval[0:00:01], next run at: 2020-04-08 10:05:48 CEST)\" skipped: maximum number of running instances reached (1)\n",
      "Execution of job \"basicMM.sendOrders (trigger: interval[0:00:00.100000], next run at: 2020-04-08 10:05:49 CEST)\" skipped: maximum number of running instances reached (1)\n",
      "Execution of job \"randomAgent.sendOrders (trigger: interval[0:00:00.100000], next run at: 2020-04-08 10:05:49 CEST)\" skipped: maximum number of running instances reached (1)\n",
      "Execution of job \"randomAgent.cancelFarAwayOrders (trigger: interval[0:00:01], next run at: 2020-04-08 10:05:49 CEST)\" skipped: maximum number of running instances reached (1)\n",
      "Execution of job \"randomAgent.cancelFarAwayOrders (trigger: interval[0:00:01], next run at: 2020-04-08 10:05:49 CEST)\" skipped: maximum number of running instances reached (1)\n",
      "Execution of job \"randomAgent.cancelFarAwayOrders (trigger: interval[0:00:01], next run at: 2020-04-08 10:05:50 CEST)\" skipped: maximum number of running instances reached (1)\n",
      "Execution of job \"randomAgent.cancelFarAwayOrders (trigger: interval[0:00:01], next run at: 2020-04-08 10:05:50 CEST)\" skipped: maximum number of running instances reached (1)\n",
      "Execution of job \"basicMM.sendOrders (trigger: interval[0:00:00.100000], next run at: 2020-04-08 10:05:50 CEST)\" skipped: maximum number of running instances reached (1)\n",
      "Execution of job \"basicMM.cancelFarAwayOrders (trigger: interval[0:00:01], next run at: 2020-04-08 10:05:50 CEST)\" skipped: maximum number of running instances reached (1)\n",
      "Execution of job \"basicMM.sendOrders (trigger: interval[0:00:00.100000], next run at: 2020-04-08 10:05:51 CEST)\" skipped: maximum number of running instances reached (1)\n",
      "Execution of job \"randomAgent.sendOrders (trigger: interval[0:00:00.100000], next run at: 2020-04-08 10:05:51 CEST)\" skipped: maximum number of running instances reached (1)\n",
      "Execution of job \"randomAgent.sendOrders (trigger: interval[0:00:00.100000], next run at: 2020-04-08 10:05:51 CEST)\" skipped: maximum number of running instances reached (1)\n",
      "Execution of job \"basicMM.sendOrders (trigger: interval[0:00:00.100000], next run at: 2020-04-08 10:05:51 CEST)\" skipped: maximum number of running instances reached (1)\n",
      "Execution of job \"randomAgent.cancelFarAwayOrders (trigger: interval[0:00:01], next run at: 2020-04-08 10:05:52 CEST)\" skipped: maximum number of running instances reached (1)\n",
      "Execution of job \"basicMM.sendOrders (trigger: interval[0:00:00.100000], next run at: 2020-04-08 10:05:52 CEST)\" skipped: maximum number of running instances reached (1)\n"
     ]
    },
    {
     "name": "stdout",
     "output_type": "stream",
     "text": [
      "ERROR canceling far away orders float() argument must be a string or a number, not 'NoneType'\n",
      "ERROR canceling far away orders unsupported operand type(s) for -: 'NoneType' and 'int'\n"
     ]
    },
    {
     "name": "stderr",
     "output_type": "stream",
     "text": [
      "Execution of job \"randomAgent.cancelFarAwayOrders (trigger: interval[0:00:01], next run at: 2020-04-08 10:05:52 CEST)\" skipped: maximum number of running instances reached (1)\n",
      "Execution of job \"randomAgent.sendOrders (trigger: interval[0:00:00.100000], next run at: 2020-04-08 10:05:53 CEST)\" skipped: maximum number of running instances reached (1)\n",
      "Execution of job \"randomAgent.sendOrders (trigger: interval[0:00:00.100000], next run at: 2020-04-08 10:05:53 CEST)\" skipped: maximum number of running instances reached (1)\n",
      "Execution of job \"basicMM.sendOrders (trigger: interval[0:00:00.100000], next run at: 2020-04-08 10:05:53 CEST)\" skipped: maximum number of running instances reached (1)\n",
      "Execution of job \"randomAgent.sendOrders (trigger: interval[0:00:00.100000], next run at: 2020-04-08 10:05:53 CEST)\" skipped: maximum number of running instances reached (1)\n",
      "Execution of job \"basicMM.sendOrders (trigger: interval[0:00:00.100000], next run at: 2020-04-08 10:05:53 CEST)\" skipped: maximum number of running instances reached (1)\n",
      "Execution of job \"basicMM.cancelFarAwayOrders (trigger: interval[0:00:01], next run at: 2020-04-08 10:05:53 CEST)\" skipped: maximum number of running instances reached (1)\n",
      "Execution of job \"basicMM.sendOrders (trigger: interval[0:00:00.100000], next run at: 2020-04-08 10:05:53 CEST)\" skipped: maximum number of running instances reached (1)\n",
      "Execution of job \"basicMM.sendOrders (trigger: interval[0:00:00.100000], next run at: 2020-04-08 10:05:53 CEST)\" skipped: maximum number of running instances reached (1)\n",
      "Execution of job \"randomAgent.cancelFarAwayOrders (trigger: interval[0:00:01], next run at: 2020-04-08 10:05:54 CEST)\" skipped: maximum number of running instances reached (1)\n"
     ]
    },
    {
     "name": "stdout",
     "output_type": "stream",
     "text": [
      "ERROR canceling far away orders float() argument must be a string or a number, not 'NoneType'\n",
      "ERROR canceling far away orders unsupported operand type(s) for -: 'NoneType' and 'int'\n"
     ]
    },
    {
     "name": "stderr",
     "output_type": "stream",
     "text": [
      "Execution of job \"randomAgent.cancelFarAwayOrders (trigger: interval[0:00:01], next run at: 2020-04-08 10:05:55 CEST)\" skipped: maximum number of running instances reached (1)\n",
      "Execution of job \"randomAgent.cancelFarAwayOrders (trigger: interval[0:00:01], next run at: 2020-04-08 10:05:55 CEST)\" skipped: maximum number of running instances reached (1)\n",
      "Execution of job \"randomAgent.sendOrders (trigger: interval[0:00:00.100000], next run at: 2020-04-08 10:05:55 CEST)\" skipped: maximum number of running instances reached (1)\n",
      "Execution of job \"basicMM.sendOrders (trigger: interval[0:00:00.100000], next run at: 2020-04-08 10:05:56 CEST)\" skipped: maximum number of running instances reached (1)\n"
     ]
    },
    {
     "name": "stdout",
     "output_type": "stream",
     "text": [
      "ERROR canceling far away orders float() argument must be a string or a number, not 'NoneType'\n",
      "ERROR canceling far away orders unsupported operand type(s) for -: 'NoneType' and 'int'\n",
      "ERROR canceling far away orders float() argument must be a string or a number, not 'NoneType'\n"
     ]
    },
    {
     "name": "stderr",
     "output_type": "stream",
     "text": [
      "Execution of job \"randomAgent.cancelFarAwayOrders (trigger: interval[0:00:01], next run at: 2020-04-08 10:05:57 CEST)\" skipped: maximum number of running instances reached (1)\n",
      "Execution of job \"randomAgent.cancelFarAwayOrders (trigger: interval[0:00:01], next run at: 2020-04-08 10:05:57 CEST)\" skipped: maximum number of running instances reached (1)\n"
     ]
    },
    {
     "name": "stdout",
     "output_type": "stream",
     "text": [
      "ERROR canceling far away orders float() argument must be a string or a number, not 'NoneType'\n",
      "ERROR canceling far away orders unsupported operand type(s) for -: 'NoneType' and 'int'\n"
     ]
    },
    {
     "name": "stderr",
     "output_type": "stream",
     "text": [
      "Execution of job \"basicMM.sendOrders (trigger: interval[0:00:00.100000], next run at: 2020-04-08 10:05:59 CEST)\" skipped: maximum number of running instances reached (1)\n",
      "Execution of job \"basicMM.cancelFarAwayOrders (trigger: interval[0:00:01], next run at: 2020-04-08 10:05:59 CEST)\" skipped: maximum number of running instances reached (1)\n",
      "Execution of job \"randomAgent.cancelFarAwayOrders (trigger: interval[0:00:01], next run at: 2020-04-08 10:05:59 CEST)\" skipped: maximum number of running instances reached (1)\n",
      "Execution of job \"randomAgent.sendOrders (trigger: interval[0:00:00.100000], next run at: 2020-04-08 10:05:59 CEST)\" skipped: maximum number of running instances reached (1)\n",
      "Execution of job \"randomAgent.cancelFarAwayOrders (trigger: interval[0:00:01], next run at: 2020-04-08 10:05:59 CEST)\" skipped: maximum number of running instances reached (1)\n",
      "Execution of job \"randomAgent.cancelFarAwayOrders (trigger: interval[0:00:01], next run at: 2020-04-08 10:06:00 CEST)\" skipped: maximum number of running instances reached (1)\n",
      "Execution of job \"randomAgent.cancelFarAwayOrders (trigger: interval[0:00:01], next run at: 2020-04-08 10:06:00 CEST)\" skipped: maximum number of running instances reached (1)\n",
      "Execution of job \"basicMM.sendOrders (trigger: interval[0:00:00.100000], next run at: 2020-04-08 10:06:00 CEST)\" skipped: maximum number of running instances reached (1)\n",
      "Execution of job \"basicMM.cancelFarAwayOrders (trigger: interval[0:00:01], next run at: 2020-04-08 10:06:00 CEST)\" skipped: maximum number of running instances reached (1)\n",
      "Execution of job \"randomAgent.sendOrders (trigger: interval[0:00:00.100000], next run at: 2020-04-08 10:06:00 CEST)\" skipped: maximum number of running instances reached (1)\n"
     ]
    },
    {
     "name": "stdout",
     "output_type": "stream",
     "text": [
      "ERROR canceling far away orders float() argument must be a string or a number, not 'NoneType'\n",
      "ERROR canceling far away orders float() argument must be a string or a number, not 'NoneType'\n"
     ]
    },
    {
     "name": "stderr",
     "output_type": "stream",
     "text": [
      "Execution of job \"randomAgent.sendOrders (trigger: interval[0:00:00.100000], next run at: 2020-04-08 10:06:02 CEST)\" skipped: maximum number of running instances reached (1)\n",
      "Execution of job \"randomAgent.cancelFarAwayOrders (trigger: interval[0:00:01], next run at: 2020-04-08 10:06:02 CEST)\" skipped: maximum number of running instances reached (1)\n",
      "Execution of job \"basicMM.cancelFarAwayOrders (trigger: interval[0:00:01], next run at: 2020-04-08 10:06:02 CEST)\" skipped: maximum number of running instances reached (1)\n",
      "Execution of job \"randomAgent.cancelFarAwayOrders (trigger: interval[0:00:01], next run at: 2020-04-08 10:06:03 CEST)\" skipped: maximum number of running instances reached (1)\n",
      "Execution of job \"randomAgent.cancelFarAwayOrders (trigger: interval[0:00:01], next run at: 2020-04-08 10:06:03 CEST)\" skipped: maximum number of running instances reached (1)\n",
      "Execution of job \"randomAgent.cancelFarAwayOrders (trigger: interval[0:00:01], next run at: 2020-04-08 10:06:03 CEST)\" skipped: maximum number of running instances reached (1)\n",
      "Execution of job \"randomAgent.sendOrders (trigger: interval[0:00:00.100000], next run at: 2020-04-08 10:06:04 CEST)\" skipped: maximum number of running instances reached (1)\n",
      "Execution of job \"basicMM.sendOrders (trigger: interval[0:00:00.100000], next run at: 2020-04-08 10:06:04 CEST)\" skipped: maximum number of running instances reached (1)\n",
      "Execution of job \"randomAgent.cancelFarAwayOrders (trigger: interval[0:00:01], next run at: 2020-04-08 10:06:05 CEST)\" skipped: maximum number of running instances reached (1)\n",
      "Execution of job \"basicMM.sendOrders (trigger: interval[0:00:00.100000], next run at: 2020-04-08 10:06:05 CEST)\" skipped: maximum number of running instances reached (1)\n",
      "Execution of job \"randomAgent.sendOrders (trigger: interval[0:00:00.100000], next run at: 2020-04-08 10:06:05 CEST)\" skipped: maximum number of running instances reached (1)\n",
      "Execution of job \"basicMM.sendOrders (trigger: interval[0:00:00.100000], next run at: 2020-04-08 10:06:05 CEST)\" skipped: maximum number of running instances reached (1)\n",
      "Execution of job \"basicMM.sendOrders (trigger: interval[0:00:00.100000], next run at: 2020-04-08 10:06:07 CEST)\" skipped: maximum number of running instances reached (1)\n",
      "Execution of job \"basicMM.cancelFarAwayOrders (trigger: interval[0:00:01], next run at: 2020-04-08 10:06:07 CEST)\" skipped: maximum number of running instances reached (1)\n",
      "Execution of job \"randomAgent.cancelFarAwayOrders (trigger: interval[0:00:01], next run at: 2020-04-08 10:06:07 CEST)\" skipped: maximum number of running instances reached (1)\n",
      "Execution of job \"basicMM.sendOrders (trigger: interval[0:00:00.100000], next run at: 2020-04-08 10:06:07 CEST)\" skipped: maximum number of running instances reached (1)\n",
      "Execution of job \"basicMM.sendOrders (trigger: interval[0:00:00.100000], next run at: 2020-04-08 10:06:08 CEST)\" skipped: maximum number of running instances reached (1)\n",
      "Execution of job \"randomAgent.sendOrders (trigger: interval[0:00:00.100000], next run at: 2020-04-08 10:06:08 CEST)\" skipped: maximum number of running instances reached (1)\n",
      "Execution of job \"randomAgent.cancelFarAwayOrders (trigger: interval[0:00:01], next run at: 2020-04-08 10:06:08 CEST)\" skipped: maximum number of running instances reached (1)\n",
      "Execution of job \"randomAgent.cancelFarAwayOrders (trigger: interval[0:00:01], next run at: 2020-04-08 10:06:08 CEST)\" skipped: maximum number of running instances reached (1)\n",
      "Execution of job \"basicMM.sendOrders (trigger: interval[0:00:00.100000], next run at: 2020-04-08 10:06:08 CEST)\" skipped: maximum number of running instances reached (1)\n",
      "Execution of job \"basicMM.sendOrders (trigger: interval[0:00:00.100000], next run at: 2020-04-08 10:06:09 CEST)\" skipped: maximum number of running instances reached (1)\n",
      "Execution of job \"randomAgent.sendOrders (trigger: interval[0:00:00.100000], next run at: 2020-04-08 10:06:09 CEST)\" skipped: maximum number of running instances reached (1)\n",
      "Execution of job \"randomAgent.cancelFarAwayOrders (trigger: interval[0:00:01], next run at: 2020-04-08 10:06:10 CEST)\" skipped: maximum number of running instances reached (1)\n",
      "Execution of job \"randomAgent.cancelFarAwayOrders (trigger: interval[0:00:01], next run at: 2020-04-08 10:06:10 CEST)\" skipped: maximum number of running instances reached (1)\n",
      "Execution of job \"randomAgent.cancelFarAwayOrders (trigger: interval[0:00:01], next run at: 2020-04-08 10:06:12 CEST)\" skipped: maximum number of running instances reached (1)\n",
      "Execution of job \"randomAgent.cancelFarAwayOrders (trigger: interval[0:00:01], next run at: 2020-04-08 10:06:12 CEST)\" skipped: maximum number of running instances reached (1)\n",
      "Execution of job \"randomAgent.cancelFarAwayOrders (trigger: interval[0:00:01], next run at: 2020-04-08 10:06:14 CEST)\" skipped: maximum number of running instances reached (1)\n",
      "Execution of job \"randomAgent.cancelFarAwayOrders (trigger: interval[0:00:01], next run at: 2020-04-08 10:06:14 CEST)\" skipped: maximum number of running instances reached (1)\n",
      "Execution of job \"randomAgent.sendOrders (trigger: interval[0:00:00.100000], next run at: 2020-04-08 10:06:14 CEST)\" skipped: maximum number of running instances reached (1)\n",
      "Execution of job \"randomAgent.cancelFarAwayOrders (trigger: interval[0:00:01], next run at: 2020-04-08 10:06:15 CEST)\" skipped: maximum number of running instances reached (1)\n",
      "Execution of job \"randomAgent.cancelFarAwayOrders (trigger: interval[0:00:01], next run at: 2020-04-08 10:06:16 CEST)\" skipped: maximum number of running instances reached (1)\n",
      "Execution of job \"randomAgent.sendOrders (trigger: interval[0:00:00.100000], next run at: 2020-04-08 10:06:16 CEST)\" skipped: maximum number of running instances reached (1)\n",
      "Execution of job \"randomAgent.cancelFarAwayOrders (trigger: interval[0:00:01], next run at: 2020-04-08 10:06:17 CEST)\" skipped: maximum number of running instances reached (1)\n",
      "Execution of job \"randomAgent.cancelFarAwayOrders (trigger: interval[0:00:01], next run at: 2020-04-08 10:06:17 CEST)\" skipped: maximum number of running instances reached (1)\n",
      "Execution of job \"randomAgent.cancelFarAwayOrders (trigger: interval[0:00:01], next run at: 2020-04-08 10:06:17 CEST)\" skipped: maximum number of running instances reached (1)\n",
      "Execution of job \"basicMM.sendOrders (trigger: interval[0:00:00.100000], next run at: 2020-04-08 10:06:19 CEST)\" skipped: maximum number of running instances reached (1)\n",
      "Execution of job \"randomAgent.cancelFarAwayOrders (trigger: interval[0:00:01], next run at: 2020-04-08 10:06:19 CEST)\" skipped: maximum number of running instances reached (1)\n",
      "Execution of job \"randomAgent.cancelFarAwayOrders (trigger: interval[0:00:01], next run at: 2020-04-08 10:06:19 CEST)\" skipped: maximum number of running instances reached (1)\n",
      "Execution of job \"randomAgent.cancelFarAwayOrders (trigger: interval[0:00:01], next run at: 2020-04-08 10:06:19 CEST)\" skipped: maximum number of running instances reached (1)\n",
      "Execution of job \"randomAgent.sendOrders (trigger: interval[0:00:00.100000], next run at: 2020-04-08 10:06:20 CEST)\" skipped: maximum number of running instances reached (1)\n",
      "Execution of job \"randomAgent.sendOrders (trigger: interval[0:00:00.100000], next run at: 2020-04-08 10:06:21 CEST)\" skipped: maximum number of running instances reached (1)\n",
      "Execution of job \"basicMM.sendOrders (trigger: interval[0:00:00.100000], next run at: 2020-04-08 10:06:21 CEST)\" skipped: maximum number of running instances reached (1)\n",
      "Execution of job \"randomAgent.cancelFarAwayOrders (trigger: interval[0:00:01], next run at: 2020-04-08 10:06:21 CEST)\" skipped: maximum number of running instances reached (1)\n",
      "Execution of job \"randomAgent.sendOrders (trigger: interval[0:00:00.100000], next run at: 2020-04-08 10:06:21 CEST)\" skipped: maximum number of running instances reached (1)\n",
      "Execution of job \"basicMM.sendOrders (trigger: interval[0:00:00.100000], next run at: 2020-04-08 10:06:21 CEST)\" skipped: maximum number of running instances reached (1)\n",
      "Execution of job \"randomAgent.cancelFarAwayOrders (trigger: interval[0:00:01], next run at: 2020-04-08 10:06:22 CEST)\" skipped: maximum number of running instances reached (1)\n",
      "Execution of job \"randomAgent.cancelFarAwayOrders (trigger: interval[0:00:01], next run at: 2020-04-08 10:06:22 CEST)\" skipped: maximum number of running instances reached (1)\n"
     ]
    },
    {
     "name": "stderr",
     "output_type": "stream",
     "text": [
      "Execution of job \"basicMM.sendOrders (trigger: interval[0:00:00.100000], next run at: 2020-04-08 10:06:22 CEST)\" skipped: maximum number of running instances reached (1)\n",
      "Execution of job \"randomAgent.sendOrders (trigger: interval[0:00:00.100000], next run at: 2020-04-08 10:06:22 CEST)\" skipped: maximum number of running instances reached (1)\n",
      "Execution of job \"basicMM.sendOrders (trigger: interval[0:00:00.100000], next run at: 2020-04-08 10:06:22 CEST)\" skipped: maximum number of running instances reached (1)\n",
      "Execution of job \"randomAgent.sendOrders (trigger: interval[0:00:00.100000], next run at: 2020-04-08 10:06:22 CEST)\" skipped: maximum number of running instances reached (1)\n",
      "Execution of job \"randomAgent.sendOrders (trigger: interval[0:00:00.100000], next run at: 2020-04-08 10:06:23 CEST)\" skipped: maximum number of running instances reached (1)\n",
      "Execution of job \"randomAgent.cancelFarAwayOrders (trigger: interval[0:00:01], next run at: 2020-04-08 10:06:23 CEST)\" skipped: maximum number of running instances reached (1)\n",
      "Execution of job \"randomAgent.cancelFarAwayOrders (trigger: interval[0:00:01], next run at: 2020-04-08 10:06:23 CEST)\" skipped: maximum number of running instances reached (1)\n"
     ]
    },
    {
     "name": "stdout",
     "output_type": "stream",
     "text": [
      "ERROR canceling far away orders float() argument must be a string or a number, not 'NoneType'\n",
      "ERROR canceling far away orders unsupported operand type(s) for -: 'NoneType' and 'int'\n"
     ]
    },
    {
     "name": "stderr",
     "output_type": "stream",
     "text": [
      "Execution of job \"randomAgent.cancelFarAwayOrders (trigger: interval[0:00:01], next run at: 2020-04-08 10:06:24 CEST)\" skipped: maximum number of running instances reached (1)\n",
      "Execution of job \"randomAgent.sendOrders (trigger: interval[0:00:00.100000], next run at: 2020-04-08 10:06:24 CEST)\" skipped: maximum number of running instances reached (1)\n",
      "Execution of job \"basicMM.sendOrders (trigger: interval[0:00:00.100000], next run at: 2020-04-08 10:06:24 CEST)\" skipped: maximum number of running instances reached (1)\n",
      "Execution of job \"randomAgent.sendOrders (trigger: interval[0:00:00.100000], next run at: 2020-04-08 10:06:24 CEST)\" skipped: maximum number of running instances reached (1)\n",
      "Execution of job \"randomAgent.cancelFarAwayOrders (trigger: interval[0:00:01], next run at: 2020-04-08 10:06:24 CEST)\" skipped: maximum number of running instances reached (1)\n",
      "Execution of job \"randomAgent.sendOrders (trigger: interval[0:00:00.100000], next run at: 2020-04-08 10:06:25 CEST)\" skipped: maximum number of running instances reached (1)\n",
      "Execution of job \"basicMM.sendOrders (trigger: interval[0:00:00.100000], next run at: 2020-04-08 10:06:25 CEST)\" skipped: maximum number of running instances reached (1)\n",
      "Execution of job \"basicMM.cancelFarAwayOrders (trigger: interval[0:00:01], next run at: 2020-04-08 10:06:25 CEST)\" skipped: maximum number of running instances reached (1)\n",
      "Execution of job \"randomAgent.sendOrders (trigger: interval[0:00:00.100000], next run at: 2020-04-08 10:06:25 CEST)\" skipped: maximum number of running instances reached (1)\n",
      "Execution of job \"basicMM.sendOrders (trigger: interval[0:00:00.100000], next run at: 2020-04-08 10:06:26 CEST)\" skipped: maximum number of running instances reached (1)\n",
      "Execution of job \"basicMM.sendOrders (trigger: interval[0:00:00.100000], next run at: 2020-04-08 10:06:26 CEST)\" skipped: maximum number of running instances reached (1)\n",
      "Execution of job \"randomAgent.cancelFarAwayOrders (trigger: interval[0:00:01], next run at: 2020-04-08 10:06:26 CEST)\" skipped: maximum number of running instances reached (1)\n",
      "Execution of job \"basicMM.cancelFarAwayOrders (trigger: interval[0:00:01], next run at: 2020-04-08 10:06:27 CEST)\" skipped: maximum number of running instances reached (1)\n",
      "Execution of job \"randomAgent.cancelFarAwayOrders (trigger: interval[0:00:01], next run at: 2020-04-08 10:06:27 CEST)\" skipped: maximum number of running instances reached (1)\n",
      "Execution of job \"basicMM.sendOrders (trigger: interval[0:00:00.100000], next run at: 2020-04-08 10:06:27 CEST)\" skipped: maximum number of running instances reached (1)\n"
     ]
    },
    {
     "name": "stdout",
     "output_type": "stream",
     "text": [
      "ERROR canceling far away orders float() argument must be a string or a number, not 'NoneType'\n"
     ]
    },
    {
     "name": "stderr",
     "output_type": "stream",
     "text": [
      "Execution of job \"basicMM.sendOrders (trigger: interval[0:00:00.100000], next run at: 2020-04-08 10:06:28 CEST)\" skipped: maximum number of running instances reached (1)\n",
      "Execution of job \"randomAgent.cancelFarAwayOrders (trigger: interval[0:00:01], next run at: 2020-04-08 10:06:28 CEST)\" skipped: maximum number of running instances reached (1)\n",
      "Execution of job \"randomAgent.sendOrders (trigger: interval[0:00:00.100000], next run at: 2020-04-08 10:06:29 CEST)\" skipped: maximum number of running instances reached (1)\n",
      "Execution of job \"randomAgent.cancelFarAwayOrders (trigger: interval[0:00:01], next run at: 2020-04-08 10:06:29 CEST)\" skipped: maximum number of running instances reached (1)\n",
      "Execution of job \"randomAgent.cancelFarAwayOrders (trigger: interval[0:00:01], next run at: 2020-04-08 10:06:29 CEST)\" skipped: maximum number of running instances reached (1)\n",
      "Execution of job \"basicMM.sendOrders (trigger: interval[0:00:00.100000], next run at: 2020-04-08 10:06:29 CEST)\" skipped: maximum number of running instances reached (1)\n",
      "Execution of job \"randomAgent.sendOrders (trigger: interval[0:00:00.100000], next run at: 2020-04-08 10:06:29 CEST)\" skipped: maximum number of running instances reached (1)\n",
      "Execution of job \"randomAgent.sendOrders (trigger: interval[0:00:00.100000], next run at: 2020-04-08 10:06:30 CEST)\" skipped: maximum number of running instances reached (1)\n",
      "Execution of job \"randomAgent.sendOrders (trigger: interval[0:00:00.100000], next run at: 2020-04-08 10:06:30 CEST)\" skipped: maximum number of running instances reached (1)\n",
      "Execution of job \"randomAgent.cancelFarAwayOrders (trigger: interval[0:00:01], next run at: 2020-04-08 10:06:30 CEST)\" skipped: maximum number of running instances reached (1)\n",
      "Execution of job \"basicMM.cancelFarAwayOrders (trigger: interval[0:00:01], next run at: 2020-04-08 10:06:30 CEST)\" skipped: maximum number of running instances reached (1)\n",
      "Execution of job \"randomAgent.sendOrders (trigger: interval[0:00:00.100000], next run at: 2020-04-08 10:06:31 CEST)\" skipped: maximum number of running instances reached (1)\n",
      "Execution of job \"randomAgent.cancelFarAwayOrders (trigger: interval[0:00:01], next run at: 2020-04-08 10:06:31 CEST)\" skipped: maximum number of running instances reached (1)\n",
      "Execution of job \"randomAgent.cancelFarAwayOrders (trigger: interval[0:00:01], next run at: 2020-04-08 10:06:32 CEST)\" skipped: maximum number of running instances reached (1)\n",
      "Execution of job \"randomAgent.cancelFarAwayOrders (trigger: interval[0:00:01], next run at: 2020-04-08 10:06:32 CEST)\" skipped: maximum number of running instances reached (1)\n",
      "Execution of job \"basicMM.cancelFarAwayOrders (trigger: interval[0:00:01], next run at: 2020-04-08 10:06:32 CEST)\" skipped: maximum number of running instances reached (1)\n",
      "Execution of job \"basicMM.sendOrders (trigger: interval[0:00:00.100000], next run at: 2020-04-08 10:06:32 CEST)\" skipped: maximum number of running instances reached (1)\n",
      "Execution of job \"randomAgent.cancelFarAwayOrders (trigger: interval[0:00:01], next run at: 2020-04-08 10:06:33 CEST)\" skipped: maximum number of running instances reached (1)\n",
      "Execution of job \"randomAgent.cancelFarAwayOrders (trigger: interval[0:00:01], next run at: 2020-04-08 10:06:33 CEST)\" skipped: maximum number of running instances reached (1)\n",
      "Execution of job \"basicMM.sendOrders (trigger: interval[0:00:00.100000], next run at: 2020-04-08 10:06:34 CEST)\" skipped: maximum number of running instances reached (1)\n",
      "Execution of job \"randomAgent.sendOrders (trigger: interval[0:00:00.100000], next run at: 2020-04-08 10:06:34 CEST)\" skipped: maximum number of running instances reached (1)\n",
      "Execution of job \"randomAgent.cancelFarAwayOrders (trigger: interval[0:00:01], next run at: 2020-04-08 10:06:34 CEST)\" skipped: maximum number of running instances reached (1)\n",
      "Execution of job \"basicMM.cancelFarAwayOrders (trigger: interval[0:00:01], next run at: 2020-04-08 10:06:34 CEST)\" skipped: maximum number of running instances reached (1)\n",
      "Execution of job \"basicMM.sendOrders (trigger: interval[0:00:00.100000], next run at: 2020-04-08 10:06:34 CEST)\" skipped: maximum number of running instances reached (1)\n",
      "Execution of job \"randomAgent.cancelFarAwayOrders (trigger: interval[0:00:01], next run at: 2020-04-08 10:06:35 CEST)\" skipped: maximum number of running instances reached (1)\n",
      "Execution of job \"basicMM.sendOrders (trigger: interval[0:00:00.100000], next run at: 2020-04-08 10:06:35 CEST)\" skipped: maximum number of running instances reached (1)\n",
      "Execution of job \"randomAgent.sendOrders (trigger: interval[0:00:00.100000], next run at: 2020-04-08 10:06:36 CEST)\" skipped: maximum number of running instances reached (1)\n",
      "Execution of job \"randomAgent.cancelFarAwayOrders (trigger: interval[0:00:01], next run at: 2020-04-08 10:06:36 CEST)\" skipped: maximum number of running instances reached (1)\n",
      "Execution of job \"randomAgent.cancelFarAwayOrders (trigger: interval[0:00:01], next run at: 2020-04-08 10:06:37 CEST)\" skipped: maximum number of running instances reached (1)\n",
      "Execution of job \"randomAgent.cancelFarAwayOrders (trigger: interval[0:00:01], next run at: 2020-04-08 10:06:37 CEST)\" skipped: maximum number of running instances reached (1)\n",
      "Execution of job \"randomAgent.sendOrders (trigger: interval[0:00:00.100000], next run at: 2020-04-08 10:06:38 CEST)\" skipped: maximum number of running instances reached (1)\n",
      "Execution of job \"randomAgent.cancelFarAwayOrders (trigger: interval[0:00:01], next run at: 2020-04-08 10:06:38 CEST)\" skipped: maximum number of running instances reached (1)\n",
      "Execution of job \"randomAgent.cancelFarAwayOrders (trigger: interval[0:00:01], next run at: 2020-04-08 10:06:38 CEST)\" skipped: maximum number of running instances reached (1)\n",
      "Execution of job \"basicMM.sendOrders (trigger: interval[0:00:00.100000], next run at: 2020-04-08 10:06:38 CEST)\" skipped: maximum number of running instances reached (1)\n",
      "Execution of job \"basicMM.sendOrders (trigger: interval[0:00:00.100000], next run at: 2020-04-08 10:06:39 CEST)\" skipped: maximum number of running instances reached (1)\n",
      "Execution of job \"basicMM.cancelFarAwayOrders (trigger: interval[0:00:01], next run at: 2020-04-08 10:06:39 CEST)\" skipped: maximum number of running instances reached (1)\n",
      "Execution of job \"randomAgent.cancelFarAwayOrders (trigger: interval[0:00:01], next run at: 2020-04-08 10:06:39 CEST)\" skipped: maximum number of running instances reached (1)\n",
      "Execution of job \"randomAgent.cancelFarAwayOrders (trigger: interval[0:00:01], next run at: 2020-04-08 10:06:39 CEST)\" skipped: maximum number of running instances reached (1)\n",
      "Execution of job \"randomAgent.sendOrders (trigger: interval[0:00:00.100000], next run at: 2020-04-08 10:06:40 CEST)\" skipped: maximum number of running instances reached (1)\n",
      "Execution of job \"randomAgent.cancelFarAwayOrders (trigger: interval[0:00:01], next run at: 2020-04-08 10:06:40 CEST)\" skipped: maximum number of running instances reached (1)\n",
      "Execution of job \"randomAgent.sendOrders (trigger: interval[0:00:00.100000], next run at: 2020-04-08 10:06:41 CEST)\" skipped: maximum number of running instances reached (1)\n",
      "Execution of job \"basicMM.sendOrders (trigger: interval[0:00:00.100000], next run at: 2020-04-08 10:06:41 CEST)\" skipped: maximum number of running instances reached (1)\n",
      "Execution of job \"basicMM.cancelFarAwayOrders (trigger: interval[0:00:01], next run at: 2020-04-08 10:06:42 CEST)\" skipped: maximum number of running instances reached (1)\n",
      "Execution of job \"randomAgent.cancelFarAwayOrders (trigger: interval[0:00:01], next run at: 2020-04-08 10:06:42 CEST)\" skipped: maximum number of running instances reached (1)\n",
      "Execution of job \"randomAgent.cancelFarAwayOrders (trigger: interval[0:00:01], next run at: 2020-04-08 10:06:43 CEST)\" skipped: maximum number of running instances reached (1)\n",
      "Execution of job \"basicMM.sendOrders (trigger: interval[0:00:00.100000], next run at: 2020-04-08 10:06:43 CEST)\" skipped: maximum number of running instances reached (1)\n",
      "Execution of job \"randomAgent.cancelFarAwayOrders (trigger: interval[0:00:01], next run at: 2020-04-08 10:06:43 CEST)\" skipped: maximum number of running instances reached (1)\n",
      "Execution of job \"basicMM.sendOrders (trigger: interval[0:00:00.100000], next run at: 2020-04-08 10:06:44 CEST)\" skipped: maximum number of running instances reached (1)\n"
     ]
    },
    {
     "name": "stdout",
     "output_type": "stream",
     "text": [
      "ERROR canceling far away orders unsupported operand type(s) for -: 'NoneType' and 'int'ERROR canceling far away orders float() argument must be a string or a number, not 'NoneType'\n",
      "\n",
      "ERROR canceling far away orders unsupported operand type(s) for -: 'NoneType' and 'int'\n"
     ]
    },
    {
     "name": "stderr",
     "output_type": "stream",
     "text": [
      "Execution of job \"basicMM.sendOrders (trigger: interval[0:00:00.100000], next run at: 2020-04-08 10:06:44 CEST)\" skipped: maximum number of running instances reached (1)\n",
      "Execution of job \"randomAgent.cancelFarAwayOrders (trigger: interval[0:00:01], next run at: 2020-04-08 10:06:45 CEST)\" skipped: maximum number of running instances reached (1)\n",
      "Execution of job \"randomAgent.cancelFarAwayOrders (trigger: interval[0:00:01], next run at: 2020-04-08 10:06:45 CEST)\" skipped: maximum number of running instances reached (1)\n",
      "Execution of job \"basicMM.sendOrders (trigger: interval[0:00:00.100000], next run at: 2020-04-08 10:06:46 CEST)\" skipped: maximum number of running instances reached (1)\n",
      "Execution of job \"randomAgent.sendOrders (trigger: interval[0:00:00.100000], next run at: 2020-04-08 10:06:46 CEST)\" skipped: maximum number of running instances reached (1)\n",
      "Execution of job \"randomAgent.sendOrders (trigger: interval[0:00:00.100000], next run at: 2020-04-08 10:06:46 CEST)\" skipped: maximum number of running instances reached (1)\n",
      "Execution of job \"basicMM.sendOrders (trigger: interval[0:00:00.100000], next run at: 2020-04-08 10:06:46 CEST)\" skipped: maximum number of running instances reached (1)\n",
      "Execution of job \"randomAgent.cancelFarAwayOrders (trigger: interval[0:00:01], next run at: 2020-04-08 10:06:46 CEST)\" skipped: maximum number of running instances reached (1)\n",
      "Execution of job \"basicMM.cancelFarAwayOrders (trigger: interval[0:00:01], next run at: 2020-04-08 10:06:46 CEST)\" skipped: maximum number of running instances reached (1)\n",
      "Execution of job \"randomAgent.sendOrders (trigger: interval[0:00:00.100000], next run at: 2020-04-08 10:06:47 CEST)\" skipped: maximum number of running instances reached (1)\n",
      "Execution of job \"randomAgent.cancelFarAwayOrders (trigger: interval[0:00:01], next run at: 2020-04-08 10:06:47 CEST)\" skipped: maximum number of running instances reached (1)\n",
      "Execution of job \"randomAgent.cancelFarAwayOrders (trigger: interval[0:00:01], next run at: 2020-04-08 10:06:47 CEST)\" skipped: maximum number of running instances reached (1)\n",
      "Execution of job \"randomAgent.sendOrders (trigger: interval[0:00:00.100000], next run at: 2020-04-08 10:06:47 CEST)\" skipped: maximum number of running instances reached (1)\n",
      "Execution of job \"basicMM.sendOrders (trigger: interval[0:00:00.100000], next run at: 2020-04-08 10:06:48 CEST)\" skipped: maximum number of running instances reached (1)\n",
      "Execution of job \"basicMM.cancelFarAwayOrders (trigger: interval[0:00:01], next run at: 2020-04-08 10:06:48 CEST)\" skipped: maximum number of running instances reached (1)\n",
      "Execution of job \"randomAgent.cancelFarAwayOrders (trigger: interval[0:00:01], next run at: 2020-04-08 10:06:48 CEST)\" skipped: maximum number of running instances reached (1)\n"
     ]
    },
    {
     "name": "stdout",
     "output_type": "stream",
     "text": [
      "ERROR canceling far away orders float() argument must be a string or a number, not 'NoneType'\n",
      "ERROR canceling far away orders unsupported operand type(s) for -: 'NoneType' and 'int'\n",
      "ERROR canceling far away orders unsupported operand type(s) for -: 'NoneType' and 'int'\n",
      "ERROR canceling far away orders float() argument must be a string or a number, not 'NoneType'\n"
     ]
    },
    {
     "name": "stderr",
     "output_type": "stream",
     "text": [
      "Execution of job \"randomAgent.cancelFarAwayOrders (trigger: interval[0:00:01], next run at: 2020-04-08 10:06:51 CEST)\" skipped: maximum number of running instances reached (1)\n",
      "Execution of job \"basicMM.sendOrders (trigger: interval[0:00:00.100000], next run at: 2020-04-08 10:06:51 CEST)\" skipped: maximum number of running instances reached (1)\n",
      "Execution of job \"randomAgent.sendOrders (trigger: interval[0:00:00.100000], next run at: 2020-04-08 10:06:51 CEST)\" skipped: maximum number of running instances reached (1)\n",
      "Execution of job \"basicMM.cancelFarAwayOrders (trigger: interval[0:00:01], next run at: 2020-04-08 10:06:51 CEST)\" skipped: maximum number of running instances reached (1)\n",
      "Execution of job \"basicMM.sendOrders (trigger: interval[0:00:00.100000], next run at: 2020-04-08 10:06:51 CEST)\" skipped: maximum number of running instances reached (1)\n",
      "Execution of job \"randomAgent.cancelFarAwayOrders (trigger: interval[0:00:01], next run at: 2020-04-08 10:06:51 CEST)\" skipped: maximum number of running instances reached (1)\n",
      "Execution of job \"basicMM.sendOrders (trigger: interval[0:00:00.100000], next run at: 2020-04-08 10:06:52 CEST)\" skipped: maximum number of running instances reached (1)\n",
      "Execution of job \"randomAgent.sendOrders (trigger: interval[0:00:00.100000], next run at: 2020-04-08 10:06:53 CEST)\" skipped: maximum number of running instances reached (1)\n",
      "Execution of job \"randomAgent.cancelFarAwayOrders (trigger: interval[0:00:01], next run at: 2020-04-08 10:06:53 CEST)\" skipped: maximum number of running instances reached (1)\n",
      "Execution of job \"randomAgent.sendOrders (trigger: interval[0:00:00.100000], next run at: 2020-04-08 10:06:53 CEST)\" skipped: maximum number of running instances reached (1)\n",
      "Execution of job \"basicMM.sendOrders (trigger: interval[0:00:00.100000], next run at: 2020-04-08 10:06:53 CEST)\" skipped: maximum number of running instances reached (1)\n",
      "Execution of job \"basicMM.sendOrders (trigger: interval[0:00:00.100000], next run at: 2020-04-08 10:06:53 CEST)\" skipped: maximum number of running instances reached (1)\n",
      "Execution of job \"basicMM.cancelFarAwayOrders (trigger: interval[0:00:01], next run at: 2020-04-08 10:06:54 CEST)\" skipped: maximum number of running instances reached (1)\n",
      "Execution of job \"randomAgent.cancelFarAwayOrders (trigger: interval[0:00:01], next run at: 2020-04-08 10:06:54 CEST)\" skipped: maximum number of running instances reached (1)\n",
      "Execution of job \"randomAgent.cancelFarAwayOrders (trigger: interval[0:00:01], next run at: 2020-04-08 10:06:54 CEST)\" skipped: maximum number of running instances reached (1)\n",
      "Execution of job \"randomAgent.sendOrders (trigger: interval[0:00:00.100000], next run at: 2020-04-08 10:06:54 CEST)\" skipped: maximum number of running instances reached (1)\n",
      "Execution of job \"randomAgent.sendOrders (trigger: interval[0:00:00.100000], next run at: 2020-04-08 10:06:54 CEST)\" skipped: maximum number of running instances reached (1)\n",
      "Execution of job \"randomAgent.sendOrders (trigger: interval[0:00:00.100000], next run at: 2020-04-08 10:06:55 CEST)\" skipped: maximum number of running instances reached (1)\n",
      "Execution of job \"basicMM.cancelFarAwayOrders (trigger: interval[0:00:01], next run at: 2020-04-08 10:06:55 CEST)\" skipped: maximum number of running instances reached (1)\n",
      "Execution of job \"basicMM.sendOrders (trigger: interval[0:00:00.100000], next run at: 2020-04-08 10:06:56 CEST)\" skipped: maximum number of running instances reached (1)\n",
      "Execution of job \"randomAgent.cancelFarAwayOrders (trigger: interval[0:00:01], next run at: 2020-04-08 10:06:56 CEST)\" skipped: maximum number of running instances reached (1)\n",
      "Execution of job \"basicMM.sendOrders (trigger: interval[0:00:00.100000], next run at: 2020-04-08 10:06:56 CEST)\" skipped: maximum number of running instances reached (1)\n",
      "Execution of job \"basicMM.cancelFarAwayOrders (trigger: interval[0:00:01], next run at: 2020-04-08 10:06:56 CEST)\" skipped: maximum number of running instances reached (1)\n",
      "Execution of job \"randomAgent.cancelFarAwayOrders (trigger: interval[0:00:01], next run at: 2020-04-08 10:06:57 CEST)\" skipped: maximum number of running instances reached (1)\n",
      "Execution of job \"randomAgent.cancelFarAwayOrders (trigger: interval[0:00:01], next run at: 2020-04-08 10:06:57 CEST)\" skipped: maximum number of running instances reached (1)\n",
      "Execution of job \"randomAgent.cancelFarAwayOrders (trigger: interval[0:00:01], next run at: 2020-04-08 10:06:58 CEST)\" skipped: maximum number of running instances reached (1)\n",
      "Execution of job \"basicMM.cancelFarAwayOrders (trigger: interval[0:00:01], next run at: 2020-04-08 10:06:58 CEST)\" skipped: maximum number of running instances reached (1)\n",
      "Execution of job \"basicMM.sendOrders (trigger: interval[0:00:00.100000], next run at: 2020-04-08 10:06:58 CEST)\" skipped: maximum number of running instances reached (1)\n",
      "Execution of job \"randomAgent.cancelFarAwayOrders (trigger: interval[0:00:01], next run at: 2020-04-08 10:06:59 CEST)\" skipped: maximum number of running instances reached (1)\n",
      "Execution of job \"basicMM.cancelFarAwayOrders (trigger: interval[0:00:01], next run at: 2020-04-08 10:06:59 CEST)\" skipped: maximum number of running instances reached (1)\n",
      "Execution of job \"randomAgent.cancelFarAwayOrders (trigger: interval[0:00:01], next run at: 2020-04-08 10:07:00 CEST)\" skipped: maximum number of running instances reached (1)\n",
      "Execution of job \"randomAgent.cancelFarAwayOrders (trigger: interval[0:00:01], next run at: 2020-04-08 10:07:00 CEST)\" skipped: maximum number of running instances reached (1)\n",
      "Execution of job \"basicMM.sendOrders (trigger: interval[0:00:00.100000], next run at: 2020-04-08 10:07:00 CEST)\" skipped: maximum number of running instances reached (1)\n",
      "Execution of job \"randomAgent.cancelFarAwayOrders (trigger: interval[0:00:01], next run at: 2020-04-08 10:07:00 CEST)\" skipped: maximum number of running instances reached (1)\n",
      "Execution of job \"randomAgent.sendOrders (trigger: interval[0:00:00.100000], next run at: 2020-04-08 10:07:01 CEST)\" skipped: maximum number of running instances reached (1)\n",
      "Execution of job \"basicMM.sendOrders (trigger: interval[0:00:00.100000], next run at: 2020-04-08 10:07:01 CEST)\" skipped: maximum number of running instances reached (1)\n",
      "Execution of job \"randomAgent.sendOrders (trigger: interval[0:00:00.100000], next run at: 2020-04-08 10:07:01 CEST)\" skipped: maximum number of running instances reached (1)\n",
      "Execution of job \"basicMM.sendOrders (trigger: interval[0:00:00.100000], next run at: 2020-04-08 10:07:02 CEST)\" skipped: maximum number of running instances reached (1)\n",
      "Execution of job \"randomAgent.cancelFarAwayOrders (trigger: interval[0:00:01], next run at: 2020-04-08 10:07:03 CEST)\" skipped: maximum number of running instances reached (1)\n"
     ]
    },
    {
     "name": "stdout",
     "output_type": "stream",
     "text": [
      "ERROR canceling far away orders unsupported operand type(s) for -: 'NoneType' and 'int'\n",
      "ERROR canceling far away orders float() argument must be a string or a number, not 'NoneType'\n"
     ]
    },
    {
     "name": "stderr",
     "output_type": "stream",
     "text": [
      "Execution of job \"randomAgent.sendOrders (trigger: interval[0:00:00.100000], next run at: 2020-04-08 10:07:03 CEST)\" skipped: maximum number of running instances reached (1)\n",
      "Execution of job \"randomAgent.sendOrders (trigger: interval[0:00:00.100000], next run at: 2020-04-08 10:07:03 CEST)\" skipped: maximum number of running instances reached (1)\n",
      "Execution of job \"basicMM.cancelFarAwayOrders (trigger: interval[0:00:01], next run at: 2020-04-08 10:07:04 CEST)\" skipped: maximum number of running instances reached (1)\n",
      "Execution of job \"basicMM.sendOrders (trigger: interval[0:00:00.100000], next run at: 2020-04-08 10:07:04 CEST)\" skipped: maximum number of running instances reached (1)\n"
     ]
    },
    {
     "name": "stdout",
     "output_type": "stream",
     "text": [
      "ERROR canceling far away orders float() argument must be a string or a number, not 'NoneType'\n"
     ]
    },
    {
     "name": "stderr",
     "output_type": "stream",
     "text": [
      "Execution of job \"randomAgent.sendOrders (trigger: interval[0:00:00.100000], next run at: 2020-04-08 10:07:05 CEST)\" skipped: maximum number of running instances reached (1)\n"
     ]
    },
    {
     "name": "stdout",
     "output_type": "stream",
     "text": [
      "ERROR canceling far away orders float() argument must be a string or a number, not 'NoneType'\n"
     ]
    },
    {
     "name": "stderr",
     "output_type": "stream",
     "text": [
      "Execution of job \"randomAgent.sendOrders (trigger: interval[0:00:00.100000], next run at: 2020-04-08 10:07:06 CEST)\" skipped: maximum number of running instances reached (1)\n",
      "Execution of job \"randomAgent.sendOrders (trigger: interval[0:00:00.100000], next run at: 2020-04-08 10:07:07 CEST)\" skipped: maximum number of running instances reached (1)\n",
      "Execution of job \"randomAgent.cancelFarAwayOrders (trigger: interval[0:00:01], next run at: 2020-04-08 10:07:07 CEST)\" skipped: maximum number of running instances reached (1)\n",
      "Execution of job \"randomAgent.cancelFarAwayOrders (trigger: interval[0:00:01], next run at: 2020-04-08 10:07:08 CEST)\" skipped: maximum number of running instances reached (1)\n",
      "Execution of job \"basicMM.sendOrders (trigger: interval[0:00:00.100000], next run at: 2020-04-08 10:07:08 CEST)\" skipped: maximum number of running instances reached (1)\n",
      "Execution of job \"randomAgent.cancelFarAwayOrders (trigger: interval[0:00:01], next run at: 2020-04-08 10:07:08 CEST)\" skipped: maximum number of running instances reached (1)\n",
      "Execution of job \"randomAgent.sendOrders (trigger: interval[0:00:00.100000], next run at: 2020-04-08 10:07:08 CEST)\" skipped: maximum number of running instances reached (1)\n",
      "Execution of job \"basicMM.sendOrders (trigger: interval[0:00:00.100000], next run at: 2020-04-08 10:07:09 CEST)\" skipped: maximum number of running instances reached (1)\n",
      "Execution of job \"randomAgent.cancelFarAwayOrders (trigger: interval[0:00:01], next run at: 2020-04-08 10:07:09 CEST)\" skipped: maximum number of running instances reached (1)\n"
     ]
    },
    {
     "name": "stdout",
     "output_type": "stream",
     "text": [
      "ERROR canceling far away orders unsupported operand type(s) for -: 'NoneType' and 'int'\n",
      "ERROR canceling far away orders float() argument must be a string or a number, not 'NoneType'\n"
     ]
    },
    {
     "name": "stderr",
     "output_type": "stream",
     "text": [
      "Execution of job \"randomAgent.cancelFarAwayOrders (trigger: interval[0:00:01], next run at: 2020-04-08 10:07:11 CEST)\" skipped: maximum number of running instances reached (1)\n",
      "Execution of job \"basicMM.sendOrders (trigger: interval[0:00:00.100000], next run at: 2020-04-08 10:07:12 CEST)\" skipped: maximum number of running instances reached (1)\n",
      "Execution of job \"randomAgent.cancelFarAwayOrders (trigger: interval[0:00:01], next run at: 2020-04-08 10:07:12 CEST)\" skipped: maximum number of running instances reached (1)\n",
      "Execution of job \"basicMM.cancelFarAwayOrders (trigger: interval[0:00:01], next run at: 2020-04-08 10:07:12 CEST)\" skipped: maximum number of running instances reached (1)\n",
      "Execution of job \"randomAgent.sendOrders (trigger: interval[0:00:00.100000], next run at: 2020-04-08 10:07:13 CEST)\" skipped: maximum number of running instances reached (1)\n",
      "Execution of job \"randomAgent.cancelFarAwayOrders (trigger: interval[0:00:01], next run at: 2020-04-08 10:07:13 CEST)\" skipped: maximum number of running instances reached (1)\n",
      "Execution of job \"basicMM.sendOrders (trigger: interval[0:00:00.100000], next run at: 2020-04-08 10:07:14 CEST)\" skipped: maximum number of running instances reached (1)\n",
      "Execution of job \"basicMM.sendOrders (trigger: interval[0:00:00.100000], next run at: 2020-04-08 10:07:14 CEST)\" skipped: maximum number of running instances reached (1)\n",
      "Execution of job \"randomAgent.sendOrders (trigger: interval[0:00:00.100000], next run at: 2020-04-08 10:07:14 CEST)\" skipped: maximum number of running instances reached (1)\n",
      "Execution of job \"randomAgent.cancelFarAwayOrders (trigger: interval[0:00:01], next run at: 2020-04-08 10:07:14 CEST)\" skipped: maximum number of running instances reached (1)\n",
      "Execution of job \"basicMM.cancelFarAwayOrders (trigger: interval[0:00:01], next run at: 2020-04-08 10:07:14 CEST)\" skipped: maximum number of running instances reached (1)\n",
      "Execution of job \"randomAgent.sendOrders (trigger: interval[0:00:00.100000], next run at: 2020-04-08 10:07:15 CEST)\" skipped: maximum number of running instances reached (1)\n",
      "Execution of job \"randomAgent.sendOrders (trigger: interval[0:00:00.100000], next run at: 2020-04-08 10:07:15 CEST)\" skipped: maximum number of running instances reached (1)\n",
      "Execution of job \"basicMM.sendOrders (trigger: interval[0:00:00.100000], next run at: 2020-04-08 10:07:16 CEST)\" skipped: maximum number of running instances reached (1)\n",
      "Execution of job \"randomAgent.sendOrders (trigger: interval[0:00:00.100000], next run at: 2020-04-08 10:07:16 CEST)\" skipped: maximum number of running instances reached (1)\n",
      "Execution of job \"randomAgent.cancelFarAwayOrders (trigger: interval[0:00:01], next run at: 2020-04-08 10:07:17 CEST)\" skipped: maximum number of running instances reached (1)\n",
      "Execution of job \"randomAgent.sendOrders (trigger: interval[0:00:00.100000], next run at: 2020-04-08 10:07:17 CEST)\" skipped: maximum number of running instances reached (1)\n",
      "Execution of job \"randomAgent.cancelFarAwayOrders (trigger: interval[0:00:01], next run at: 2020-04-08 10:07:17 CEST)\" skipped: maximum number of running instances reached (1)\n",
      "Execution of job \"randomAgent.sendOrders (trigger: interval[0:00:00.100000], next run at: 2020-04-08 10:07:17 CEST)\" skipped: maximum number of running instances reached (1)\n",
      "Execution of job \"randomAgent.sendOrders (trigger: interval[0:00:00.100000], next run at: 2020-04-08 10:07:17 CEST)\" skipped: maximum number of running instances reached (1)\n",
      "Execution of job \"randomAgent.sendOrders (trigger: interval[0:00:00.100000], next run at: 2020-04-08 10:07:18 CEST)\" skipped: maximum number of running instances reached (1)\n",
      "Execution of job \"randomAgent.cancelFarAwayOrders (trigger: interval[0:00:01], next run at: 2020-04-08 10:07:18 CEST)\" skipped: maximum number of running instances reached (1)\n",
      "Execution of job \"basicMM.sendOrders (trigger: interval[0:00:00.100000], next run at: 2020-04-08 10:07:18 CEST)\" skipped: maximum number of running instances reached (1)\n",
      "Execution of job \"basicMM.sendOrders (trigger: interval[0:00:00.100000], next run at: 2020-04-08 10:07:18 CEST)\" skipped: maximum number of running instances reached (1)\n",
      "Execution of job \"basicMM.cancelFarAwayOrders (trigger: interval[0:00:01], next run at: 2020-04-08 10:07:18 CEST)\" skipped: maximum number of running instances reached (1)\n",
      "Execution of job \"randomAgent.cancelFarAwayOrders (trigger: interval[0:00:01], next run at: 2020-04-08 10:07:18 CEST)\" skipped: maximum number of running instances reached (1)\n",
      "Execution of job \"randomAgent.sendOrders (trigger: interval[0:00:00.100000], next run at: 2020-04-08 10:07:19 CEST)\" skipped: maximum number of running instances reached (1)\n",
      "Execution of job \"randomAgent.cancelFarAwayOrders (trigger: interval[0:00:01], next run at: 2020-04-08 10:07:19 CEST)\" skipped: maximum number of running instances reached (1)\n",
      "Execution of job \"randomAgent.sendOrders (trigger: interval[0:00:00.100000], next run at: 2020-04-08 10:07:19 CEST)\" skipped: maximum number of running instances reached (1)\n",
      "Execution of job \"basicMM.sendOrders (trigger: interval[0:00:00.100000], next run at: 2020-04-08 10:07:20 CEST)\" skipped: maximum number of running instances reached (1)\n",
      "Execution of job \"basicMM.sendOrders (trigger: interval[0:00:00.100000], next run at: 2020-04-08 10:07:20 CEST)\" skipped: maximum number of running instances reached (1)\n",
      "Execution of job \"randomAgent.cancelFarAwayOrders (trigger: interval[0:00:01], next run at: 2020-04-08 10:07:20 CEST)\" skipped: maximum number of running instances reached (1)\n",
      "Execution of job \"randomAgent.cancelFarAwayOrders (trigger: interval[0:00:01], next run at: 2020-04-08 10:07:20 CEST)\" skipped: maximum number of running instances reached (1)\n",
      "Execution of job \"basicMM.cancelFarAwayOrders (trigger: interval[0:00:01], next run at: 2020-04-08 10:07:20 CEST)\" skipped: maximum number of running instances reached (1)\n",
      "Execution of job \"randomAgent.sendOrders (trigger: interval[0:00:00.100000], next run at: 2020-04-08 10:07:20 CEST)\" skipped: maximum number of running instances reached (1)\n"
     ]
    }
   ],
   "source": [
    "try:\n",
    "    sched.resume()\n",
    "except Exception as e:\n",
    "    print(e)"
   ]
  },
  {
   "cell_type": "markdown",
   "metadata": {},
   "source": [
    "## Stop Trading & reset LOB"
   ]
  },
  {
   "cell_type": "code",
   "execution_count": null,
   "metadata": {},
   "outputs": [],
   "source": [
    "try:\n",
    "    sched.shutdown()\n",
    "except Exception as e:\n",
    "    print(e)"
   ]
  },
  {
   "cell_type": "code",
   "execution_count": null,
   "metadata": {},
   "outputs": [],
   "source": [
    "response = requests.get(f\"{server}/resetLOB\").json()\n",
    "response['status']"
   ]
  },
  {
   "cell_type": "markdown",
   "metadata": {},
   "source": [
    "## Get Price Tape"
   ]
  },
  {
   "cell_type": "code",
   "execution_count": null,
   "metadata": {
    "scrolled": true
   },
   "outputs": [],
   "source": [
    "histoPrices = requests.get(f\"{server}/getPriceTape\",).json()['PriceTape']\n",
    "histoPrices = pd.DataFrame([histoPrices]).T; histoPrices.columns = ['Prices']\n",
    "histoPrices.plot(figsize=(20,7))\n",
    "# display(histoPrices.describe())\n",
    "display(f'open : {histoPrices.iloc[0,0]}')\n",
    "display(f'high : {histoPrices.max()[0]}')\n",
    "display(f'open : {histoPrices.min()[0]}')\n",
    "display(f'close : {histoPrices.iloc[-1, 0]}')\n",
    "plt.show()"
   ]
  },
  {
   "cell_type": "markdown",
   "metadata": {},
   "source": [
    "## Get Transaction Tape"
   ]
  },
  {
   "cell_type": "code",
   "execution_count": null,
   "metadata": {},
   "outputs": [],
   "source": [
    "TransactionTape = requests.get(f\"{server}/getTransactionTape\").json()['TransactionTape']\n",
    "TransactionTape = pd.read_json(TransactionTape)"
   ]
  },
  {
   "cell_type": "code",
   "execution_count": null,
   "metadata": {},
   "outputs": [],
   "source": [
    "TransactionTape"
   ]
  }
 ],
 "metadata": {
  "kernelspec": {
   "display_name": "Python 3",
   "language": "python",
   "name": "python3"
  },
  "language_info": {
   "codemirror_mode": {
    "name": "ipython",
    "version": 3
   },
   "file_extension": ".py",
   "mimetype": "text/x-python",
   "name": "python",
   "nbconvert_exporter": "python",
   "pygments_lexer": "ipython3",
   "version": "3.7.4"
  }
 },
 "nbformat": 4,
 "nbformat_minor": 4
}
