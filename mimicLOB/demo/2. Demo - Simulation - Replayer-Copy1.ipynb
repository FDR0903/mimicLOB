{
 "cells": [
  {
   "cell_type": "markdown",
   "metadata": {},
   "source": [
    "# Imports"
   ]
  },
  {
   "cell_type": "code",
   "execution_count": 1,
   "metadata": {},
   "outputs": [
    {
     "data": {
      "text/html": [
       "<style>.container { width:100% !important; }</style>"
      ],
      "text/plain": [
       "<IPython.core.display.HTML object>"
      ]
     },
     "metadata": {},
     "output_type": "display_data"
    }
   ],
   "source": [
    "# Imports\n",
    "from   IPython.display import display, HTML\n",
    "import os\n",
    "import h5py\n",
    "import pandas as pd, datetime as dt, numpy as np, matplotlib.pyplot as plt\n",
    "import seaborn as sns\n",
    "from   pandas.tseries.offsets import DateOffset\n",
    "import sys\n",
    "\n",
    "\n",
    "# Display options\n",
    "thisnotebooksys = sys.stdout\n",
    "pd.set_option('display.width', 1000)\n",
    "display(HTML(\"<style>.container { width:100% !important; }</style>\"))\n",
    "pd.set_option('mode.chained_assignment', None)"
   ]
  },
  {
   "cell_type": "code",
   "execution_count": 2,
   "metadata": {},
   "outputs": [],
   "source": [
    "import mimicLOB as lob\n",
    "from mimicLOB.orderbook.orderbook import OrderBook\n",
    "from mimicLOB.agent.replayerAgent import replayerAgent"
   ]
  },
  {
   "cell_type": "markdown",
   "metadata": {},
   "source": [
    "## LOB creation"
   ]
  },
  {
   "cell_type": "code",
   "execution_count": 3,
   "metadata": {},
   "outputs": [],
   "source": [
    "# b_tape = True means the LOB \n",
    "LOB = OrderBook(tick_size  = 0.5, \n",
    "                b_tape     = True,\n",
    "                b_tape_LOB = True,\n",
    "                verbose    = False)"
   ]
  },
  {
   "cell_type": "markdown",
   "metadata": {},
   "source": [
    "## Data\n",
    "\n",
    "- DTIME : le timestamp de l'ordre ;\n",
    "- ORDER_ID : l'identifiant de l'ordre (que tu peux suivre en cas de changement dans la journée) ;\n",
    "- PRICE \n",
    "- QTY\n",
    "- ORDER_SIDE\n",
    "- ITM : identifiant du trader\n",
    "- ORDER_SIDE\n",
    "- ORDER_TYPE :  <br>1 pour Market Order; <br>2 pour Limit Order; <br>q pour Quote <br> W pour Market On Open;\n",
    "- ORDER_DURATION\n",
    "- ACCOUNT_TYPE : type de client;\n",
    "- PRODUCT_NAME : le nom du future et donc la maturité;\n",
    "- SHORT_NAME : Maturité\n",
    "- MONTHS_TO_EXPIRY\n",
    "- INSTRUMENT_TYPE : F pour Future\n",
    "- ACTION_TYPE : <br> I = limit order insertion (passive); <br> C = limit order cacnellations; <br> R = replace order that lose priority; <br> r = replace order that keeps priority; <br> S = replace order that makes the order aggressive (give rise to trade); <br> T = aggressive order (give rise to trade)\n",
    "- MATCH_STRATEGY : True/False\n",
    "- IS_OPEN_TRADE :  True/False\n",
    "- BIDi, i=0,...,14 : prix bid à la i-ième limite du best bid\n",
    "- BIDi_QTY, i=0,...,14 : quantité à la i-ième limite du best bid\n",
    "- ASKi, i=0,...,14 : prix ask à la i-ième limite du best ask\n",
    "- ASKi_QTY, i=0,...,14 : quantité à la i-ième limite du best ask\n",
    "- SIGN : -1/1\n",
    "- FRONT : True/False"
   ]
  },
  {
   "cell_type": "code",
   "execution_count": 4,
   "metadata": {},
   "outputs": [
    {
     "data": {
      "text/html": [
       "<div>\n",
       "<style scoped>\n",
       "    .dataframe tbody tr th:only-of-type {\n",
       "        vertical-align: middle;\n",
       "    }\n",
       "\n",
       "    .dataframe tbody tr th {\n",
       "        vertical-align: top;\n",
       "    }\n",
       "\n",
       "    .dataframe thead th {\n",
       "        text-align: right;\n",
       "    }\n",
       "</style>\n",
       "<table border=\"1\" class=\"dataframe\">\n",
       "  <thead>\n",
       "    <tr style=\"text-align: right;\">\n",
       "      <th></th>\n",
       "      <th>DTIME</th>\n",
       "      <th>ORDER_ID</th>\n",
       "      <th>PRICE</th>\n",
       "      <th>QTY</th>\n",
       "      <th>ORDER_SIDE</th>\n",
       "      <th>ORDER_TYPE</th>\n",
       "      <th>ORDER_DURATION</th>\n",
       "      <th>ACTION_TYPE</th>\n",
       "      <th>MATCH_STRATEGY</th>\n",
       "      <th>IS_OPEN_TRADE</th>\n",
       "    </tr>\n",
       "  </thead>\n",
       "  <tbody>\n",
       "    <tr>\n",
       "      <td>1656551</td>\n",
       "      <td>2016-04-28 21:15:00.624695</td>\n",
       "      <td>434884337166781043</td>\n",
       "      <td>4424.0</td>\n",
       "      <td>110</td>\n",
       "      <td>B</td>\n",
       "      <td>2</td>\n",
       "      <td>6</td>\n",
       "      <td>C</td>\n",
       "      <td>False</td>\n",
       "      <td>False</td>\n",
       "    </tr>\n",
       "    <tr>\n",
       "      <td>1656552</td>\n",
       "      <td>2016-04-28 21:15:00.624707</td>\n",
       "      <td>434884337166791567</td>\n",
       "      <td>4410.0</td>\n",
       "      <td>1</td>\n",
       "      <td>B</td>\n",
       "      <td>2</td>\n",
       "      <td>6</td>\n",
       "      <td>C</td>\n",
       "      <td>False</td>\n",
       "      <td>False</td>\n",
       "    </tr>\n",
       "    <tr>\n",
       "      <td>1656553</td>\n",
       "      <td>2016-04-28 21:15:00.624892</td>\n",
       "      <td>434884337166868579</td>\n",
       "      <td>4500.0</td>\n",
       "      <td>1</td>\n",
       "      <td>S</td>\n",
       "      <td>2</td>\n",
       "      <td>6</td>\n",
       "      <td>C</td>\n",
       "      <td>False</td>\n",
       "      <td>False</td>\n",
       "    </tr>\n",
       "    <tr>\n",
       "      <td>1656554</td>\n",
       "      <td>2016-04-28 21:15:00.624901</td>\n",
       "      <td>434884337166950905</td>\n",
       "      <td>4519.0</td>\n",
       "      <td>10</td>\n",
       "      <td>S</td>\n",
       "      <td>2</td>\n",
       "      <td>6</td>\n",
       "      <td>C</td>\n",
       "      <td>False</td>\n",
       "      <td>False</td>\n",
       "    </tr>\n",
       "    <tr>\n",
       "      <td>1656555</td>\n",
       "      <td>2016-04-28 21:15:00.625726</td>\n",
       "      <td>434884337167238674</td>\n",
       "      <td>4354.5</td>\n",
       "      <td>2</td>\n",
       "      <td>B</td>\n",
       "      <td>2</td>\n",
       "      <td>6</td>\n",
       "      <td>C</td>\n",
       "      <td>False</td>\n",
       "      <td>False</td>\n",
       "    </tr>\n",
       "  </tbody>\n",
       "</table>\n",
       "</div>"
      ],
      "text/plain": [
       "                             DTIME            ORDER_ID   PRICE  QTY ORDER_SIDE ORDER_TYPE ORDER_DURATION ACTION_TYPE  MATCH_STRATEGY  IS_OPEN_TRADE\n",
       "1656551 2016-04-28 21:15:00.624695  434884337166781043  4424.0  110          B          2              6           C           False          False\n",
       "1656552 2016-04-28 21:15:00.624707  434884337166791567  4410.0    1          B          2              6           C           False          False\n",
       "1656553 2016-04-28 21:15:00.624892  434884337166868579  4500.0    1          S          2              6           C           False          False\n",
       "1656554 2016-04-28 21:15:00.624901  434884337166950905  4519.0   10          S          2              6           C           False          False\n",
       "1656555 2016-04-28 21:15:00.625726  434884337167238674  4354.5    2          B          2              6           C           False          False"
      ]
     },
     "execution_count": 4,
     "metadata": {},
     "output_type": "execute_result"
    }
   ],
   "source": [
    "df = pd.read_hdf(r'data\\day20160428.h5')\n",
    "\n",
    "# Filters\n",
    "ProductName = \"JFFCE160500000F\"\n",
    "cols = ['DTIME', 'ORDER_ID', 'PRICE', 'QTY', 'ORDER_SIDE', 'ORDER_TYPE',\n",
    "        'ORDER_DURATION', 'ACTION_TYPE', 'MATCH_STRATEGY', 'IS_OPEN_TRADE']\n",
    "\n",
    "# Filter \n",
    "df = df[df.PRODUCT_NAME==\"JFFCE160500000F\"]\n",
    "df = df[cols]\n",
    "\n",
    "#Vizu\n",
    "df.tail()"
   ]
  },
  {
   "cell_type": "code",
   "execution_count": 5,
   "metadata": {},
   "outputs": [
    {
     "data": {
      "text/html": [
       "<div>\n",
       "<style scoped>\n",
       "    .dataframe tbody tr th:only-of-type {\n",
       "        vertical-align: middle;\n",
       "    }\n",
       "\n",
       "    .dataframe tbody tr th {\n",
       "        vertical-align: top;\n",
       "    }\n",
       "\n",
       "    .dataframe thead th {\n",
       "        text-align: right;\n",
       "    }\n",
       "</style>\n",
       "<table border=\"1\" class=\"dataframe\">\n",
       "  <thead>\n",
       "    <tr style=\"text-align: right;\">\n",
       "      <th></th>\n",
       "      <th>DTIME</th>\n",
       "      <th>ORDER_ID</th>\n",
       "      <th>PRICE</th>\n",
       "      <th>QTY</th>\n",
       "      <th>ORDER_SIDE</th>\n",
       "      <th>ORDER_TYPE</th>\n",
       "      <th>ORDER_DURATION</th>\n",
       "      <th>ACTION_TYPE</th>\n",
       "      <th>MATCH_STRATEGY</th>\n",
       "      <th>IS_OPEN_TRADE</th>\n",
       "    </tr>\n",
       "  </thead>\n",
       "  <tbody>\n",
       "    <tr>\n",
       "      <td>24269</td>\n",
       "      <td>2016-04-28 07:30:22.142112</td>\n",
       "      <td>434884337166455340</td>\n",
       "      <td>4472.0</td>\n",
       "      <td>24</td>\n",
       "      <td>S</td>\n",
       "      <td>2</td>\n",
       "      <td>3</td>\n",
       "      <td>T</td>\n",
       "      <td>False</td>\n",
       "      <td>False</td>\n",
       "    </tr>\n",
       "  </tbody>\n",
       "</table>\n",
       "</div>"
      ],
      "text/plain": [
       "                           DTIME            ORDER_ID   PRICE  QTY ORDER_SIDE ORDER_TYPE ORDER_DURATION ACTION_TYPE  MATCH_STRATEGY  IS_OPEN_TRADE\n",
       "24269 2016-04-28 07:30:22.142112  434884337166455340  4472.0   24          S          2              3           T           False          False"
      ]
     },
     "execution_count": 5,
     "metadata": {},
     "output_type": "execute_result"
    }
   ],
   "source": [
    "df[df.ORDER_ID==434884337166455340]"
   ]
  },
  {
   "cell_type": "markdown",
   "metadata": {},
   "source": [
    "## Agent Creation"
   ]
  },
  {
   "cell_type": "code",
   "execution_count": 6,
   "metadata": {},
   "outputs": [],
   "source": [
    "myself_config = {'orderbook'        : LOB,\n",
    "                 'id'               : 'Fayçal',\n",
    "                 'b_record'         : False,\n",
    "                 'historicalOrders' : df}\n",
    "replayer = replayerAgent(**myself_config)"
   ]
  },
  {
   "cell_type": "markdown",
   "metadata": {},
   "source": [
    "## Replay orders\n",
    "\n",
    "Takes about 3min"
   ]
  },
  {
   "cell_type": "code",
   "execution_count": 7,
   "metadata": {},
   "outputs": [],
   "source": [
    "#log\n",
    "f = open('log.txt','w'); \n",
    "sys.stdout = f"
   ]
  },
  {
   "cell_type": "code",
   "execution_count": 8,
   "metadata": {
    "scrolled": false
   },
   "outputs": [
    {
     "ename": "KeyboardInterrupt",
     "evalue": "",
     "output_type": "error",
     "traceback": [
      "\u001b[1;31m---------------------------------------------------------------------------\u001b[0m",
      "\u001b[1;31mKeyboardInterrupt\u001b[0m                         Traceback (most recent call last)",
      "\u001b[1;32m<timed eval>\u001b[0m in \u001b[0;36m<module>\u001b[1;34m\u001b[0m\n",
      "\u001b[1;32m~\\OneDrive\\Documents\\FRDev\\mimicLOB\\mimicLOB\\agent\\replayerAgent.py\u001b[0m in \u001b[0;36mreplayOrders\u001b[1;34m(self)\u001b[0m\n\u001b[0;32m     58\u001b[0m \u001b[1;33m\u001b[0m\u001b[0m\n\u001b[0;32m     59\u001b[0m             \u001b[1;31m#replace order\u001b[0m\u001b[1;33m\u001b[0m\u001b[1;33m\u001b[0m\u001b[1;33m\u001b[0m\u001b[0m\n\u001b[1;32m---> 60\u001b[1;33m             \u001b[1;32melif\u001b[0m \u001b[1;33m(\u001b[0m\u001b[1;33m(\u001b[0m\u001b[0mself\u001b[0m\u001b[1;33m.\u001b[0m\u001b[0mhistoricalOrders\u001b[0m\u001b[1;33m.\u001b[0m\u001b[0mloc\u001b[0m\u001b[1;33m[\u001b[0m\u001b[0mi\u001b[0m\u001b[1;33m,\u001b[0m \u001b[1;34m'ACTION_TYPE'\u001b[0m\u001b[1;33m]\u001b[0m \u001b[1;33m==\u001b[0m \u001b[1;34m'R'\u001b[0m\u001b[1;33m)\u001b[0m \u001b[1;33m|\u001b[0m\u001b[1;33m(\u001b[0m\u001b[0mself\u001b[0m\u001b[1;33m.\u001b[0m\u001b[0mhistoricalOrders\u001b[0m\u001b[1;33m.\u001b[0m\u001b[0mloc\u001b[0m\u001b[1;33m[\u001b[0m\u001b[0mi\u001b[0m\u001b[1;33m,\u001b[0m \u001b[1;34m'ACTION_TYPE'\u001b[0m\u001b[1;33m]\u001b[0m \u001b[1;33m==\u001b[0m \u001b[1;34m'r'\u001b[0m\u001b[1;33m)\u001b[0m \u001b[1;33m|\u001b[0m\u001b[1;33m(\u001b[0m\u001b[0mself\u001b[0m\u001b[1;33m.\u001b[0m\u001b[0mhistoricalOrders\u001b[0m\u001b[1;33m.\u001b[0m\u001b[0mloc\u001b[0m\u001b[1;33m[\u001b[0m\u001b[0mi\u001b[0m\u001b[1;33m,\u001b[0m \u001b[1;34m'ACTION_TYPE'\u001b[0m\u001b[1;33m]\u001b[0m \u001b[1;33m==\u001b[0m \u001b[1;34m'S'\u001b[0m\u001b[1;33m)\u001b[0m\u001b[1;33m)\u001b[0m\u001b[1;33m:\u001b[0m\u001b[1;33m\u001b[0m\u001b[1;33m\u001b[0m\u001b[0m\n\u001b[0m\u001b[0;32m     61\u001b[0m                 \u001b[0mordertype\u001b[0m \u001b[1;33m=\u001b[0m \u001b[1;34m'market'\u001b[0m \u001b[1;32mif\u001b[0m \u001b[0mself\u001b[0m\u001b[1;33m.\u001b[0m\u001b[0mhistoricalOrders\u001b[0m\u001b[1;33m.\u001b[0m\u001b[0mloc\u001b[0m\u001b[1;33m[\u001b[0m\u001b[0mi\u001b[0m\u001b[1;33m,\u001b[0m \u001b[1;34m'ORDER_TYPE'\u001b[0m\u001b[1;33m]\u001b[0m\u001b[1;33m==\u001b[0m\u001b[1;36m1\u001b[0m \u001b[1;32melse\u001b[0m \u001b[1;34m'limit'\u001b[0m\u001b[1;33m\u001b[0m\u001b[1;33m\u001b[0m\u001b[0m\n\u001b[0;32m     62\u001b[0m                 \u001b[0mside\u001b[0m      \u001b[1;33m=\u001b[0m \u001b[1;34m'bid'\u001b[0m \u001b[1;32mif\u001b[0m \u001b[0mself\u001b[0m\u001b[1;33m.\u001b[0m\u001b[0mhistoricalOrders\u001b[0m\u001b[1;33m.\u001b[0m\u001b[0mloc\u001b[0m\u001b[1;33m[\u001b[0m\u001b[0mi\u001b[0m\u001b[1;33m,\u001b[0m \u001b[1;34m'ORDER_SIDE'\u001b[0m\u001b[1;33m]\u001b[0m\u001b[1;33m==\u001b[0m\u001b[1;34m'B'\u001b[0m \u001b[1;32melse\u001b[0m \u001b[1;34m'ask'\u001b[0m\u001b[1;33m\u001b[0m\u001b[1;33m\u001b[0m\u001b[0m\n",
      "\u001b[1;32m~\\Anaconda3\\lib\\site-packages\\pandas\\core\\indexing.py\u001b[0m in \u001b[0;36m__getitem__\u001b[1;34m(self, key)\u001b[0m\n\u001b[0;32m   1413\u001b[0m             \u001b[1;32mif\u001b[0m \u001b[0mself\u001b[0m\u001b[1;33m.\u001b[0m\u001b[0m_is_scalar_access\u001b[0m\u001b[1;33m(\u001b[0m\u001b[0mkey\u001b[0m\u001b[1;33m)\u001b[0m\u001b[1;33m:\u001b[0m\u001b[1;33m\u001b[0m\u001b[1;33m\u001b[0m\u001b[0m\n\u001b[0;32m   1414\u001b[0m                 \u001b[1;32mtry\u001b[0m\u001b[1;33m:\u001b[0m\u001b[1;33m\u001b[0m\u001b[1;33m\u001b[0m\u001b[0m\n\u001b[1;32m-> 1415\u001b[1;33m                     \u001b[1;32mreturn\u001b[0m \u001b[0mself\u001b[0m\u001b[1;33m.\u001b[0m\u001b[0m_getitem_scalar\u001b[0m\u001b[1;33m(\u001b[0m\u001b[0mkey\u001b[0m\u001b[1;33m)\u001b[0m\u001b[1;33m\u001b[0m\u001b[1;33m\u001b[0m\u001b[0m\n\u001b[0m\u001b[0;32m   1416\u001b[0m                 \u001b[1;32mexcept\u001b[0m \u001b[1;33m(\u001b[0m\u001b[0mKeyError\u001b[0m\u001b[1;33m,\u001b[0m \u001b[0mIndexError\u001b[0m\u001b[1;33m,\u001b[0m \u001b[0mAttributeError\u001b[0m\u001b[1;33m)\u001b[0m\u001b[1;33m:\u001b[0m\u001b[1;33m\u001b[0m\u001b[1;33m\u001b[0m\u001b[0m\n\u001b[0;32m   1417\u001b[0m                     \u001b[1;32mpass\u001b[0m\u001b[1;33m\u001b[0m\u001b[1;33m\u001b[0m\u001b[0m\n",
      "\u001b[1;32m~\\Anaconda3\\lib\\site-packages\\pandas\\core\\indexing.py\u001b[0m in \u001b[0;36m_getitem_scalar\u001b[1;34m(self, key)\u001b[0m\n\u001b[0;32m   1754\u001b[0m         \u001b[1;31m# a fast-path to scalar access\u001b[0m\u001b[1;33m\u001b[0m\u001b[1;33m\u001b[0m\u001b[1;33m\u001b[0m\u001b[0m\n\u001b[0;32m   1755\u001b[0m         \u001b[1;31m# if not, raise\u001b[0m\u001b[1;33m\u001b[0m\u001b[1;33m\u001b[0m\u001b[1;33m\u001b[0m\u001b[0m\n\u001b[1;32m-> 1756\u001b[1;33m         \u001b[0mvalues\u001b[0m \u001b[1;33m=\u001b[0m \u001b[0mself\u001b[0m\u001b[1;33m.\u001b[0m\u001b[0mobj\u001b[0m\u001b[1;33m.\u001b[0m\u001b[0m_get_value\u001b[0m\u001b[1;33m(\u001b[0m\u001b[1;33m*\u001b[0m\u001b[0mkey\u001b[0m\u001b[1;33m)\u001b[0m\u001b[1;33m\u001b[0m\u001b[1;33m\u001b[0m\u001b[0m\n\u001b[0m\u001b[0;32m   1757\u001b[0m         \u001b[1;32mreturn\u001b[0m \u001b[0mvalues\u001b[0m\u001b[1;33m\u001b[0m\u001b[1;33m\u001b[0m\u001b[0m\n\u001b[0;32m   1758\u001b[0m \u001b[1;33m\u001b[0m\u001b[0m\n",
      "\u001b[1;31mKeyboardInterrupt\u001b[0m: "
     ]
    }
   ],
   "source": [
    "%%time\n",
    "replayer.replayOrders()"
   ]
  },
  {
   "cell_type": "code",
   "execution_count": 9,
   "metadata": {},
   "outputs": [],
   "source": [
    "sys.stdout = thisnotebooksys"
   ]
  },
  {
   "cell_type": "code",
   "execution_count": 8,
   "metadata": {},
   "outputs": [],
   "source": [
    "# import xlwings\n",
    "# xlwings.view(df.iloc[0:1000000, :])\n",
    "# xlwings.view(df.iloc[1000001:, :])"
   ]
  },
  {
   "cell_type": "markdown",
   "metadata": {},
   "source": [
    "## Get the LOB state"
   ]
  },
  {
   "cell_type": "code",
   "execution_count": 26,
   "metadata": {
    "scrolled": false
   },
   "outputs": [],
   "source": [
    "LOBstate = replayer.getLOBState()"
   ]
  },
  {
   "cell_type": "code",
   "execution_count": 14,
   "metadata": {},
   "outputs": [
    {
     "data": {
      "text/plain": [
       "<matplotlib.axes._subplots.AxesSubplot at 0x1951ac8aac8>"
      ]
     },
     "execution_count": 14,
     "metadata": {},
     "output_type": "execute_result"
    },
    {
     "data": {
      "image/png": "[encoded data removed]",
      "text/plain": [
       "<Figure size 432x288 with 1 Axes>"
      ]
     },
     "metadata": {
      "needs_background": "light"
     },
     "output_type": "display_data"
    }
   ],
   "source": [
    "LOBstate.set_index('Price').sort_index().plot()"
   ]
  },
  {
   "cell_type": "code",
   "execution_count": 27,
   "metadata": {},
   "outputs": [
    {
     "data": {
      "image/png": "[encoded data removed]",
      "text/plain": [
       "<Figure size 1440x504 with 1 Axes>"
      ]
     },
     "metadata": {
      "needs_background": "light"
     },
     "output_type": "display_data"
    }
   ],
   "source": [
    "LOBstate_ = LOBstate.set_index('Price').sort_index()\n",
    "tick_size = float(LOB.tick_size)\n",
    "minPrice  = float(LOB.bids.min_price())\n",
    "maxPrice  = float(LOB.bids.max_price())\n",
    "# LOBstate_ = LOBstate_.reindex(np.arange(minPrice, maxPrice+tick_size, tick_size))\n",
    "LOBstate_.plot.bar(figsize=(20, 7))\n",
    "plt.show()"
   ]
  },
  {
   "cell_type": "markdown",
   "metadata": {},
   "source": [
    "## Get Price Tape"
   ]
  },
  {
   "cell_type": "code",
   "execution_count": 9,
   "metadata": {},
   "outputs": [
    {
     "data": {
      "text/plain": [
       "'open : 4503.0'"
      ]
     },
     "metadata": {},
     "output_type": "display_data"
    },
    {
     "data": {
      "text/plain": [
       "'high : 4514.0'"
      ]
     },
     "metadata": {},
     "output_type": "display_data"
    },
    {
     "data": {
      "text/plain": [
       "'low : 4436.5'"
      ]
     },
     "metadata": {},
     "output_type": "display_data"
    },
    {
     "data": {
      "text/plain": [
       "'close : 4444.0'"
      ]
     },
     "metadata": {},
     "output_type": "display_data"
    },
    {
     "data": {
      "image/png": "[encoded data removed]",
      "text/plain": [
       "<Figure size 1440x504 with 1 Axes>"
      ]
     },
     "metadata": {
      "needs_background": "light"
     },
     "output_type": "display_data"
    }
   ],
   "source": [
    "histoPrices = replayer.getPriceTape().astype(float)\n",
    "histoPrices.plot(figsize=(20,7))\n",
    "\n",
    "# OHLC\n",
    "display(f'open : {histoPrices.iloc[0,0]}')\n",
    "display(f'high : {histoPrices.max()[0]}')\n",
    "display(f'low : {histoPrices.min()[0]}')\n",
    "display(f'close : {histoPrices.iloc[-1, 0]}')\n",
    "\n",
    "plt.show()"
   ]
  },
  {
   "cell_type": "markdown",
   "metadata": {},
   "source": [
    "## Get Transaction Tape"
   ]
  },
  {
   "cell_type": "code",
   "execution_count": 17,
   "metadata": {},
   "outputs": [],
   "source": [
    "TransactionTape = replayer.getTransactionTape()"
   ]
  },
  {
   "cell_type": "code",
   "execution_count": 18,
   "metadata": {},
   "outputs": [
    {
     "data": {
      "text/html": [
       "<div>\n",
       "<style scoped>\n",
       "    .dataframe tbody tr th:only-of-type {\n",
       "        vertical-align: middle;\n",
       "    }\n",
       "\n",
       "    .dataframe tbody tr th {\n",
       "        vertical-align: top;\n",
       "    }\n",
       "\n",
       "    .dataframe thead th {\n",
       "        text-align: right;\n",
       "    }\n",
       "</style>\n",
       "<table border=\"1\" class=\"dataframe\">\n",
       "  <thead>\n",
       "    <tr style=\"text-align: right;\">\n",
       "      <th></th>\n",
       "      <th>time</th>\n",
       "      <th>party1_id</th>\n",
       "      <th>party1_side</th>\n",
       "      <th>party1_order_id</th>\n",
       "      <th>party2_id</th>\n",
       "      <th>party2_side</th>\n",
       "      <th>party2_order_id</th>\n",
       "      <th>traded_price</th>\n",
       "      <th>traded_quantity</th>\n",
       "    </tr>\n",
       "  </thead>\n",
       "  <tbody>\n",
       "    <tr>\n",
       "      <td>0</td>\n",
       "      <td>1586701087819171200</td>\n",
       "      <td>Fayçal</td>\n",
       "      <td>ask</td>\n",
       "      <td>434884337166434880</td>\n",
       "      <td>Fayçal</td>\n",
       "      <td>ask</td>\n",
       "      <td>434884337166434924</td>\n",
       "      <td>4503</td>\n",
       "      <td>1</td>\n",
       "    </tr>\n",
       "    <tr>\n",
       "      <td>1</td>\n",
       "      <td>1586701087824157900</td>\n",
       "      <td>Fayçal</td>\n",
       "      <td>bid</td>\n",
       "      <td>434884337166434943</td>\n",
       "      <td>Fayçal</td>\n",
       "      <td>bid</td>\n",
       "      <td>434884337166434964</td>\n",
       "      <td>4503.5</td>\n",
       "      <td>1</td>\n",
       "    </tr>\n",
       "    <tr>\n",
       "      <td>2</td>\n",
       "      <td>1586701087824157900</td>\n",
       "      <td>Fayçal</td>\n",
       "      <td>bid</td>\n",
       "      <td>434884337166434945</td>\n",
       "      <td>Fayçal</td>\n",
       "      <td>bid</td>\n",
       "      <td>434884337166434964</td>\n",
       "      <td>4501</td>\n",
       "      <td>1</td>\n",
       "    </tr>\n",
       "    <tr>\n",
       "      <td>3</td>\n",
       "      <td>1586701087824157900</td>\n",
       "      <td>Fayçal</td>\n",
       "      <td>bid</td>\n",
       "      <td>434884337166434941</td>\n",
       "      <td>Fayçal</td>\n",
       "      <td>bid</td>\n",
       "      <td>434884337166434964</td>\n",
       "      <td>4500</td>\n",
       "      <td>4</td>\n",
       "    </tr>\n",
       "    <tr>\n",
       "      <td>4</td>\n",
       "      <td>1586701087824157900</td>\n",
       "      <td>Fayçal</td>\n",
       "      <td>bid</td>\n",
       "      <td>434884337166434913</td>\n",
       "      <td>Fayçal</td>\n",
       "      <td>bid</td>\n",
       "      <td>434884337166434966</td>\n",
       "      <td>4496.5</td>\n",
       "      <td>6</td>\n",
       "    </tr>\n",
       "    <tr>\n",
       "      <td>...</td>\n",
       "      <td>...</td>\n",
       "      <td>...</td>\n",
       "      <td>...</td>\n",
       "      <td>...</td>\n",
       "      <td>...</td>\n",
       "      <td>...</td>\n",
       "      <td>...</td>\n",
       "      <td>...</td>\n",
       "      <td>...</td>\n",
       "    </tr>\n",
       "    <tr>\n",
       "      <td>18252</td>\n",
       "      <td>1586701103286312700</td>\n",
       "      <td>Fayçal</td>\n",
       "      <td>bid</td>\n",
       "      <td>434884337166479798</td>\n",
       "      <td>Fayçal</td>\n",
       "      <td>bid</td>\n",
       "      <td>434884337166508872</td>\n",
       "      <td>4462.5</td>\n",
       "      <td>1</td>\n",
       "    </tr>\n",
       "    <tr>\n",
       "      <td>18253</td>\n",
       "      <td>1586701103286312700</td>\n",
       "      <td>Fayçal</td>\n",
       "      <td>bid</td>\n",
       "      <td>434884337166479836</td>\n",
       "      <td>Fayçal</td>\n",
       "      <td>bid</td>\n",
       "      <td>434884337166508872</td>\n",
       "      <td>4462.5</td>\n",
       "      <td>2</td>\n",
       "    </tr>\n",
       "    <tr>\n",
       "      <td>18254</td>\n",
       "      <td>1586701103286312700</td>\n",
       "      <td>Fayçal</td>\n",
       "      <td>bid</td>\n",
       "      <td>434884337166479875</td>\n",
       "      <td>Fayçal</td>\n",
       "      <td>bid</td>\n",
       "      <td>434884337166508872</td>\n",
       "      <td>4462.5</td>\n",
       "      <td>1</td>\n",
       "    </tr>\n",
       "    <tr>\n",
       "      <td>18255</td>\n",
       "      <td>1586701103290302000</td>\n",
       "      <td>Fayçal</td>\n",
       "      <td>bid</td>\n",
       "      <td>434884337166479880</td>\n",
       "      <td>Fayçal</td>\n",
       "      <td>bid</td>\n",
       "      <td>434884337166508889</td>\n",
       "      <td>4462.5</td>\n",
       "      <td>1</td>\n",
       "    </tr>\n",
       "    <tr>\n",
       "      <td>18256</td>\n",
       "      <td>1586701103290302000</td>\n",
       "      <td>Fayçal</td>\n",
       "      <td>bid</td>\n",
       "      <td>434884337166479899</td>\n",
       "      <td>Fayçal</td>\n",
       "      <td>bid</td>\n",
       "      <td>434884337166508889</td>\n",
       "      <td>4462.5</td>\n",
       "      <td>1</td>\n",
       "    </tr>\n",
       "  </tbody>\n",
       "</table>\n",
       "<p>18257 rows × 9 columns</p>\n",
       "</div>"
      ],
      "text/plain": [
       "                      time party1_id party1_side     party1_order_id party2_id party2_side     party2_order_id traded_price traded_quantity\n",
       "0      1586701087819171200    Fayçal         ask  434884337166434880    Fayçal         ask  434884337166434924         4503               1\n",
       "1      1586701087824157900    Fayçal         bid  434884337166434943    Fayçal         bid  434884337166434964       4503.5               1\n",
       "2      1586701087824157900    Fayçal         bid  434884337166434945    Fayçal         bid  434884337166434964         4501               1\n",
       "3      1586701087824157900    Fayçal         bid  434884337166434941    Fayçal         bid  434884337166434964         4500               4\n",
       "4      1586701087824157900    Fayçal         bid  434884337166434913    Fayçal         bid  434884337166434966       4496.5               6\n",
       "...                    ...       ...         ...                 ...       ...         ...                 ...          ...             ...\n",
       "18252  1586701103286312700    Fayçal         bid  434884337166479798    Fayçal         bid  434884337166508872       4462.5               1\n",
       "18253  1586701103286312700    Fayçal         bid  434884337166479836    Fayçal         bid  434884337166508872       4462.5               2\n",
       "18254  1586701103286312700    Fayçal         bid  434884337166479875    Fayçal         bid  434884337166508872       4462.5               1\n",
       "18255  1586701103290302000    Fayçal         bid  434884337166479880    Fayçal         bid  434884337166508889       4462.5               1\n",
       "18256  1586701103290302000    Fayçal         bid  434884337166479899    Fayçal         bid  434884337166508889       4462.5               1\n",
       "\n",
       "[18257 rows x 9 columns]"
      ]
     },
     "execution_count": 18,
     "metadata": {},
     "output_type": "execute_result"
    }
   ],
   "source": [
    "TransactionTape"
   ]
  },
  {
   "cell_type": "code",
   "execution_count": 22,
   "metadata": {},
   "outputs": [
    {
     "data": {
      "text/html": [
       "<div>\n",
       "<style scoped>\n",
       "    .dataframe tbody tr th:only-of-type {\n",
       "        vertical-align: middle;\n",
       "    }\n",
       "\n",
       "    .dataframe tbody tr th {\n",
       "        vertical-align: top;\n",
       "    }\n",
       "\n",
       "    .dataframe thead th {\n",
       "        text-align: right;\n",
       "    }\n",
       "</style>\n",
       "<table border=\"1\" class=\"dataframe\">\n",
       "  <thead>\n",
       "    <tr style=\"text-align: right;\">\n",
       "      <th></th>\n",
       "      <th>DTIME</th>\n",
       "      <th>ORDER_ID</th>\n",
       "      <th>PRICE</th>\n",
       "      <th>QTY</th>\n",
       "      <th>ORDER_SIDE</th>\n",
       "      <th>ORDER_TYPE</th>\n",
       "      <th>ORDER_DURATION</th>\n",
       "      <th>ACTION_TYPE</th>\n",
       "      <th>MATCH_STRATEGY</th>\n",
       "      <th>IS_OPEN_TRADE</th>\n",
       "    </tr>\n",
       "  </thead>\n",
       "  <tbody>\n",
       "    <tr>\n",
       "      <td>130</td>\n",
       "      <td>2016-04-28 06:30:00.359595</td>\n",
       "      <td>434884337166434952</td>\n",
       "      <td>4466.5</td>\n",
       "      <td>25</td>\n",
       "      <td>B</td>\n",
       "      <td>2</td>\n",
       "      <td>0</td>\n",
       "      <td>I</td>\n",
       "      <td>False</td>\n",
       "      <td>False</td>\n",
       "    </tr>\n",
       "    <tr>\n",
       "      <td>230</td>\n",
       "      <td>2016-04-28 06:50:18.378401</td>\n",
       "      <td>434884337166434952</td>\n",
       "      <td>4421.5</td>\n",
       "      <td>25</td>\n",
       "      <td>B</td>\n",
       "      <td>2</td>\n",
       "      <td>0</td>\n",
       "      <td>R</td>\n",
       "      <td>False</td>\n",
       "      <td>False</td>\n",
       "    </tr>\n",
       "    <tr>\n",
       "      <td>15214</td>\n",
       "      <td>2016-04-28 07:15:21.437291</td>\n",
       "      <td>434884337166434952</td>\n",
       "      <td>4458.5</td>\n",
       "      <td>25</td>\n",
       "      <td>B</td>\n",
       "      <td>2</td>\n",
       "      <td>0</td>\n",
       "      <td>R</td>\n",
       "      <td>False</td>\n",
       "      <td>False</td>\n",
       "    </tr>\n",
       "  </tbody>\n",
       "</table>\n",
       "</div>"
      ],
      "text/plain": [
       "                           DTIME            ORDER_ID   PRICE  QTY ORDER_SIDE ORDER_TYPE ORDER_DURATION ACTION_TYPE  MATCH_STRATEGY  IS_OPEN_TRADE\n",
       "130   2016-04-28 06:30:00.359595  434884337166434952  4466.5   25          B          2              0           I           False          False\n",
       "230   2016-04-28 06:50:18.378401  434884337166434952  4421.5   25          B          2              0           R           False          False\n",
       "15214 2016-04-28 07:15:21.437291  434884337166434952  4458.5   25          B          2              0           R           False          False"
      ]
     },
     "execution_count": 22,
     "metadata": {},
     "output_type": "execute_result"
    }
   ],
   "source": [
    "df[df.ORDER_ID==434884337166434952]"
   ]
  },
  {
   "cell_type": "code",
   "execution_count": 25,
   "metadata": {},
   "outputs": [
    {
     "data": {
      "text/html": [
       "<div>\n",
       "<style scoped>\n",
       "    .dataframe tbody tr th:only-of-type {\n",
       "        vertical-align: middle;\n",
       "    }\n",
       "\n",
       "    .dataframe tbody tr th {\n",
       "        vertical-align: top;\n",
       "    }\n",
       "\n",
       "    .dataframe thead th {\n",
       "        text-align: right;\n",
       "    }\n",
       "</style>\n",
       "<table border=\"1\" class=\"dataframe\">\n",
       "  <thead>\n",
       "    <tr style=\"text-align: right;\">\n",
       "      <th></th>\n",
       "      <th>DTIME</th>\n",
       "      <th>ORDER_ID</th>\n",
       "      <th>PRICE</th>\n",
       "      <th>QTY</th>\n",
       "      <th>ORDER_SIDE</th>\n",
       "      <th>ORDER_TYPE</th>\n",
       "      <th>ORDER_DURATION</th>\n",
       "      <th>ACTION_TYPE</th>\n",
       "      <th>MATCH_STRATEGY</th>\n",
       "      <th>IS_OPEN_TRADE</th>\n",
       "    </tr>\n",
       "  </thead>\n",
       "  <tbody>\n",
       "    <tr>\n",
       "      <td>220</td>\n",
       "      <td>2016-04-28 06:49:56.115903</td>\n",
       "      <td>434884337166435018</td>\n",
       "      <td>4463.0</td>\n",
       "      <td>39</td>\n",
       "      <td>S</td>\n",
       "      <td>2</td>\n",
       "      <td>0</td>\n",
       "      <td>I</td>\n",
       "      <td>False</td>\n",
       "      <td>True</td>\n",
       "    </tr>\n",
       "  </tbody>\n",
       "</table>\n",
       "</div>"
      ],
      "text/plain": [
       "                         DTIME            ORDER_ID   PRICE  QTY ORDER_SIDE ORDER_TYPE ORDER_DURATION ACTION_TYPE  MATCH_STRATEGY  IS_OPEN_TRADE\n",
       "220 2016-04-28 06:49:56.115903  434884337166435018  4463.0   39          S          2              0           I           False           True"
      ]
     },
     "execution_count": 25,
     "metadata": {},
     "output_type": "execute_result"
    }
   ],
   "source": [
    "df[df.ORDER_ID==434884337166435018]"
   ]
  },
  {
   "cell_type": "code",
   "execution_count": 20,
   "metadata": {},
   "outputs": [
    {
     "data": {
      "text/html": [
       "<div>\n",
       "<style scoped>\n",
       "    .dataframe tbody tr th:only-of-type {\n",
       "        vertical-align: middle;\n",
       "    }\n",
       "\n",
       "    .dataframe tbody tr th {\n",
       "        vertical-align: top;\n",
       "    }\n",
       "\n",
       "    .dataframe thead th {\n",
       "        text-align: right;\n",
       "    }\n",
       "</style>\n",
       "<table border=\"1\" class=\"dataframe\">\n",
       "  <thead>\n",
       "    <tr style=\"text-align: right;\">\n",
       "      <th></th>\n",
       "      <th>time</th>\n",
       "      <th>party1_id</th>\n",
       "      <th>party1_side</th>\n",
       "      <th>party1_order_id</th>\n",
       "      <th>party2_id</th>\n",
       "      <th>party2_side</th>\n",
       "      <th>party2_order_id</th>\n",
       "      <th>traded_price</th>\n",
       "      <th>traded_quantity</th>\n",
       "    </tr>\n",
       "  </thead>\n",
       "  <tbody>\n",
       "    <tr>\n",
       "      <td>41</td>\n",
       "      <td>1586701087833133900</td>\n",
       "      <td>Fayçal</td>\n",
       "      <td>bid</td>\n",
       "      <td>434884337166434952</td>\n",
       "      <td>Fayçal</td>\n",
       "      <td>bid</td>\n",
       "      <td>434884337166435018</td>\n",
       "      <td>4466.5</td>\n",
       "      <td>25</td>\n",
       "    </tr>\n",
       "  </tbody>\n",
       "</table>\n",
       "</div>"
      ],
      "text/plain": [
       "                   time party1_id party1_side     party1_order_id party2_id party2_side     party2_order_id traded_price traded_quantity\n",
       "41  1586701087833133900    Fayçal         bid  434884337166434952    Fayçal         bid  434884337166435018       4466.5              25"
      ]
     },
     "execution_count": 20,
     "metadata": {},
     "output_type": "execute_result"
    }
   ],
   "source": [
    "TransactionTape[TransactionTape.party1_order_id==434884337166434952]"
   ]
  },
  {
   "cell_type": "code",
   "execution_count": 23,
   "metadata": {},
   "outputs": [
    {
     "data": {
      "text/html": [
       "<div>\n",
       "<style scoped>\n",
       "    .dataframe tbody tr th:only-of-type {\n",
       "        vertical-align: middle;\n",
       "    }\n",
       "\n",
       "    .dataframe tbody tr th {\n",
       "        vertical-align: top;\n",
       "    }\n",
       "\n",
       "    .dataframe thead th {\n",
       "        text-align: right;\n",
       "    }\n",
       "</style>\n",
       "<table border=\"1\" class=\"dataframe\">\n",
       "  <thead>\n",
       "    <tr style=\"text-align: right;\">\n",
       "      <th></th>\n",
       "      <th>time</th>\n",
       "      <th>party1_id</th>\n",
       "      <th>party1_side</th>\n",
       "      <th>party1_order_id</th>\n",
       "      <th>party2_id</th>\n",
       "      <th>party2_side</th>\n",
       "      <th>party2_order_id</th>\n",
       "      <th>traded_price</th>\n",
       "      <th>traded_quantity</th>\n",
       "    </tr>\n",
       "  </thead>\n",
       "  <tbody>\n",
       "    <tr>\n",
       "      <td>49</td>\n",
       "      <td>1586701087852083200</td>\n",
       "      <td>Fayçal</td>\n",
       "      <td>ask</td>\n",
       "      <td>434884337166435018</td>\n",
       "      <td>Fayçal</td>\n",
       "      <td>ask</td>\n",
       "      <td>434884337166435110</td>\n",
       "      <td>4463</td>\n",
       "      <td>3</td>\n",
       "    </tr>\n",
       "  </tbody>\n",
       "</table>\n",
       "</div>"
      ],
      "text/plain": [
       "                   time party1_id party1_side     party1_order_id party2_id party2_side     party2_order_id traded_price traded_quantity\n",
       "49  1586701087852083200    Fayçal         ask  434884337166435018    Fayçal         ask  434884337166435110         4463               3"
      ]
     },
     "execution_count": 23,
     "metadata": {},
     "output_type": "execute_result"
    }
   ],
   "source": [
    "TransactionTape[TransactionTape.party1_order_id==434884337166435018]"
   ]
  },
  {
   "cell_type": "code",
   "execution_count": null,
   "metadata": {},
   "outputs": [],
   "source": [
    "for trade in LOB.tape:\n",
    "    if trade['party2_order_id']==434884337166442982:\n",
    "        print(trade)\n",
    "        exit"
   ]
  },
  {
   "cell_type": "markdown",
   "metadata": {},
   "source": [
    "## Get LOB Tape \n",
    "\n",
    "The LOB tape is the state of the LOB before each order arrival"
   ]
  },
  {
   "cell_type": "code",
   "execution_count": 9,
   "metadata": {},
   "outputs": [],
   "source": [
    "LOBtape = replayer.getLOBTape()"
   ]
  },
  {
   "cell_type": "code",
   "execution_count": 10,
   "metadata": {},
   "outputs": [],
   "source": [
    "import xlwings \n",
    "xlwings.view(LOBtape.loc[0:10000,:])"
   ]
  },
  {
   "cell_type": "code",
   "execution_count": 13,
   "metadata": {},
   "outputs": [],
   "source": [
    "xlwings.view(df.loc[0:2000,:])"
   ]
  }
 ],
 "metadata": {
  "kernelspec": {
   "display_name": "Python 3",
   "language": "python",
   "name": "python3"
  },
  "language_info": {
   "codemirror_mode": {
    "name": "ipython",
    "version": 3
   },
   "file_extension": ".py",
   "mimetype": "text/x-python",
   "name": "python",
   "nbconvert_exporter": "python",
   "pygments_lexer": "ipython3",
   "version": "3.7.4"
  }
 },
 "nbformat": 4,
 "nbformat_minor": 4
}
