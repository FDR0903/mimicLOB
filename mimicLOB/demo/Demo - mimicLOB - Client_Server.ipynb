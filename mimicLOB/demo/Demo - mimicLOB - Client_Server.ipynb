{
 "cells": [
  {
   "cell_type": "markdown",
   "metadata": {},
   "source": [
    "# 0. mimic LOB\n",
    "\n",
    "Steps before running this notebook : \n",
    "1. Launch the server in the '5000' port by running the batch 'LaunchSERVER.cmd' and entering 5000 as port.\n",
    "2. Visit the server address to make sure the server is running\n",
    "\n",
    "# 1. Imports"
   ]
  },
  {
   "cell_type": "code",
   "execution_count": 1,
   "metadata": {},
   "outputs": [],
   "source": [
    "import mimicLOB as lob\n",
    "from mimicLOB.agent.genericAgent import genericAgent\n",
    "\n",
    "import matplotlib.pyplot as plt\n",
    "import numpy as np\n",
    "import pandas as pd\n",
    "from pprint import pprint\n",
    "\n",
    "# local server\n",
    "localserver = \"http://127.0.0.1:5000\"\n",
    "\n",
    "# distant server\n",
    "distantserver = \"http://mimiclob.appspot.com\"\n",
    "\n",
    "# Server used\n",
    "server = localserver"
   ]
  },
  {
   "cell_type": "markdown",
   "metadata": {},
   "source": [
    "# 2. Agents\n",
    "The agents is constantly connected to the distant LOB via the server address.\n",
    "\n",
    "#### Parameters :\n",
    "1. distant : if true, the agent must have the server address. If False, he should have the orderbook object passed in the configuration.\n",
    "2. server : when distant is True, the http address of the server the LOB is running on.\n",
    "3. id : optional, default is generic. the if is used in the transaction tape.\n",
    "4. b_record : optional, boolean, default is False. If True, the agent records all his activity : sent orders, executed trades, pending orders ...\n"
   ]
  },
  {
   "cell_type": "code",
   "execution_count": 2,
   "metadata": {},
   "outputs": [],
   "source": [
    "EURONEXT_config = {'distant' : True,\n",
    "                   'server'  : server,\n",
    "                   'id'      : 'market'}\n",
    "                 \n",
    "myself_config = {'distant' : True,\n",
    "                 'server'  : server,\n",
    "                 'id'      : 'Fayçal',\n",
    "                 'b_record': True}\n",
    "\n",
    "other_config = {'distant'  : True,\n",
    "                'server'   : server,\n",
    "                'id'       : 'Olivier'}\n",
    "\n",
    "euronext = genericAgent(**EURONEXT_config)\n",
    "myself   = genericAgent(**myself_config)\n",
    "other    = genericAgent(**other_config)"
   ]
  },
  {
   "cell_type": "markdown",
   "metadata": {},
   "source": [
    "# 3. Get the LOB state\n",
    "Either agents have access to LOB information"
   ]
  },
  {
   "cell_type": "code",
   "execution_count": 3,
   "metadata": {},
   "outputs": [
    {
     "data": {
      "text/plain": [
       "'tick size : 1'"
      ]
     },
     "metadata": {},
     "output_type": "display_data"
    }
   ],
   "source": [
    "LOBstate = myself.getLOBState()\n",
    "tickSize =  myself.getTickSize()\n",
    "display(f'tick size : {tickSize}')\n",
    "if type(LOBstate) == pd.DataFrame:\n",
    "    if len(LOBstate) >0 :\n",
    "        LOBstate = LOBstate.set_index('Price').sort_index()\n",
    "        minPrice = LOBstate.index[0]\n",
    "        maxPrice = LOBstate.index[-1]\n",
    "        LOBstate = LOBstate.reindex(range(minPrice, maxPrice+tickSize, tickSize))\n",
    "        LOBstate.plot.bar(figsize=(20, 7))\n",
    "else:\n",
    "    display(LOBstate)"
   ]
  },
  {
   "cell_type": "markdown",
   "metadata": {},
   "source": [
    "# 4. Send orders"
   ]
  },
  {
   "cell_type": "markdown",
   "metadata": {},
   "source": [
    "#### limit sell order @101 & limit buy order @99\n",
    "Check the LOB state afterwards"
   ]
  },
  {
   "cell_type": "code",
   "execution_count": 4,
   "metadata": {
    "scrolled": false
   },
   "outputs": [
    {
     "name": "stdout",
     "output_type": "stream",
     "text": [
      "Sent orders : \n"
     ]
    },
    {
     "data": {
      "text/html": [
       "<div>\n",
       "<style scoped>\n",
       "    .dataframe tbody tr th:only-of-type {\n",
       "        vertical-align: middle;\n",
       "    }\n",
       "\n",
       "    .dataframe tbody tr th {\n",
       "        vertical-align: top;\n",
       "    }\n",
       "\n",
       "    .dataframe thead th {\n",
       "        text-align: right;\n",
       "    }\n",
       "</style>\n",
       "<table border=\"1\" class=\"dataframe\">\n",
       "  <thead>\n",
       "    <tr style=\"text-align: right;\">\n",
       "      <th></th>\n",
       "      <th>type</th>\n",
       "      <th>side</th>\n",
       "      <th>quantity</th>\n",
       "      <th>price</th>\n",
       "      <th>trader_id</th>\n",
       "    </tr>\n",
       "  </thead>\n",
       "  <tbody>\n",
       "    <tr>\n",
       "      <td>0</td>\n",
       "      <td>limit</td>\n",
       "      <td>ask</td>\n",
       "      <td>100</td>\n",
       "      <td>101</td>\n",
       "      <td>Fayçal</td>\n",
       "    </tr>\n",
       "    <tr>\n",
       "      <td>1</td>\n",
       "      <td>limit</td>\n",
       "      <td>bid</td>\n",
       "      <td>100</td>\n",
       "      <td>100</td>\n",
       "      <td>Fayçal</td>\n",
       "    </tr>\n",
       "  </tbody>\n",
       "</table>\n",
       "</div>"
      ],
      "text/plain": [
       "    type side quantity price trader_id\n",
       "0  limit  ask      100   101    Fayçal\n",
       "1  limit  bid      100   100    Fayçal"
      ]
     },
     "metadata": {},
     "output_type": "display_data"
    },
    {
     "name": "stdout",
     "output_type": "stream",
     "text": [
      "\n",
      "\n",
      "Pending orders (Orders that are still in the LOB) : \n"
     ]
    },
    {
     "data": {
      "text/html": [
       "<div>\n",
       "<style scoped>\n",
       "    .dataframe tbody tr th:only-of-type {\n",
       "        vertical-align: middle;\n",
       "    }\n",
       "\n",
       "    .dataframe tbody tr th {\n",
       "        vertical-align: top;\n",
       "    }\n",
       "\n",
       "    .dataframe thead th {\n",
       "        text-align: right;\n",
       "    }\n",
       "</style>\n",
       "<table border=\"1\" class=\"dataframe\">\n",
       "  <thead>\n",
       "    <tr style=\"text-align: right;\">\n",
       "      <th></th>\n",
       "      <th>order_id</th>\n",
       "      <th>price</th>\n",
       "      <th>quantity</th>\n",
       "      <th>side</th>\n",
       "      <th>timestamp</th>\n",
       "      <th>trader_id</th>\n",
       "      <th>type</th>\n",
       "    </tr>\n",
       "  </thead>\n",
       "  <tbody>\n",
       "    <tr>\n",
       "      <td>1</td>\n",
       "      <td>1</td>\n",
       "      <td>101</td>\n",
       "      <td>100</td>\n",
       "      <td>ask</td>\n",
       "      <td>1586599869327736600</td>\n",
       "      <td>Fayçal</td>\n",
       "      <td>limit</td>\n",
       "    </tr>\n",
       "    <tr>\n",
       "      <td>2</td>\n",
       "      <td>2</td>\n",
       "      <td>100</td>\n",
       "      <td>100</td>\n",
       "      <td>bid</td>\n",
       "      <td>1586599869332005800</td>\n",
       "      <td>Fayçal</td>\n",
       "      <td>limit</td>\n",
       "    </tr>\n",
       "  </tbody>\n",
       "</table>\n",
       "</div>"
      ],
      "text/plain": [
       "  order_id price quantity side            timestamp trader_id   type\n",
       "1        1   101      100  ask  1586599869327736600    Fayçal  limit\n",
       "2        2   100      100  bid  1586599869332005800    Fayçal  limit"
      ]
     },
     "metadata": {},
     "output_type": "display_data"
    },
    {
     "name": "stdout",
     "output_type": "stream",
     "text": [
      "\n",
      "\n",
      "Executed Trades : \n"
     ]
    },
    {
     "data": {
      "text/html": [
       "<div>\n",
       "<style scoped>\n",
       "    .dataframe tbody tr th:only-of-type {\n",
       "        vertical-align: middle;\n",
       "    }\n",
       "\n",
       "    .dataframe tbody tr th {\n",
       "        vertical-align: top;\n",
       "    }\n",
       "\n",
       "    .dataframe thead th {\n",
       "        text-align: right;\n",
       "    }\n",
       "</style>\n",
       "<table border=\"1\" class=\"dataframe\">\n",
       "  <thead>\n",
       "    <tr style=\"text-align: right;\">\n",
       "      <th></th>\n",
       "    </tr>\n",
       "  </thead>\n",
       "  <tbody>\n",
       "  </tbody>\n",
       "</table>\n",
       "</div>"
      ],
      "text/plain": [
       "Empty DataFrame\n",
       "Columns: []\n",
       "Index: []"
      ]
     },
     "metadata": {},
     "output_type": "display_data"
    }
   ],
   "source": [
    "# Send Orders\n",
    "myself.send_sell_limit_order(quantity = 100,\n",
    "                             price    = 101)\n",
    "\n",
    "myself.send_buy_limit_order(quantity = 100,\n",
    "                             price    = 100)\n",
    "print('Sent orders : ')\n",
    "display(pd.DataFrame.from_dict(myself.sentorders).T)\n",
    "\n",
    "print('\\n\\nPending orders (Orders that are still in the LOB) : ')\n",
    "display(pd.DataFrame.from_dict(myself.pendingorders).T)\n",
    "\n",
    "print('\\n\\nExecuted Trades : ')\n",
    "display(pd.DataFrame.from_dict(myself.executedtrades).T)"
   ]
  },
  {
   "cell_type": "markdown",
   "metadata": {},
   "source": [
    "#### match orders\n",
    "'Other' will sell 50 at 100. A transaction will happen."
   ]
  },
  {
   "cell_type": "code",
   "execution_count": 5,
   "metadata": {},
   "outputs": [
    {
     "name": "stdout",
     "output_type": "stream",
     "text": [
      "Sent orders : \n"
     ]
    },
    {
     "data": {
      "text/html": [
       "<div>\n",
       "<style scoped>\n",
       "    .dataframe tbody tr th:only-of-type {\n",
       "        vertical-align: middle;\n",
       "    }\n",
       "\n",
       "    .dataframe tbody tr th {\n",
       "        vertical-align: top;\n",
       "    }\n",
       "\n",
       "    .dataframe thead th {\n",
       "        text-align: right;\n",
       "    }\n",
       "</style>\n",
       "<table border=\"1\" class=\"dataframe\">\n",
       "  <thead>\n",
       "    <tr style=\"text-align: right;\">\n",
       "      <th></th>\n",
       "      <th>type</th>\n",
       "      <th>side</th>\n",
       "      <th>quantity</th>\n",
       "      <th>price</th>\n",
       "      <th>trader_id</th>\n",
       "    </tr>\n",
       "  </thead>\n",
       "  <tbody>\n",
       "    <tr>\n",
       "      <td>0</td>\n",
       "      <td>limit</td>\n",
       "      <td>ask</td>\n",
       "      <td>100</td>\n",
       "      <td>101</td>\n",
       "      <td>Fayçal</td>\n",
       "    </tr>\n",
       "    <tr>\n",
       "      <td>1</td>\n",
       "      <td>limit</td>\n",
       "      <td>bid</td>\n",
       "      <td>100</td>\n",
       "      <td>100</td>\n",
       "      <td>Fayçal</td>\n",
       "    </tr>\n",
       "  </tbody>\n",
       "</table>\n",
       "</div>"
      ],
      "text/plain": [
       "    type side quantity price trader_id\n",
       "0  limit  ask      100   101    Fayçal\n",
       "1  limit  bid      100   100    Fayçal"
      ]
     },
     "metadata": {},
     "output_type": "display_data"
    },
    {
     "name": "stdout",
     "output_type": "stream",
     "text": [
      "\n",
      "\n",
      "Pending orders (Orders that are still in the LOB) : \n"
     ]
    },
    {
     "data": {
      "text/html": [
       "<div>\n",
       "<style scoped>\n",
       "    .dataframe tbody tr th:only-of-type {\n",
       "        vertical-align: middle;\n",
       "    }\n",
       "\n",
       "    .dataframe tbody tr th {\n",
       "        vertical-align: top;\n",
       "    }\n",
       "\n",
       "    .dataframe thead th {\n",
       "        text-align: right;\n",
       "    }\n",
       "</style>\n",
       "<table border=\"1\" class=\"dataframe\">\n",
       "  <thead>\n",
       "    <tr style=\"text-align: right;\">\n",
       "      <th></th>\n",
       "      <th>order_id</th>\n",
       "      <th>price</th>\n",
       "      <th>quantity</th>\n",
       "      <th>side</th>\n",
       "      <th>timestamp</th>\n",
       "      <th>trader_id</th>\n",
       "      <th>type</th>\n",
       "    </tr>\n",
       "  </thead>\n",
       "  <tbody>\n",
       "    <tr>\n",
       "      <td>1</td>\n",
       "      <td>1</td>\n",
       "      <td>101</td>\n",
       "      <td>100</td>\n",
       "      <td>ask</td>\n",
       "      <td>1586599869327736600</td>\n",
       "      <td>Fayçal</td>\n",
       "      <td>limit</td>\n",
       "    </tr>\n",
       "    <tr>\n",
       "      <td>2</td>\n",
       "      <td>2</td>\n",
       "      <td>100</td>\n",
       "      <td>100</td>\n",
       "      <td>bid</td>\n",
       "      <td>1586599869332005800</td>\n",
       "      <td>Fayçal</td>\n",
       "      <td>limit</td>\n",
       "    </tr>\n",
       "  </tbody>\n",
       "</table>\n",
       "</div>"
      ],
      "text/plain": [
       "  order_id price quantity side            timestamp trader_id   type\n",
       "1        1   101      100  ask  1586599869327736600    Fayçal  limit\n",
       "2        2   100      100  bid  1586599869332005800    Fayçal  limit"
      ]
     },
     "metadata": {},
     "output_type": "display_data"
    },
    {
     "name": "stdout",
     "output_type": "stream",
     "text": [
      "\n",
      "\n",
      "Executed Trades : \n"
     ]
    },
    {
     "data": {
      "text/html": [
       "<div>\n",
       "<style scoped>\n",
       "    .dataframe tbody tr th:only-of-type {\n",
       "        vertical-align: middle;\n",
       "    }\n",
       "\n",
       "    .dataframe tbody tr th {\n",
       "        vertical-align: top;\n",
       "    }\n",
       "\n",
       "    .dataframe thead th {\n",
       "        text-align: right;\n",
       "    }\n",
       "</style>\n",
       "<table border=\"1\" class=\"dataframe\">\n",
       "  <thead>\n",
       "    <tr style=\"text-align: right;\">\n",
       "      <th></th>\n",
       "    </tr>\n",
       "  </thead>\n",
       "  <tbody>\n",
       "  </tbody>\n",
       "</table>\n",
       "</div>"
      ],
      "text/plain": [
       "Empty DataFrame\n",
       "Columns: []\n",
       "Index: []"
      ]
     },
     "metadata": {},
     "output_type": "display_data"
    }
   ],
   "source": [
    "other.send_sell_limit_order(quantity = 50,\n",
    "                             price    = 100)\n",
    "\n",
    "print('Sent orders : ')\n",
    "display(pd.DataFrame.from_dict(myself.sentorders).T)\n",
    "\n",
    "print('\\n\\nPending orders (Orders that are still in the LOB) : ')\n",
    "display(pd.DataFrame.from_dict(myself.pendingorders).T)\n",
    "\n",
    "print('\\n\\nExecuted Trades : ')\n",
    "display(pd.DataFrame.from_dict(myself.executedtrades).T)"
   ]
  },
  {
   "cell_type": "code",
   "execution_count": 7,
   "metadata": {},
   "outputs": [
    {
     "data": {
      "text/plain": [
       "SortedDict({1: {'order_id': 1, 'price': 101, 'quantity': 100, 'side': 'ask', 'timestamp': 1586599869327736600, 'trader_id': 'Fayçal', 'type': 'limit'}, 2: {'order_id': 2, 'price': 100, 'quantity': 100, 'side': 'bid', 'timestamp': 1586599869332005800, 'trader_id': 'Fayçal', 'type': 'limit'}})"
      ]
     },
     "execution_count": 7,
     "metadata": {},
     "output_type": "execute_result"
    }
   ],
   "source": [
    "other.executedtrades"
   ]
  },
  {
   "cell_type": "markdown",
   "metadata": {},
   "source": [
    "# 5. Modify orders\n",
    "\n",
    "Rules for modification : \n",
    "1. If the order is already executed : no new order\n",
    "2. If the quantity is reduced : the order looses priority  \n",
    "3. If the price is changed : the order looses priority\n",
    "4. If the quantity is raised : the order keeps priority\n",
    "\n",
    "Rules for cancellation :\n",
    "1. If the order is already executed : no order cancellation"
   ]
  },
  {
   "cell_type": "markdown",
   "metadata": {},
   "source": [
    "#### Cancel an order"
   ]
  },
  {
   "cell_type": "code",
   "execution_count": 30,
   "metadata": {},
   "outputs": [
    {
     "name": "stdout",
     "output_type": "stream",
     "text": [
      "\n",
      "\n",
      "Pending orders (Orders that are still in the LOB) : \n"
     ]
    },
    {
     "data": {
      "text/html": [
       "<div>\n",
       "<style scoped>\n",
       "    .dataframe tbody tr th:only-of-type {\n",
       "        vertical-align: middle;\n",
       "    }\n",
       "\n",
       "    .dataframe tbody tr th {\n",
       "        vertical-align: top;\n",
       "    }\n",
       "\n",
       "    .dataframe thead th {\n",
       "        text-align: right;\n",
       "    }\n",
       "</style>\n",
       "<table border=\"1\" class=\"dataframe\">\n",
       "  <thead>\n",
       "    <tr style=\"text-align: right;\">\n",
       "      <th></th>\n",
       "      <th>order_id</th>\n",
       "      <th>price</th>\n",
       "      <th>quantity</th>\n",
       "      <th>side</th>\n",
       "      <th>timestamp</th>\n",
       "      <th>trader_id</th>\n",
       "      <th>type</th>\n",
       "    </tr>\n",
       "  </thead>\n",
       "  <tbody>\n",
       "    <tr>\n",
       "      <td>4</td>\n",
       "      <td>4</td>\n",
       "      <td>101</td>\n",
       "      <td>100</td>\n",
       "      <td>ask</td>\n",
       "      <td>1586539147009621700</td>\n",
       "      <td>Fayçal</td>\n",
       "      <td>limit</td>\n",
       "    </tr>\n",
       "    <tr>\n",
       "      <td>5</td>\n",
       "      <td>5</td>\n",
       "      <td>100</td>\n",
       "      <td>100</td>\n",
       "      <td>bid</td>\n",
       "      <td>1586539147014609400</td>\n",
       "      <td>Fayçal</td>\n",
       "      <td>limit</td>\n",
       "    </tr>\n",
       "    <tr>\n",
       "      <td>6</td>\n",
       "      <td>6</td>\n",
       "      <td>101</td>\n",
       "      <td>100</td>\n",
       "      <td>ask</td>\n",
       "      <td>1586539182272586300</td>\n",
       "      <td>Fayçal</td>\n",
       "      <td>limit</td>\n",
       "    </tr>\n",
       "    <tr>\n",
       "      <td>7</td>\n",
       "      <td>7</td>\n",
       "      <td>100</td>\n",
       "      <td>100</td>\n",
       "      <td>bid</td>\n",
       "      <td>1586539182277572500</td>\n",
       "      <td>Fayçal</td>\n",
       "      <td>limit</td>\n",
       "    </tr>\n",
       "  </tbody>\n",
       "</table>\n",
       "</div>"
      ],
      "text/plain": [
       "  order_id price quantity side            timestamp trader_id   type\n",
       "4        4   101      100  ask  1586539147009621700    Fayçal  limit\n",
       "5        5   100      100  bid  1586539147014609400    Fayçal  limit\n",
       "6        6   101      100  ask  1586539182272586300    Fayçal  limit\n",
       "7        7   100      100  bid  1586539182277572500    Fayçal  limit"
      ]
     },
     "metadata": {},
     "output_type": "display_data"
    }
   ],
   "source": [
    "print('\\n\\nPending orders (Orders that are still in the LOB) : ')\n",
    "display(pd.DataFrame.from_dict(myself.pendingorders).T)"
   ]
  },
  {
   "cell_type": "code",
   "execution_count": 29,
   "metadata": {},
   "outputs": [
    {
     "data": {
      "text/plain": [
       "'CANCELED'"
      ]
     },
     "execution_count": 29,
     "metadata": {},
     "output_type": "execute_result"
    }
   ],
   "source": [
    "myself.cancelOrder('ask', 5)"
   ]
  },
  {
   "cell_type": "markdown",
   "metadata": {},
   "source": [
    "#### modify an order"
   ]
  },
  {
   "cell_type": "code",
   "execution_count": null,
   "metadata": {},
   "outputs": [],
   "source": [
    "\n",
    "myself.modifyOrder('ask', 5)"
   ]
  },
  {
   "cell_type": "code",
   "execution_count": null,
   "metadata": {},
   "outputs": [],
   "source": [
    "print('\\n\\nPending orders (Orders that are still in the LOB) : ')\n",
    "display(pd.DataFrame.from_dict(myself.pendingorders).T)"
   ]
  },
  {
   "cell_type": "markdown",
   "metadata": {},
   "source": [
    "# 6. Modify The LOB\n",
    "One agent type (market) can reset the LOB, dump the tape, and modify the LOB properties \n",
    "#### Change tick size"
   ]
  },
  {
   "cell_type": "code",
   "execution_count": null,
   "metadata": {},
   "outputs": [],
   "source": []
  },
  {
   "cell_type": "markdown",
   "metadata": {},
   "source": [
    "#### Remove all pending orders"
   ]
  },
  {
   "cell_type": "code",
   "execution_count": null,
   "metadata": {},
   "outputs": [],
   "source": []
  },
  {
   "cell_type": "markdown",
   "metadata": {},
   "source": [
    "#### Remove orders and transactions"
   ]
  },
  {
   "cell_type": "code",
   "execution_count": 14,
   "metadata": {},
   "outputs": [
    {
     "data": {
      "text/plain": [
       "'DONE'"
      ]
     },
     "execution_count": 14,
     "metadata": {},
     "output_type": "execute_result"
    }
   ],
   "source": [
    "euronext.resetLOB()"
   ]
  },
  {
   "cell_type": "markdown",
   "metadata": {},
   "source": [
    "#### limit buy orders @100 & 99 & 94"
   ]
  },
  {
   "cell_type": "code",
   "execution_count": 65,
   "metadata": {},
   "outputs": [
    {
     "data": {
      "text/plain": [
       "'SENT'"
      ]
     },
     "metadata": {},
     "output_type": "display_data"
    },
    {
     "data": {
      "text/plain": [
       "'SENT'"
      ]
     },
     "metadata": {},
     "output_type": "display_data"
    },
    {
     "data": {
      "text/plain": [
       "'SENT'"
      ]
     },
     "metadata": {},
     "output_type": "display_data"
    }
   ],
   "source": [
    "limitbuyorders =  [{'type'      : 'limit', \n",
    "                   'side'      : 'bid', \n",
    "                   'quantity'  : 50,\n",
    "                   'price'     : 100,\n",
    "                   'trader_id'  : 2},\n",
    "                  {'type'      : 'limit', \n",
    "                   'side'      : 'bid', \n",
    "                   'quantity'  : 50,\n",
    "                   'price'     : 99,\n",
    "                   'trader_id'  : 3},\n",
    "                  {'type'      : 'limit', \n",
    "                   'side'      : 'bid', \n",
    "                   'quantity'  : 50,\n",
    "                   'price'     : 94,\n",
    "                   'trader_id'  : 4}]\n",
    "for order_ in limitbuyorders:\n",
    "    response = requests.get(f\"{server}/sendOrder\", \n",
    "                            json=order_).json()\n",
    "    trades        = response['trades']\n",
    "    pendingOrders = response['pendingOrders']\n",
    "    if pendingOrders is not None:\n",
    "        pendingtrades[pendingOrders['order_id']] = pendingOrders\n",
    "    if trades is not None:\n",
    "        for trade in trades:\n",
    "            executedtrades[trade['party2'][0]] = trade  \n",
    "    display(response['status'])"
   ]
  },
  {
   "cell_type": "code",
   "execution_count": 66,
   "metadata": {
    "scrolled": false
   },
   "outputs": [
    {
     "data": {
      "text/plain": [
       "'SENT'"
      ]
     },
     "execution_count": 66,
     "metadata": {},
     "output_type": "execute_result"
    }
   ],
   "source": [
    "# This one will be executed, and some orders will remain in the book\n",
    "Marketablelimitbuyorder =  {'type'     : 'limit', \n",
    "                           'side'      : 'bid', \n",
    "                           'quantity'  : 150,\n",
    "                           'price'     : 101,\n",
    "                           'trader_id'  : 521}\n",
    "\n",
    "response      = requests.get(f\"{server}/sendOrder\", \n",
    "                        json=Marketablelimitbuyorder).json()\n",
    "trades        = response['trades']\n",
    "pendingOrders = response['pendingOrders']\n",
    "if pendingOrders is not None:\n",
    "    pendingtrades[pendingOrders['order_id']] = pendingOrders\n",
    "if trades is not None:\n",
    "    for trade in trades:\n",
    "        executedtrades[trade['party2'][0]] = trade       \n",
    "response['status']  "
   ]
  },
  {
   "cell_type": "code",
   "execution_count": 67,
   "metadata": {},
   "outputs": [
    {
     "data": {
      "text/plain": [
       "'SENT'"
      ]
     },
     "execution_count": 67,
     "metadata": {},
     "output_type": "execute_result"
    }
   ],
   "source": [
    "# This one will be executed, and some orders will remain in the book\n",
    "Marketablelimitsellorder =  {'type'     : 'limit', \n",
    "                           'side'      : 'ask', \n",
    "                           'quantity'  : 100,\n",
    "                           'price'     : 101,\n",
    "                           'trader_id'  : 522}\n",
    "\n",
    "response      = requests.get(f\"{server}/sendOrder\", \n",
    "                        json=Marketablelimitsellorder).json()\n",
    "trades        = response['trades']\n",
    "pendingOrders = response['pendingOrders']\n",
    "if pendingOrders is not None:\n",
    "    pendingtrades[pendingOrders['order_id']] = pendingOrders\n",
    "if trades is not None:\n",
    "    for trade in trades:\n",
    "        executedtrades[trade['party2'][0]] = trade     \n",
    "response['status']   "
   ]
  },
  {
   "cell_type": "code",
   "execution_count": 68,
   "metadata": {},
   "outputs": [
    {
     "name": "stdout",
     "output_type": "stream",
     "text": [
      "{521: {'party1': [0, 'ask', 1, None],\n",
      "       'party2': [521, 'bid', None, None],\n",
      "       'price': 101,\n",
      "       'quantity': 100,\n",
      "       'time': 6,\n",
      "       'timestamp': 6},\n",
      " 522: {'party1': [521, 'bid', 6, None],\n",
      "       'party2': [522, 'ask', None, None],\n",
      "       'price': 101,\n",
      "       'quantity': 50,\n",
      "       'time': 7,\n",
      "       'timestamp': 7}}\n"
     ]
    }
   ],
   "source": [
    "pprint(executedtrades)"
   ]
  },
  {
   "cell_type": "markdown",
   "metadata": {},
   "source": [
    " # Cancel orders if they are too far away"
   ]
  },
  {
   "cell_type": "code",
   "execution_count": 73,
   "metadata": {},
   "outputs": [
    {
     "name": "stdout",
     "output_type": "stream",
     "text": [
      "CANCELING : \n",
      "{'order_id': 5,\n",
      " 'price': 94,\n",
      " 'quantity': 50,\n",
      " 'side': 'bid',\n",
      " 'timestamp': 5,\n",
      " 'trader_id': 4,\n",
      " 'type': 'limit'}\n"
     ]
    },
    {
     "data": {
      "text/plain": [
       "'CANCELED'"
      ]
     },
     "metadata": {},
     "output_type": "display_data"
    }
   ],
   "source": [
    "# tick size\n",
    "tickSize = requests.get(f\"{server}/getticksize\").json()['ticksize']\n",
    "keys_ = pendingtrades.keys()\n",
    "for key_ in keys_:\n",
    "    order = pendingtrades[key_]\n",
    "    \n",
    "    # if they are executed    \n",
    "    #if they too far away\n",
    "    side = order['side']\n",
    "    price = order['price']\n",
    "    \n",
    "    \n",
    "    # best price at side\n",
    "    if side == 'bid':\n",
    "        bestPrice = requests.get(f\"{server}/getbestbid\").json()['bestbid']\n",
    "    else:\n",
    "        bestPrice = requests.get(f\"{server}/getbestask\").json()['bestask']\n",
    "    \n",
    "    # if best price < 3 * tickSize, cancel\n",
    "    if (((side=='bid') & (price < bestPrice - 3*tickSize)) | ((side=='ask') & (price > bestPrice + 3*tickSize))):\n",
    "            print('CANCELING : ')\n",
    "            pprint(order)\n",
    "            params = {'side':side, 'id':key_}\n",
    "            response = requests.get(f\"{server}/cancelOrder\",\n",
    "                                    json=params).json()\n",
    "            display(response['status'])\n",
    "            del pendingtrades[key_]"
   ]
  },
  {
   "cell_type": "code",
   "execution_count": null,
   "metadata": {},
   "outputs": [],
   "source": [
    "list(pendingtrades.keys())"
   ]
  },
  {
   "cell_type": "markdown",
   "metadata": {},
   "source": [
    "# get your current book value"
   ]
  },
  {
   "cell_type": "code",
   "execution_count": null,
   "metadata": {},
   "outputs": [],
   "source": [
    "executedtrades"
   ]
  },
  {
   "cell_type": "code",
   "execution_count": null,
   "metadata": {},
   "outputs": [],
   "source": [
    "# Cancel order because it is too far from the best bid\n",
    "# and remove it from pending orders\n"
   ]
  },
  {
   "cell_type": "code",
   "execution_count": 77,
   "metadata": {},
   "outputs": [
    {
     "data": {
      "text/plain": [
       "SortedDict({521: {'party1': [0, 'ask', 1, None], 'party2': [521, 'bid', None, None], 'price': 101, 'quantity': 100, 'time': 6, 'timestamp': 6}, 522: {'party1': [521, 'bid', 6, None], 'party2': [522, 'ask', None, None], 'price': 101, 'quantity': 50, 'time': 7, 'timestamp': 7}})"
      ]
     },
     "execution_count": 77,
     "metadata": {},
     "output_type": "execute_result"
    }
   ],
   "source": [
    "executedtrades"
   ]
  }
 ],
 "metadata": {
  "kernelspec": {
   "display_name": "Python 3",
   "language": "python",
   "name": "python3"
  },
  "language_info": {
   "codemirror_mode": {
    "name": "ipython",
    "version": 3
   },
   "file_extension": ".py",
   "mimetype": "text/x-python",
   "name": "python",
   "nbconvert_exporter": "python",
   "pygments_lexer": "ipython3",
   "version": "3.7.4"
  }
 },
 "nbformat": 4,
 "nbformat_minor": 4
}
