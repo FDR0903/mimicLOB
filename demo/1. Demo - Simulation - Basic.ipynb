{
 "cells": [
  {
   "cell_type": "markdown",
   "metadata": {},
   "source": [
    "# 0. Imports"
   ]
  },
  {
   "cell_type": "code",
   "execution_count": 1,
   "metadata": {},
   "outputs": [
    {
     "data": {
      "text/html": [
       "<style>.container { width:100% !important; }</style>"
      ],
      "text/plain": [
       "<IPython.core.display.HTML object>"
      ]
     },
     "metadata": {},
     "output_type": "display_data"
    }
   ],
   "source": [
    "# Imports\n",
    "from   IPython.display import display, HTML\n",
    "import numpy as np\n",
    "import pandas as pd\n",
    "from pprint import pprint\n",
    "import matplotlib.pyplot as plt\n",
    "import logging\n",
    "logging.basicConfig()\n",
    "logging.getLogger('apscheduler').setLevel(logging.CRITICAL)\n",
    "\n",
    "# Display options\n",
    "pd.set_option('display.width', 1000)\n",
    "display(HTML(\"<style>.container { width:100% !important; }</style>\"))\n",
    "pd.set_option('mode.chained_assignment', None)"
   ]
  },
  {
   "cell_type": "code",
   "execution_count": 2,
   "metadata": {},
   "outputs": [],
   "source": [
    "import mimicLOB as lob\n",
    "from mimicLOB.orderbook.orderbook import OrderBook\n",
    "from mimicLOB.agent.genericAgent import genericAgent\n",
    "from mimicLOB.utils import getInstance\n",
    "from mimicLOB.information.channel import Channel\n",
    "from mimicLOB.utils import getBookHistory"
   ]
  },
  {
   "cell_type": "markdown",
   "metadata": {},
   "source": [
    "# 1. LOB Creation"
   ]
  },
  {
   "cell_type": "code",
   "execution_count": 3,
   "metadata": {
    "scrolled": true
   },
   "outputs": [],
   "source": [
    "# b_tape = True means the LOB \n",
    "LOB = OrderBook(tick_size = 0.1, \n",
    "                b_tape    = True,\n",
    "                verbose   = False)"
   ]
  },
  {
   "cell_type": "markdown",
   "metadata": {},
   "source": [
    "## Simulation configuration\n",
    "\n",
    "#### Random Agent : a random agent is either a liquidity provider via limit order or a liquidity consumer via market orders. The agent has an intensity of sending order. \n",
    "#### Random agents react to exogenous news, their intensity of sending orders is shifted according to news arrival. \n",
    "#### News object is a random process between 0 & 100, 0 being the worst news and 100 very good news. For examples, buyers will buy more if the news are very good. This enables trends in prices.\n",
    "\n",
    "#### Parameters :\n",
    "1. distant : if true, the agent must have the server address. If False, he should have the orderbook object passed in the configuration.\n",
    "2. server : when distant is True, the http address of the server the LOB is running on.\n",
    "3. id : optional, default is generic. the if is used in the transaction tape.\n",
    "4. b_record : optional, boolean, default is False. If True, the agent records all his activity : sent orders, executed trades, pending orders ..."
   ]
  },
  {
   "cell_type": "code",
   "execution_count": 4,
   "metadata": {},
   "outputs": [],
   "source": [
    "Simulationconfig = {'information' : {'basicInfo' : {'type'        : 'genericInformation',\n",
    "                                                    'intensity'   : 0.03}},\n",
    "                    'agents'      : {'agent1' : {'type'         : 'randomAgent',\n",
    "                                                'subtype'       : 'randomLimitBuyer',\n",
    "                                                 'id'           : 'agent1',\n",
    "                                                'orderbook'     : LOB,\n",
    "                                                'intensity'     : 0.4,\n",
    "                                                'quantityRange' : [50, 200, 10]},\n",
    "                                    'agent2' : {'type'          : 'randomAgent',\n",
    "                                                'subtype'       : 'randomMarketBuyer',\n",
    "                                                 'id'           : 'agent2',\n",
    "                                                'orderbook'     : LOB,\n",
    "                                                'intensity'     : 0.4,\n",
    "                                                'quantityRange' : [50, 200, 10]},\n",
    "                                    'agent3' : {'type'          : 'randomAgent',\n",
    "                                                'subtype'       : 'randomLimitSeller',\n",
    "                                                 'id'           : 'agent3',\n",
    "                                                'orderbook'     : LOB,\n",
    "                                                'intensity'     : 0.4,\n",
    "                                                'quantityRange' : [50, 200, 10]},\n",
    "                                    'agent4' : {'type'          : 'randomAgent',\n",
    "                                                'subtype'       : 'randomMarketSeller',\n",
    "                                                 'id'           : 'agent4',\n",
    "                                                'orderbook'     : LOB,\n",
    "                                                'intensity'     : 0.4,\n",
    "                                                'quantityRange' : [50, 200, 10]},\n",
    "                                    'MM'     : {'type'          : 'basicMM',\n",
    "                                                 'id'           : 'MM',\n",
    "                                                'orderbook'     : LOB,\n",
    "                                                'refQuantity'   : 100,\n",
    "                                                'refPrice'      : 100,\n",
    "                                                'b_record'      : True}}}"
   ]
  },
  {
   "cell_type": "markdown",
   "metadata": {},
   "source": [
    "## Create News Information"
   ]
  },
  {
   "cell_type": "code",
   "execution_count": 5,
   "metadata": {
    "scrolled": false
   },
   "outputs": [],
   "source": [
    "# Channel (doubly linked chain of news)\n",
    "newsChannel = Channel()\n",
    "\n",
    "# keeps references on information sources\n",
    "newsFactory = {}\n",
    "config_news = Simulationconfig['information']\n",
    "for info in config_news:\n",
    "    config_news[info]['channel'] = newsChannel\n",
    "    newsFactory[info] = getInstance('mimicLOB.information', config_news[info])"
   ]
  },
  {
   "cell_type": "markdown",
   "metadata": {},
   "source": [
    "## Create the agents\n",
    "The agents is constantly connected to the distant LOB via the server address or the LOB address."
   ]
  },
  {
   "cell_type": "code",
   "execution_count": 6,
   "metadata": {},
   "outputs": [],
   "source": [
    "agentFactory  = {} # keeps references on agents\n",
    "config_agents = Simulationconfig['agents']\n",
    "\n",
    "for agent in config_agents:\n",
    "    config_agents[agent]['channel'] = newsChannel\n",
    "    agentFactory[agent] = getInstance('mimicLOB.agent', config_agents[agent])   \n",
    "    \n",
    "# The market (LOB admin)\n",
    "market = genericAgent(id = 'market', orderbook = LOB)"
   ]
  },
  {
   "cell_type": "markdown",
   "metadata": {},
   "source": [
    "## Launch Trading\n",
    "\n",
    "#### We launch trading\n",
    "\n",
    "#### You have to execute the stop or pause command to stop simulation (wait a few seconds of trading at least)"
   ]
  },
  {
   "cell_type": "code",
   "execution_count": 7,
   "metadata": {},
   "outputs": [],
   "source": [
    "from apscheduler.schedulers.background import BackgroundScheduler\n",
    "\n",
    "sched = BackgroundScheduler()\n",
    "\n",
    "def startSimulation():\n",
    "    for agent in agentFactory:\n",
    "        agentFactory[agent].start(sched)\n",
    "        \n",
    "    for news in newsFactory:\n",
    "        newsFactory[news].start(sched)"
   ]
  },
  {
   "cell_type": "code",
   "execution_count": 8,
   "metadata": {},
   "outputs": [],
   "source": [
    "sched.start()\n",
    "startSimulation()"
   ]
  },
  {
   "cell_type": "markdown",
   "metadata": {},
   "source": [
    "## Pause Trading\n",
    "#### INFO : trading still continues, even if the previous cell is not 'running'. The aps scheduler executes tasks in the background !"
   ]
  },
  {
   "cell_type": "code",
   "execution_count": 26,
   "metadata": {
    "scrolled": true
   },
   "outputs": [],
   "source": [
    "try:\n",
    "    sched.pause()\n",
    "except Exception as e:\n",
    "    print(e)"
   ]
  },
  {
   "cell_type": "markdown",
   "metadata": {},
   "source": [
    "## Resume Trading"
   ]
  },
  {
   "cell_type": "code",
   "execution_count": 11,
   "metadata": {
    "scrolled": true
   },
   "outputs": [],
   "source": [
    "try:\n",
    "    sched.resume()\n",
    "except Exception as e:\n",
    "    print(e)"
   ]
  },
  {
   "cell_type": "markdown",
   "metadata": {},
   "source": [
    "## Stop Trading"
   ]
  },
  {
   "cell_type": "code",
   "execution_count": 30,
   "metadata": {},
   "outputs": [],
   "source": [
    "try:\n",
    "    sched.shutdown()\n",
    "except Exception as e:\n",
    "    print(e)"
   ]
  },
  {
   "cell_type": "code",
   "execution_count": 30,
   "metadata": {},
   "outputs": [],
   "source": [
    "# uncomment to reset lob : \n",
    "# market.resetLOB_PendingOrders()"
   ]
  },
  {
   "cell_type": "markdown",
   "metadata": {},
   "source": [
    "## Get LOB"
   ]
  },
  {
   "cell_type": "code",
   "execution_count": 13,
   "metadata": {
    "scrolled": false
   },
   "outputs": [
    {
     "data": {
      "image/png": "[encoded data removed]",
      "text/plain": [
       "<Figure size 1440x504 with 1 Axes>"
      ]
     },
     "metadata": {
      "needs_background": "light"
     },
     "output_type": "display_data"
    }
   ],
   "source": [
    "LOBstate = market.getLOBState()\n",
    "LOBstate = LOBstate.set_index('Price').sort_index()\n",
    "LOBstate.plot.bar(figsize=(20, 7))\n",
    "plt.show()"
   ]
  },
  {
   "cell_type": "markdown",
   "metadata": {},
   "source": [
    "## Get Price Tape"
   ]
  },
  {
   "cell_type": "code",
   "execution_count": 34,
   "metadata": {
    "scrolled": false
   },
   "outputs": [
    {
     "data": {
      "text/plain": [
       "'open  : 100.0'"
      ]
     },
     "metadata": {},
     "output_type": "display_data"
    },
    {
     "data": {
      "text/plain": [
       "'high  : 100.4'"
      ]
     },
     "metadata": {},
     "output_type": "display_data"
    },
    {
     "data": {
      "text/plain": [
       "'low   : 0.0'"
      ]
     },
     "metadata": {},
     "output_type": "display_data"
    },
    {
     "data": {
      "text/plain": [
       "'close : 99.60000000000001'"
      ]
     },
     "metadata": {},
     "output_type": "display_data"
    },
    {
     "data": {
      "image/png": "[encoded data removed]",
      "text/plain": [
       "<Figure size 1440x504 with 1 Axes>"
      ]
     },
     "metadata": {
      "needs_background": "light"
     },
     "output_type": "display_data"
    }
   ],
   "source": [
    "histoPrices = market.getPriceTape().astype(float)\n",
    "histoPrices.plot(figsize=(20,7))\n",
    "\n",
    "# OHLC\n",
    "display(f'open  : {histoPrices.iloc[0,0]}')\n",
    "display(f'high  : {histoPrices.max()[0]}')\n",
    "display(f'low   : {histoPrices.min()[0]}')\n",
    "display(f'close : {histoPrices.iloc[-1, 0]}')\n",
    "\n",
    "plt.show()"
   ]
  },
  {
   "cell_type": "markdown",
   "metadata": {},
   "source": [
    "## Get Transaction Tape"
   ]
  },
  {
   "cell_type": "code",
   "execution_count": 36,
   "metadata": {},
   "outputs": [],
   "source": [
    "TransactionTape = market.getTransactionTape()"
   ]
  },
  {
   "cell_type": "code",
   "execution_count": 37,
   "metadata": {},
   "outputs": [
    {
     "data": {
      "text/html": [
       "<div>\n",
       "<style scoped>\n",
       "    .dataframe tbody tr th:only-of-type {\n",
       "        vertical-align: middle;\n",
       "    }\n",
       "\n",
       "    .dataframe tbody tr th {\n",
       "        vertical-align: top;\n",
       "    }\n",
       "\n",
       "    .dataframe thead th {\n",
       "        text-align: right;\n",
       "    }\n",
       "</style>\n",
       "<table border=\"1\" class=\"dataframe\">\n",
       "  <thead>\n",
       "    <tr style=\"text-align: right;\">\n",
       "      <th></th>\n",
       "      <th>time</th>\n",
       "      <th>party1_id</th>\n",
       "      <th>party1_side</th>\n",
       "      <th>party1_order_id</th>\n",
       "      <th>party2_id</th>\n",
       "      <th>party2_side</th>\n",
       "      <th>party2_order_id</th>\n",
       "      <th>traded_price</th>\n",
       "      <th>traded_quantity</th>\n",
       "    </tr>\n",
       "  </thead>\n",
       "  <tbody>\n",
       "    <tr>\n",
       "      <td>0</td>\n",
       "      <td>1587228969712419500</td>\n",
       "      <td>MM</td>\n",
       "      <td>ask</td>\n",
       "      <td>7</td>\n",
       "      <td>agent2</td>\n",
       "      <td>ask</td>\n",
       "      <td>None</td>\n",
       "      <td>99.99999999999999999999999998</td>\n",
       "      <td>100</td>\n",
       "    </tr>\n",
       "    <tr>\n",
       "      <td>1</td>\n",
       "      <td>1587228969712419500</td>\n",
       "      <td>MM</td>\n",
       "      <td>ask</td>\n",
       "      <td>3</td>\n",
       "      <td>agent2</td>\n",
       "      <td>ask</td>\n",
       "      <td>None</td>\n",
       "      <td>100.1000000000000000055511151</td>\n",
       "      <td>90</td>\n",
       "    </tr>\n",
       "    <tr>\n",
       "      <td>2</td>\n",
       "      <td>1587228969914900800</td>\n",
       "      <td>agent3</td>\n",
       "      <td>ask</td>\n",
       "      <td>8</td>\n",
       "      <td>agent2</td>\n",
       "      <td>ask</td>\n",
       "      <td>None</td>\n",
       "      <td>100.0000000000000000000000000</td>\n",
       "      <td>150</td>\n",
       "    </tr>\n",
       "    <tr>\n",
       "      <td>3</td>\n",
       "      <td>1587228970057342100</td>\n",
       "      <td>MM</td>\n",
       "      <td>bid</td>\n",
       "      <td>1</td>\n",
       "      <td>agent4</td>\n",
       "      <td>bid</td>\n",
       "      <td>None</td>\n",
       "      <td>99.89999999999999999444888488</td>\n",
       "      <td>100</td>\n",
       "    </tr>\n",
       "    <tr>\n",
       "      <td>4</td>\n",
       "      <td>1587228970057342100</td>\n",
       "      <td>agent1</td>\n",
       "      <td>bid</td>\n",
       "      <td>10</td>\n",
       "      <td>agent4</td>\n",
       "      <td>bid</td>\n",
       "      <td>None</td>\n",
       "      <td>99.89999999999999999444888488</td>\n",
       "      <td>30</td>\n",
       "    </tr>\n",
       "    <tr>\n",
       "      <td>...</td>\n",
       "      <td>...</td>\n",
       "      <td>...</td>\n",
       "      <td>...</td>\n",
       "      <td>...</td>\n",
       "      <td>...</td>\n",
       "      <td>...</td>\n",
       "      <td>...</td>\n",
       "      <td>...</td>\n",
       "      <td>...</td>\n",
       "    </tr>\n",
       "    <tr>\n",
       "      <td>3186</td>\n",
       "      <td>1587229109864179000</td>\n",
       "      <td>agent1</td>\n",
       "      <td>bid</td>\n",
       "      <td>2935</td>\n",
       "      <td>agent4</td>\n",
       "      <td>bid</td>\n",
       "      <td>None</td>\n",
       "      <td>99.60000000000000552891066263</td>\n",
       "      <td>35</td>\n",
       "    </tr>\n",
       "    <tr>\n",
       "      <td>3187</td>\n",
       "      <td>1587229110020703400</td>\n",
       "      <td>agent1</td>\n",
       "      <td>bid</td>\n",
       "      <td>2935</td>\n",
       "      <td>agent4</td>\n",
       "      <td>bid</td>\n",
       "      <td>None</td>\n",
       "      <td>99.60000000000000552891066263</td>\n",
       "      <td>63</td>\n",
       "    </tr>\n",
       "    <tr>\n",
       "      <td>3188</td>\n",
       "      <td>1587229110020703400</td>\n",
       "      <td>agent1</td>\n",
       "      <td>bid</td>\n",
       "      <td>2937</td>\n",
       "      <td>agent4</td>\n",
       "      <td>bid</td>\n",
       "      <td>None</td>\n",
       "      <td>99.60000000000000552891066263</td>\n",
       "      <td>32</td>\n",
       "    </tr>\n",
       "    <tr>\n",
       "      <td>3189</td>\n",
       "      <td>1587229110020703400</td>\n",
       "      <td>agent1</td>\n",
       "      <td>bid</td>\n",
       "      <td>2938</td>\n",
       "      <td>agent4</td>\n",
       "      <td>bid</td>\n",
       "      <td>None</td>\n",
       "      <td>99.60000000000000552891066263</td>\n",
       "      <td>98</td>\n",
       "    </tr>\n",
       "    <tr>\n",
       "      <td>3190</td>\n",
       "      <td>1587229110020703400</td>\n",
       "      <td>agent1</td>\n",
       "      <td>bid</td>\n",
       "      <td>2939</td>\n",
       "      <td>agent4</td>\n",
       "      <td>bid</td>\n",
       "      <td>None</td>\n",
       "      <td>99.60000000000000552891066263</td>\n",
       "      <td>58</td>\n",
       "    </tr>\n",
       "  </tbody>\n",
       "</table>\n",
       "<p>3191 rows × 9 columns</p>\n",
       "</div>"
      ],
      "text/plain": [
       "                     time party1_id party1_side party1_order_id party2_id party2_side party2_order_id                   traded_price traded_quantity\n",
       "0     1587228969712419500        MM         ask               7    agent2         ask            None  99.99999999999999999999999998             100\n",
       "1     1587228969712419500        MM         ask               3    agent2         ask            None  100.1000000000000000055511151              90\n",
       "2     1587228969914900800    agent3         ask               8    agent2         ask            None  100.0000000000000000000000000             150\n",
       "3     1587228970057342100        MM         bid               1    agent4         bid            None  99.89999999999999999444888488             100\n",
       "4     1587228970057342100    agent1         bid              10    agent4         bid            None  99.89999999999999999444888488              30\n",
       "...                   ...       ...         ...             ...       ...         ...             ...                            ...             ...\n",
       "3186  1587229109864179000    agent1         bid            2935    agent4         bid            None  99.60000000000000552891066263              35\n",
       "3187  1587229110020703400    agent1         bid            2935    agent4         bid            None  99.60000000000000552891066263              63\n",
       "3188  1587229110020703400    agent1         bid            2937    agent4         bid            None  99.60000000000000552891066263              32\n",
       "3189  1587229110020703400    agent1         bid            2938    agent4         bid            None  99.60000000000000552891066263              98\n",
       "3190  1587229110020703400    agent1         bid            2939    agent4         bid            None  99.60000000000000552891066263              58\n",
       "\n",
       "[3191 rows x 9 columns]"
      ]
     },
     "execution_count": 37,
     "metadata": {},
     "output_type": "execute_result"
    }
   ],
   "source": [
    "TransactionTape"
   ]
  },
  {
   "cell_type": "markdown",
   "metadata": {},
   "source": [
    "## Get the MM book history"
   ]
  },
  {
   "cell_type": "code",
   "execution_count": 23,
   "metadata": {},
   "outputs": [
    {
     "data": {
      "text/html": [
       "<div>\n",
       "<style scoped>\n",
       "    .dataframe tbody tr th:only-of-type {\n",
       "        vertical-align: middle;\n",
       "    }\n",
       "\n",
       "    .dataframe tbody tr th {\n",
       "        vertical-align: top;\n",
       "    }\n",
       "\n",
       "    .dataframe thead th {\n",
       "        text-align: right;\n",
       "    }\n",
       "</style>\n",
       "<table border=\"1\" class=\"dataframe\">\n",
       "  <thead>\n",
       "    <tr style=\"text-align: right;\">\n",
       "      <th></th>\n",
       "      <th>traded_price</th>\n",
       "      <th>traded_quantity</th>\n",
       "      <th>party1_id</th>\n",
       "      <th>party1_side</th>\n",
       "      <th>party1_order_id</th>\n",
       "      <th>party2_id</th>\n",
       "      <th>party2_side</th>\n",
       "      <th>party2_order_id</th>\n",
       "    </tr>\n",
       "    <tr>\n",
       "      <th>time</th>\n",
       "      <th></th>\n",
       "      <th></th>\n",
       "      <th></th>\n",
       "      <th></th>\n",
       "      <th></th>\n",
       "      <th></th>\n",
       "      <th></th>\n",
       "      <th></th>\n",
       "    </tr>\n",
       "  </thead>\n",
       "  <tbody>\n",
       "    <tr>\n",
       "      <td>1587228969712419500</td>\n",
       "      <td>99.99999999999999999999999998</td>\n",
       "      <td>100</td>\n",
       "      <td>MM</td>\n",
       "      <td>ask</td>\n",
       "      <td>7</td>\n",
       "      <td>agent2</td>\n",
       "      <td>ask</td>\n",
       "      <td>None</td>\n",
       "    </tr>\n",
       "    <tr>\n",
       "      <td>1587228969712419500</td>\n",
       "      <td>100.1000000000000000055511151</td>\n",
       "      <td>90</td>\n",
       "      <td>MM</td>\n",
       "      <td>ask</td>\n",
       "      <td>3</td>\n",
       "      <td>agent2</td>\n",
       "      <td>ask</td>\n",
       "      <td>None</td>\n",
       "    </tr>\n",
       "    <tr>\n",
       "      <td>1587228970057342100</td>\n",
       "      <td>99.89999999999999999444888488</td>\n",
       "      <td>100</td>\n",
       "      <td>MM</td>\n",
       "      <td>bid</td>\n",
       "      <td>1</td>\n",
       "      <td>agent4</td>\n",
       "      <td>ask</td>\n",
       "      <td>None</td>\n",
       "    </tr>\n",
       "    <tr>\n",
       "      <td>1587228970224641300</td>\n",
       "      <td>99.79999999999999998889776975</td>\n",
       "      <td>50</td>\n",
       "      <td>MM</td>\n",
       "      <td>bid</td>\n",
       "      <td>2</td>\n",
       "      <td>agent4</td>\n",
       "      <td>ask</td>\n",
       "      <td>None</td>\n",
       "    </tr>\n",
       "    <tr>\n",
       "      <td>1587228970224641300</td>\n",
       "      <td>0</td>\n",
       "      <td>47</td>\n",
       "      <td>MM</td>\n",
       "      <td>bid</td>\n",
       "      <td>5</td>\n",
       "      <td>agent4</td>\n",
       "      <td>ask</td>\n",
       "      <td>None</td>\n",
       "    </tr>\n",
       "    <tr>\n",
       "      <td>...</td>\n",
       "      <td>...</td>\n",
       "      <td>...</td>\n",
       "      <td>...</td>\n",
       "      <td>...</td>\n",
       "      <td>...</td>\n",
       "      <td>...</td>\n",
       "      <td>...</td>\n",
       "      <td>...</td>\n",
       "    </tr>\n",
       "    <tr>\n",
       "      <td>1587229069142582300</td>\n",
       "      <td>100.1000000000000055566662382</td>\n",
       "      <td>13</td>\n",
       "      <td>MM</td>\n",
       "      <td>ask</td>\n",
       "      <td>2465</td>\n",
       "      <td>agent2</td>\n",
       "      <td>ask</td>\n",
       "      <td>None</td>\n",
       "    </tr>\n",
       "    <tr>\n",
       "      <td>1587229069142582300</td>\n",
       "      <td>100.2000000000000055622173533</td>\n",
       "      <td>50</td>\n",
       "      <td>MM</td>\n",
       "      <td>ask</td>\n",
       "      <td>2466</td>\n",
       "      <td>agent2</td>\n",
       "      <td>ask</td>\n",
       "      <td>None</td>\n",
       "    </tr>\n",
       "    <tr>\n",
       "      <td>1587229069177071100</td>\n",
       "      <td>100.0000000000000055511151231</td>\n",
       "      <td>28</td>\n",
       "      <td>MM</td>\n",
       "      <td>bid</td>\n",
       "      <td>2464</td>\n",
       "      <td>agent4</td>\n",
       "      <td>ask</td>\n",
       "      <td>None</td>\n",
       "    </tr>\n",
       "    <tr>\n",
       "      <td>1587229069281036100</td>\n",
       "      <td>100.0000000000000055511151231</td>\n",
       "      <td>46</td>\n",
       "      <td>MM</td>\n",
       "      <td>bid</td>\n",
       "      <td>2464</td>\n",
       "      <td>agent4</td>\n",
       "      <td>ask</td>\n",
       "      <td>None</td>\n",
       "    </tr>\n",
       "    <tr>\n",
       "      <td>1587229069537093300</td>\n",
       "      <td>100.0000000000000055511151231</td>\n",
       "      <td>6</td>\n",
       "      <td>MM</td>\n",
       "      <td>bid</td>\n",
       "      <td>2464</td>\n",
       "      <td>agent4</td>\n",
       "      <td>ask</td>\n",
       "      <td>None</td>\n",
       "    </tr>\n",
       "  </tbody>\n",
       "</table>\n",
       "<p>875 rows × 8 columns</p>\n",
       "</div>"
      ],
      "text/plain": [
       "                                      traded_price traded_quantity party1_id party1_side party1_order_id party2_id party2_side party2_order_id\n",
       "time                                                                                                                                          \n",
       "1587228969712419500  99.99999999999999999999999998             100        MM         ask               7    agent2         ask            None\n",
       "1587228969712419500  100.1000000000000000055511151              90        MM         ask               3    agent2         ask            None\n",
       "1587228970057342100  99.89999999999999999444888488             100        MM         bid               1    agent4         ask            None\n",
       "1587228970224641300  99.79999999999999998889776975              50        MM         bid               2    agent4         ask            None\n",
       "1587228970224641300                              0              47        MM         bid               5    agent4         ask            None\n",
       "...                                            ...             ...       ...         ...             ...       ...         ...             ...\n",
       "1587229069142582300  100.1000000000000055566662382              13        MM         ask            2465    agent2         ask            None\n",
       "1587229069142582300  100.2000000000000055622173533              50        MM         ask            2466    agent2         ask            None\n",
       "1587229069177071100  100.0000000000000055511151231              28        MM         bid            2464    agent4         ask            None\n",
       "1587229069281036100  100.0000000000000055511151231              46        MM         bid            2464    agent4         ask            None\n",
       "1587229069537093300  100.0000000000000055511151231               6        MM         bid            2464    agent4         ask            None\n",
       "\n",
       "[875 rows x 8 columns]"
      ]
     },
     "execution_count": 23,
     "metadata": {},
     "output_type": "execute_result"
    }
   ],
   "source": [
    "executedTrades = pd.DataFrame.from_dict(agentFactory['MM'].executedtrades).T\n",
    "executedTrades.set_index('time')"
   ]
  },
  {
   "cell_type": "code",
   "execution_count": 24,
   "metadata": {},
   "outputs": [],
   "source": [
    "# Book evolution :\n",
    "book = getBookHistory(executedTrades, 'MM')"
   ]
  },
  {
   "cell_type": "code",
   "execution_count": 25,
   "metadata": {},
   "outputs": [
    {
     "data": {
      "text/plain": [
       "<matplotlib.axes._subplots.AxesSubplot at 0x2c92173e748>"
      ]
     },
     "execution_count": 25,
     "metadata": {},
     "output_type": "execute_result"
    },
    {
     "data": {
      "image/png": "[encoded data removed]",
      "text/plain": [
       "<Figure size 1800x504 with 1 Axes>"
      ]
     },
     "metadata": {
      "needs_background": "light"
     },
     "output_type": "display_data"
    }
   ],
   "source": [
    "book.astype(float).plot(figsize=(25,7))"
   ]
  }
 ],
 "metadata": {
  "kernelspec": {
   "display_name": "Python 3",
   "language": "python",
   "name": "python3"
  },
  "language_info": {
   "codemirror_mode": {
    "name": "ipython",
    "version": 3
   },
   "file_extension": ".py",
   "mimetype": "text/x-python",
   "name": "python",
   "nbconvert_exporter": "python",
   "pygments_lexer": "ipython3",
   "version": "3.7.4"
  }
 },
 "nbformat": 4,
 "nbformat_minor": 4
}
