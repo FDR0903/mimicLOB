{
 "cells": [
  {
   "cell_type": "markdown",
   "metadata": {},
   "source": [
    "# 0. Imports"
   ]
  },
  {
   "cell_type": "code",
   "execution_count": null,
   "metadata": {},
   "outputs": [],
   "source": [
    "# Imports\n",
    "from   IPython.display import display, HTML\n",
    "import numpy as np\n",
    "import pandas as pd\n",
    "from pprint import pprint\n",
    "import matplotlib.pyplot as plt\n",
    "import logging\n",
    "logging.basicConfig()\n",
    "logging.getLogger('apscheduler').setLevel(logging.CRITICAL)\n",
    "\n",
    "# Display options\n",
    "pd.set_option('display.width', 1000)\n",
    "display(HTML(\"<style>.container { width:100% !important; }</style>\"))\n",
    "pd.set_option('mode.chained_assignment', None)"
   ]
  },
  {
   "cell_type": "code",
   "execution_count": null,
   "metadata": {},
   "outputs": [],
   "source": [
    "import mimicLOB as mlob"
   ]
  },
  {
   "cell_type": "markdown",
   "metadata": {},
   "source": [
    "# 1. LOB Creation"
   ]
  },
  {
   "cell_type": "code",
   "execution_count": null,
   "metadata": {
    "scrolled": true
   },
   "outputs": [],
   "source": [
    "# b_tape = True means the LOB\n",
    "LOB = mlob.OrderBook(tick_size = 0.1, \n",
    "                    b_tape    = True,\n",
    "                    verbose   = False)"
   ]
  },
  {
   "cell_type": "markdown",
   "metadata": {},
   "source": [
    "## Simulation configuration\n",
    "\n",
    "#### Random Agent : a random agent is either a liquidity provider via limit order or a liquidity consumer via market orders. The agent has an intensity of sending order. \n",
    "#### Random agents react to exogenous news, their intensity of sending orders is shifted according to news arrival. \n",
    "#### News object is a random process between 0 & 100, 0 being the worst news and 100 very good news. For examples, buyers will buy more if the news are very good. This enables trends in prices.\n",
    "\n",
    "#### Parameters :\n",
    "1. distant : if true, the agent must have the server address. If False, he should have the orderbook object passed in the configuration.\n",
    "2. server : when distant is True, the http address of the server the LOB is running on.\n",
    "3. id : optional, default is generic. the if is used in the transaction tape.\n",
    "4. b_record : optional, boolean, default is False. If True, the agent records all his activity : sent orders, executed trades, pending orders ..."
   ]
  },
  {
   "cell_type": "code",
   "execution_count": null,
   "metadata": {},
   "outputs": [],
   "source": [
    "Simulationconfig = {'information' : {'basicInfo' : {'type'        : 'genericInformation',\n",
    "                                                    'intensity'   : 0.03}},\n",
    "                    'agents'      : {'agent1' : {'type'         : 'randomAgent',\n",
    "                                                'subtype'       : 'randomLimitBuyer',\n",
    "                                                 'id'           : 'agent1',\n",
    "                                                'orderbook'     : LOB,\n",
    "                                                'intensity'     : 0.4,\n",
    "                                                'quantityRange' : [50, 200, 10]},\n",
    "                                    'agent2' : {'type'          : 'randomAgent',\n",
    "                                                'subtype'       : 'randomMarketBuyer',\n",
    "                                                 'id'           : 'agent2',\n",
    "                                                'orderbook'     : LOB,\n",
    "                                                'intensity'     : 0.4,\n",
    "                                                'quantityRange' : [50, 200, 10]},\n",
    "                                    'agent3' : {'type'          : 'randomAgent',\n",
    "                                                'subtype'       : 'randomLimitSeller',\n",
    "                                                 'id'           : 'agent3',\n",
    "                                                'orderbook'     : LOB,\n",
    "                                                'intensity'     : 0.4,\n",
    "                                                'quantityRange' : [50, 200, 10]},\n",
    "                                    'agent4' : {'type'          : 'randomAgent',\n",
    "                                                'subtype'       : 'randomMarketSeller',\n",
    "                                                 'id'           : 'agent4',\n",
    "                                                'orderbook'     : LOB,\n",
    "                                                'intensity'     : 0.4,\n",
    "                                                'quantityRange' : [50, 200, 10]},\n",
    "                                    'MM'     : {'type'          : 'basicMM',\n",
    "                                                 'id'           : 'MM',\n",
    "                                                'orderbook'     : LOB,\n",
    "                                                'refQuantity'   : 100,\n",
    "                                                'refPrice'      : 100,\n",
    "                                                'b_record'      : True}}}"
   ]
  },
  {
   "cell_type": "markdown",
   "metadata": {},
   "source": [
    "## Create News Information"
   ]
  },
  {
   "cell_type": "code",
   "execution_count": null,
   "metadata": {
    "scrolled": false
   },
   "outputs": [],
   "source": [
    "# Channel (doubly linked chain of news)\n",
    "newsChannel = mlob.Channel()\n",
    "\n",
    "# keeps references on information sources\n",
    "newsFactory = {}\n",
    "config_news = Simulationconfig['information']\n",
    "for info in config_news:\n",
    "    config_news[info]['channel'] = newsChannel\n",
    "    newsFactory[info] = mlob.utils.getInstance('mimicLOB.information', config_news[info])"
   ]
  },
  {
   "cell_type": "markdown",
   "metadata": {},
   "source": [
    "## Create the agents\n",
    "The agents is constantly connected to the distant LOB via the server address or the LOB address."
   ]
  },
  {
   "cell_type": "code",
   "execution_count": null,
   "metadata": {},
   "outputs": [],
   "source": [
    "agentFactory  = {} # keeps references on agents\n",
    "config_agents = Simulationconfig['agents']\n",
    "\n",
    "for agent in config_agents:\n",
    "    config_agents[agent]['channel'] = newsChannel\n",
    "    agentFactory[agent] = mlob.utils.getInstance('mimicLOB.agent', config_agents[agent])   \n",
    "    \n",
    "# The market (LOB admin)\n",
    "market = mlob.genericAgent(id = 'market', orderbook = LOB)"
   ]
  },
  {
   "cell_type": "markdown",
   "metadata": {},
   "source": [
    "## Launch Trading\n",
    "\n",
    "#### We launch trading\n",
    "\n",
    "#### You have to execute the stop or pause command to stop simulation (wait a few seconds of trading at least)"
   ]
  },
  {
   "cell_type": "code",
   "execution_count": null,
   "metadata": {},
   "outputs": [],
   "source": [
    "from apscheduler.schedulers.background import BackgroundScheduler\n",
    "\n",
    "sched = BackgroundScheduler()\n",
    "\n",
    "def startSimulation():\n",
    "    for agent in agentFactory:\n",
    "        agentFactory[agent].start(sched)\n",
    "        \n",
    "    for news in newsFactory:\n",
    "        newsFactory[news].start(sched)"
   ]
  },
  {
   "cell_type": "code",
   "execution_count": null,
   "metadata": {},
   "outputs": [],
   "source": [
    "sched.start()\n",
    "startSimulation()"
   ]
  },
  {
   "cell_type": "markdown",
   "metadata": {},
   "source": [
    "## Pause Trading\n",
    "#### INFO : trading still continues, even if the previous cell is not 'running'. The aps scheduler executes tasks in the background !"
   ]
  },
  {
   "cell_type": "code",
   "execution_count": null,
   "metadata": {
    "scrolled": true
   },
   "outputs": [],
   "source": [
    "try:\n",
    "    sched.pause()\n",
    "except Exception as e:\n",
    "    print(e)"
   ]
  },
  {
   "cell_type": "markdown",
   "metadata": {},
   "source": [
    "## Resume Trading"
   ]
  },
  {
   "cell_type": "code",
   "execution_count": null,
   "metadata": {
    "scrolled": true
   },
   "outputs": [],
   "source": [
    "try:\n",
    "    sched.resume()\n",
    "except Exception as e:\n",
    "    print(e)"
   ]
  },
  {
   "cell_type": "markdown",
   "metadata": {},
   "source": [
    "## Stop Trading"
   ]
  },
  {
   "cell_type": "code",
   "execution_count": null,
   "metadata": {},
   "outputs": [],
   "source": [
    "try:\n",
    "    sched.shutdown()\n",
    "except Exception as e:\n",
    "    print(e)"
   ]
  },
  {
   "cell_type": "code",
   "execution_count": null,
   "metadata": {},
   "outputs": [],
   "source": [
    "# uncomment to reset lob : \n",
    "# market.resetLOB_PendingOrders()"
   ]
  },
  {
   "cell_type": "markdown",
   "metadata": {},
   "source": [
    "## Get LOB"
   ]
  },
  {
   "cell_type": "code",
   "execution_count": null,
   "metadata": {
    "scrolled": false
   },
   "outputs": [],
   "source": [
    "LOBstate = market.getLOBState()\n",
    "LOBstate = LOBstate.set_index('Price').sort_index()\n",
    "LOBstate.plot.bar(figsize=(20, 7))\n",
    "plt.show()"
   ]
  },
  {
   "cell_type": "markdown",
   "metadata": {},
   "source": [
    "## Get Price Tape"
   ]
  },
  {
   "cell_type": "code",
   "execution_count": null,
   "metadata": {
    "scrolled": false
   },
   "outputs": [],
   "source": [
    "histoPrices = market.getPriceTape().astype(float)\n",
    "histoPrices.plot(figsize=(20,7))\n",
    "\n",
    "# OHLC\n",
    "display(f'open  : {histoPrices.iloc[0,0]}')\n",
    "display(f'high  : {histoPrices.max()[0]}')\n",
    "display(f'low   : {histoPrices.min()[0]}')\n",
    "display(f'close : {histoPrices.iloc[-1, 0]}')\n",
    "\n",
    "plt.show()"
   ]
  },
  {
   "cell_type": "markdown",
   "metadata": {},
   "source": [
    "## Get Transaction Tape"
   ]
  },
  {
   "cell_type": "code",
   "execution_count": null,
   "metadata": {},
   "outputs": [],
   "source": [
    "TransactionTape = market.getTransactionTape()"
   ]
  },
  {
   "cell_type": "code",
   "execution_count": null,
   "metadata": {},
   "outputs": [],
   "source": [
    "TransactionTape"
   ]
  },
  {
   "cell_type": "markdown",
   "metadata": {},
   "source": [
    "## Get the MM book history"
   ]
  },
  {
   "cell_type": "code",
   "execution_count": null,
   "metadata": {},
   "outputs": [],
   "source": [
    "executedTrades = pd.DataFrame.from_dict(agentFactory['MM'].executedtrades).T\n",
    "executedTrades.set_index('time')"
   ]
  },
  {
   "cell_type": "code",
   "execution_count": null,
   "metadata": {},
   "outputs": [],
   "source": [
    "# Book evolution :\n",
    "book = mlob.utils.getBookHistory(executedTrades, 'MM')"
   ]
  },
  {
   "cell_type": "code",
   "execution_count": null,
   "metadata": {},
   "outputs": [],
   "source": [
    "book.astype(float).plot(figsize=(25,7))"
   ]
  },
  {
   "cell_type": "code",
   "execution_count": null,
   "metadata": {},
   "outputs": [],
   "source": []
  }
 ],
 "metadata": {
  "kernelspec": {
   "display_name": "Python 3",
   "language": "python",
   "name": "python3"
  },
  "language_info": {
   "codemirror_mode": {
    "name": "ipython",
    "version": 3
   },
   "file_extension": ".py",
   "mimetype": "text/x-python",
   "name": "python",
   "nbconvert_exporter": "python",
   "pygments_lexer": "ipython3",
   "version": "3.7.4"
  }
 },
 "nbformat": 4,
 "nbformat_minor": 4
}
