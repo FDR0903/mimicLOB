{
 "cells": [
  {
   "cell_type": "code",
   "execution_count": 1,
   "metadata": {},
   "outputs": [],
   "source": [
    "i = 3"
   ]
  },
  {
   "cell_type": "code",
   "execution_count": 4,
   "metadata": {},
   "outputs": [
    {
     "data": {
      "text/plain": [
       "4"
      ]
     },
     "execution_count": 4,
     "metadata": {},
     "output_type": "execute_result"
    }
   ],
   "source": [
    "i"
   ]
  },
  {
   "cell_type": "code",
   "execution_count": 3,
   "metadata": {},
   "outputs": [],
   "source": [
    "i = 4"
   ]
  },
  {
   "cell_type": "markdown",
   "metadata": {},
   "source": [
    "# mon titre"
   ]
  },
  {
   "cell_type": "code",
   "execution_count": 6,
   "metadata": {},
   "outputs": [
    {
     "data": {
      "text/html": [
       "<div>\n",
       "<style scoped>\n",
       "    .dataframe tbody tr th:only-of-type {\n",
       "        vertical-align: middle;\n",
       "    }\n",
       "\n",
       "    .dataframe tbody tr th {\n",
       "        vertical-align: top;\n",
       "    }\n",
       "\n",
       "    .dataframe thead th {\n",
       "        text-align: right;\n",
       "    }\n",
       "</style>\n",
       "<table border=\"1\" class=\"dataframe\">\n",
       "  <thead>\n",
       "    <tr style=\"text-align: right;\">\n",
       "      <th></th>\n",
       "      <th>0</th>\n",
       "    </tr>\n",
       "  </thead>\n",
       "  <tbody>\n",
       "    <tr>\n",
       "      <td>0</td>\n",
       "      <td>1</td>\n",
       "    </tr>\n",
       "    <tr>\n",
       "      <td>1</td>\n",
       "      <td>5</td>\n",
       "    </tr>\n",
       "    <tr>\n",
       "      <td>2</td>\n",
       "      <td>6</td>\n",
       "    </tr>\n",
       "    <tr>\n",
       "      <td>3</td>\n",
       "      <td>6</td>\n",
       "    </tr>\n",
       "    <tr>\n",
       "      <td>4</td>\n",
       "      <td>7</td>\n",
       "    </tr>\n",
       "  </tbody>\n",
       "</table>\n",
       "</div>"
      ],
      "text/plain": [
       "   0\n",
       "0  1\n",
       "1  5\n",
       "2  6\n",
       "3  6\n",
       "4  7"
      ]
     },
     "execution_count": 6,
     "metadata": {},
     "output_type": "execute_result"
    }
   ],
   "source": [
    "import pandas as pd\n",
    "import matplotlib.pyplot as plt\n",
    "df = pd.DataFrame([1, 5, 6, 6, 7])\n",
    "df"
   ]
  },
  {
   "cell_type": "code",
   "execution_count": 8,
   "metadata": {},
   "outputs": [
    {
     "data": {
      "image/png": "[encoded data removed]",
      "text/plain": [
       "<Figure size 1440x504 with 1 Axes>"
      ]
     },
     "metadata": {
      "needs_background": "light"
     },
     "output_type": "display_data"
    }
   ],
   "source": [
    "df.plot(figsize=(20, 7))\n",
    "plt.show()"
   ]
  },
  {
   "cell_type": "code",
   "execution_count": 14,
   "metadata": {},
   "outputs": [],
   "source": [
    "import matplotlib\n",
    "\n",
    "matplotlib.use(\"TkAgg\")\n",
    "from matplotlib.backends.backend_tkagg import FigureCanvasTkAgg, NavigationToolbar2Tk\n",
    "from matplotlib.figure import Figure\n",
    "\n",
    "import tkinter as tk\n",
    "from tkinter import ttk\n",
    "\n",
    "\n",
    "LARGE_FONT= (\"Verdana\", 12)\n",
    "\n",
    "\n",
    "class SeaofBTCapp(tk.Tk):\n",
    "\n",
    "    def __init__(self, *args, **kwargs):\n",
    "        \n",
    "        tk.Tk.__init__(self, *args, **kwargs)\n",
    "\n",
    "        tk.Tk.iconbitmap(self) #default=\"clienticon.ico\"\n",
    "        tk.Tk.wm_title(self, \"Sea of BTC client\")\n",
    "        \n",
    "        \n",
    "        container = tk.Frame(self)\n",
    "        container.pack(side=\"top\", fill=\"both\", expand = True)\n",
    "        container.grid_rowconfigure(0, weight=1)\n",
    "        container.grid_columnconfigure(0, weight=1)\n",
    "\n",
    "        self.frames = {}\n",
    "\n",
    "        for F in (StartPage, PageOne, PageTwo, PageThree):\n",
    "\n",
    "            frame = F(container, self)\n",
    "\n",
    "            self.frames[F] = frame\n",
    "\n",
    "            frame.grid(row=0, column=0, sticky=\"nsew\")\n",
    "\n",
    "        self.show_frame(StartPage)\n",
    "\n",
    "    def show_frame(self, cont):\n",
    "\n",
    "        frame = self.frames[cont]\n",
    "        frame.tkraise()\n",
    "\n",
    "        \n",
    "class StartPage(tk.Frame):\n",
    "\n",
    "    def __init__(self, parent, controller):\n",
    "        tk.Frame.__init__(self,parent)\n",
    "        label = tk.Label(self, text=\"Start Page\", font=LARGE_FONT)\n",
    "        label.pack(pady=10,padx=10)\n",
    "\n",
    "        button = ttk.Button(self, text=\"Visit Page 1\",\n",
    "                            command=lambda: controller.show_frame(PageOne))\n",
    "        button.pack()\n",
    "\n",
    "        button2 = ttk.Button(self, text=\"Visit Page 2\",\n",
    "                            command=lambda: controller.show_frame(PageTwo))\n",
    "        button2.pack()\n",
    "\n",
    "        button3 = ttk.Button(self, text=\"Graph Page\",\n",
    "                            command=lambda: controller.show_frame(PageThree))\n",
    "        button3.pack()\n",
    "\n",
    "\n",
    "class PageOne(tk.Frame):\n",
    "\n",
    "    def __init__(self, parent, controller):\n",
    "        tk.Frame.__init__(self, parent)\n",
    "        label = tk.Label(self, text=\"Page One!!!\", font=LARGE_FONT)\n",
    "        label.pack(pady=10,padx=10)\n",
    "\n",
    "        button1 = ttk.Button(self, text=\"Back to Home\",\n",
    "                            command=lambda: controller.show_frame(StartPage))\n",
    "        button1.pack()\n",
    "\n",
    "        button2 = ttk.Button(self, text=\"Page Two\",\n",
    "                            command=lambda: controller.show_frame(PageTwo))\n",
    "        button2.pack()\n",
    "\n",
    "\n",
    "class PageTwo(tk.Frame):\n",
    "\n",
    "    def __init__(self, parent, controller):\n",
    "        tk.Frame.__init__(self, parent)\n",
    "        label = tk.Label(self, text=\"Page Two!!!\", font=LARGE_FONT)\n",
    "        label.pack(pady=10,padx=10)\n",
    "\n",
    "        button1 = ttk.Button(self, text=\"Back to Home\",\n",
    "                            command=lambda: controller.show_frame(StartPage))\n",
    "        button1.pack()\n",
    "\n",
    "        button2 = ttk.Button(self, text=\"Page One\",\n",
    "                            command=lambda: controller.show_frame(PageOne))\n",
    "        button2.pack()\n",
    "\n",
    "\n",
    "class PageThree(tk.Frame):\n",
    "\n",
    "    def __init__(self, parent, controller):\n",
    "        tk.Frame.__init__(self, parent)\n",
    "        label = tk.Label(self, text=\"Graph Page!\", font=LARGE_FONT)\n",
    "        label.pack(pady=10,padx=10)\n",
    "\n",
    "        button1 = ttk.Button(self, text=\"Back to Home\",\n",
    "                            command=lambda: controller.show_frame(StartPage))\n",
    "        button1.pack()\n",
    "\n",
    "        f = Figure(figsize=(5,5), dpi=100)\n",
    "        a = f.add_subplot(111)\n",
    "        a.plot([1,2,3,4,5,6,7,8],[5,6,1,3,8,9,3,5])\n",
    "\n",
    "        \n",
    "\n",
    "        canvas = FigureCanvasTkAgg(f, self)\n",
    "        canvas.draw()\n",
    "        canvas.get_tk_widget().pack(side=tk.BOTTOM, fill=tk.BOTH, expand=True)\n",
    "\n",
    "#         toolbar = NavigationToolbar2TkAgg(canvas, self)\n",
    "        toolbar = NavigationToolbar2Tk(canvas, self)\n",
    "        toolbar.update()\n",
    "        canvas._tkcanvas.pack(side=tk.TOP, fill=tk.BOTH, expand=True)\n",
    "\n",
    "        \n",
    "\n",
    "app = SeaofBTCapp()\n",
    "app.mainloop()"
   ]
  },
  {
   "cell_type": "code",
   "execution_count": null,
   "metadata": {},
   "outputs": [],
   "source": []
  }
 ],
 "metadata": {
  "kernelspec": {
   "display_name": "Python 3",
   "language": "python",
   "name": "python3"
  },
  "language_info": {
   "codemirror_mode": {
    "name": "ipython",
    "version": 3
   },
   "file_extension": ".py",
   "mimetype": "text/x-python",
   "name": "python",
   "nbconvert_exporter": "python",
   "pygments_lexer": "ipython3",
   "version": "3.7.4"
  }
 },
 "nbformat": 4,
 "nbformat_minor": 2
}
