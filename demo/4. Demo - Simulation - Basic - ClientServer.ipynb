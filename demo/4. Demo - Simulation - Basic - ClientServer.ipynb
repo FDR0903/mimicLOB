{
 "cells": [
  {
   "cell_type": "markdown",
   "metadata": {},
   "source": [
    "# 0. Imports\n",
    "\n",
    "Steps before running this notebook : \n",
    "1. Launch the server in the '5000' port by running the batch 'LaunchLOBserver.cmd' and entering 5000 as port.\n",
    "2. Visit the server address to make sure the server is running\n",
    "3. Launch the agent's FIX server in the '5003' port by running the batch 'LaunchFIXserver.cmd' and entering 5003 as port.\n",
    "4. Make sure you have installed ngrok"
   ]
  },
  {
   "cell_type": "code",
   "execution_count": 1,
   "metadata": {},
   "outputs": [
    {
     "data": {
      "text/html": [
       "<style>.container { width:100% !important; }</style>"
      ],
      "text/plain": [
       "<IPython.core.display.HTML object>"
      ]
     },
     "metadata": {},
     "output_type": "display_data"
    }
   ],
   "source": [
    "# Imports\n",
    "from   IPython.display import display, HTML\n",
    "import numpy as np\n",
    "import pandas as pd\n",
    "from pprint import pprint\n",
    "import matplotlib.pyplot as plt\n",
    "import logging\n",
    "logging.basicConfig()\n",
    "logging.getLogger('apscheduler').setLevel(logging.CRITICAL)\n",
    "\n",
    "# Display options\n",
    "pd.set_option('display.width', 1000)\n",
    "display(HTML(\"<style>.container { width:100% !important; }</style>\"))\n",
    "pd.set_option('mode.chained_assignment', None)"
   ]
  },
  {
   "cell_type": "code",
   "execution_count": 2,
   "metadata": {},
   "outputs": [],
   "source": [
    "import mimicLOB as lob\n",
    "from mimicLOB.agent.genericAgent import genericAgent\n",
    "from mimicLOB.utils import getInstance\n",
    "from mimicLOB.information.channel import Channel\n",
    "from mimicLOB.utils import getBookHistory\n",
    "\n",
    "import matplotlib.pyplot as plt\n",
    "import numpy as np\n",
    "import pandas as pd\n",
    "from pprint import pprint\n",
    "\n",
    "# local & distant server\n",
    "localserver = \"http://127.0.0.1:5000\"\n",
    "distantserver = \"http://fdr0903.pythonanywhere.com/\"\n",
    "\n",
    "# Server used\n",
    "server = localserver"
   ]
  },
  {
   "cell_type": "markdown",
   "metadata": {},
   "source": [
    "## Simulation configuration\n",
    "\n",
    "#### Random Agent : a random agent is either a liquidity provider via limit order or a liquidity consumer via market orders. The agent has an intensity of sending order. \n",
    "#### Random agents react to exogenous news, their intensity of sending orders is shifted according to news arrival. \n",
    "#### News object is a random process between 0 & 100, 0 being the worst news and 100 very good news. For examples, buyers will buy more if the news are very good. This enables trends in prices.\n",
    "\n",
    "#### Parameters :\n",
    "1. distant : if true, the agent must have the server address. If False, he should have the orderbook object passed in the configuration.\n",
    "2. server : when distant is True, the http address of the server the LOB is running on.\n",
    "3. id : optional, default is generic. the if is used in the transaction tape.\n",
    "4. b_record : optional, boolean, default is False. If True, the agent records all his activity : sent orders, executed trades, pending orders ...\n",
    "\n",
    "5. FIXaddress : address & port on which the agent is listening to the LOB messages. Every agent should have a different port."
   ]
  },
  {
   "cell_type": "code",
   "execution_count": 3,
   "metadata": {},
   "outputs": [],
   "source": [
    "Simulationconfig = {'information' : {'basicInfo' : {'type'       : 'genericInformation',\n",
    "                                                    'intensity'  : 0.03}},\n",
    "                    'agents'      : {'agent1' : {'type'          : 'randomAgent',\n",
    "                                                 'distant'       : True,\n",
    "                                                 'server'        : server,\n",
    "                                                 'subtype'       : 'randomLimitBuyer',\n",
    "                                                 'id'            : 'agent1',\n",
    "                                                 'intensity'     : 0.4,\n",
    "                                                 'quantityRange' : [50, 200, 10]},\n",
    "                                    'agent2' : {'type'          : 'randomAgent',\n",
    "                                                 'distant'      : True,\n",
    "                                                 'server'       : server,\n",
    "                                                'subtype'       : 'randomMarketBuyer',\n",
    "                                                 'id'           : 'agent2',\n",
    "                                                'intensity'     : 0.4,\n",
    "                                                'quantityRange' : [50, 200, 10]},\n",
    "                                    'agent3' : {'type'          : 'randomAgent',\n",
    "                                                 'distant'      : True,\n",
    "                                                 'server'       : server,\n",
    "                                                'subtype'       : 'randomLimitSeller',\n",
    "                                                 'id'           : 'agent3',\n",
    "                                                'intensity'     : 0.4,\n",
    "                                                'quantityRange' : [50, 200, 10]},\n",
    "                                    'agent4' : {'type'          : 'randomAgent',\n",
    "                                                 'distant'      : True,\n",
    "                                                 'server'       : server,\n",
    "                                                'subtype'       : 'randomMarketSeller',\n",
    "                                                 'id'           : 'agent4',\n",
    "                                                'intensity'     : 0.4,\n",
    "                                                'quantityRange' : [50, 200, 10]},\n",
    "                                    'MM'     : {'type'          : 'basicMM',\n",
    "                                                 'distant'      : True,\n",
    "                                                 'server'       : server,\n",
    "                                                 'id'           : 'MM',\n",
    "                                                'refQuantity'   : 100,\n",
    "                                                'refPrice'      : 100,\n",
    "                                                'b_record'      : True,\n",
    "                                                'FIXaddress'    : 'http://127.0.0.1:5003/'}}}"
   ]
  },
  {
   "cell_type": "markdown",
   "metadata": {},
   "source": [
    "## Create News Information"
   ]
  },
  {
   "cell_type": "code",
   "execution_count": 4,
   "metadata": {
    "scrolled": false
   },
   "outputs": [],
   "source": [
    "# Channel (doubly linked chain of news)\n",
    "newsChannel = Channel()\n",
    "\n",
    "# keeps references on information sources\n",
    "newsFactory = {}\n",
    "config_news = Simulationconfig['information']\n",
    "for info in config_news:\n",
    "    config_news[info]['channel'] = newsChannel\n",
    "    newsFactory[info] = getInstance('mimicLOB.information', config_news[info])"
   ]
  },
  {
   "cell_type": "markdown",
   "metadata": {},
   "source": [
    "## Create the agents\n",
    "The agents is constantly connected to the distant LOB via the server address or the LOB address."
   ]
  },
  {
   "cell_type": "code",
   "execution_count": 5,
   "metadata": {},
   "outputs": [],
   "source": [
    "agentFactory  = {} # keeps references on agents\n",
    "config_agents = Simulationconfig['agents']\n",
    "\n",
    "for agent in config_agents:\n",
    "    config_agents[agent]['channel'] = newsChannel\n",
    "    agentFactory[agent] = getInstance('mimicLOB.agent', config_agents[agent])   "
   ]
  },
  {
   "cell_type": "code",
   "execution_count": 6,
   "metadata": {},
   "outputs": [],
   "source": [
    "# The market (LOB admin)\n",
    "market = genericAgent(id = 'market', distant=True, server=server)"
   ]
  },
  {
   "cell_type": "markdown",
   "metadata": {},
   "source": [
    "## Launch Trading\n",
    "\n",
    "#### We launch trading\n",
    "\n",
    "#### You have to execute the stop or pause command to stop simulation (wait a few seconds of trading at least)"
   ]
  },
  {
   "cell_type": "code",
   "execution_count": 7,
   "metadata": {},
   "outputs": [],
   "source": [
    "from apscheduler.schedulers.background import BackgroundScheduler\n",
    "\n",
    "sched = BackgroundScheduler()\n",
    "\n",
    "def startSimulation():\n",
    "    for agent in agentFactory:\n",
    "        agentFactory[agent].start(sched)\n",
    "        \n",
    "    for news in newsFactory:\n",
    "        newsFactory[news].start(sched)"
   ]
  },
  {
   "cell_type": "code",
   "execution_count": 8,
   "metadata": {},
   "outputs": [],
   "source": [
    "sched.start()\n",
    "startSimulation()"
   ]
  },
  {
   "cell_type": "markdown",
   "metadata": {},
   "source": [
    "## Pause Trading\n",
    "#### INFO : trading still continues, even if the previous cell is not 'running'. The aps scheduler executes tasks in the background !"
   ]
  },
  {
   "cell_type": "code",
   "execution_count": 18,
   "metadata": {
    "scrolled": true
   },
   "outputs": [],
   "source": [
    "try:\n",
    "    sched.pause()\n",
    "except Exception as e:\n",
    "    print(e)"
   ]
  },
  {
   "cell_type": "markdown",
   "metadata": {},
   "source": [
    "## Resume Trading"
   ]
  },
  {
   "cell_type": "code",
   "execution_count": 11,
   "metadata": {
    "scrolled": true
   },
   "outputs": [],
   "source": [
    "try:\n",
    "    sched.resume()\n",
    "except Exception as e:\n",
    "    print(e)"
   ]
  },
  {
   "cell_type": "markdown",
   "metadata": {},
   "source": [
    "## Stop Trading"
   ]
  },
  {
   "cell_type": "code",
   "execution_count": null,
   "metadata": {},
   "outputs": [],
   "source": [
    "try:\n",
    "    sched.shutdown()\n",
    "except Exception as e:\n",
    "    print(e)"
   ]
  },
  {
   "cell_type": "code",
   "execution_count": 15,
   "metadata": {},
   "outputs": [],
   "source": [
    "# uncomment to reset lob : \n",
    "# market.resetLOB_PendingOrders()"
   ]
  },
  {
   "cell_type": "markdown",
   "metadata": {},
   "source": [
    "## Get LOB"
   ]
  },
  {
   "cell_type": "code",
   "execution_count": 11,
   "metadata": {
    "scrolled": false
   },
   "outputs": [
    {
     "data": {
      "image/png": "[encoded data removed]",
      "text/plain": [
       "<Figure size 1440x504 with 1 Axes>"
      ]
     },
     "metadata": {
      "needs_background": "light"
     },
     "output_type": "display_data"
    }
   ],
   "source": [
    "LOBstate = market.getLOBState()\n",
    "LOBstate = LOBstate.set_index('Price').sort_index()\n",
    "LOBstate.plot.bar(figsize=(20, 7))\n",
    "plt.show()"
   ]
  },
  {
   "cell_type": "markdown",
   "metadata": {},
   "source": [
    "## Get Price Tape"
   ]
  },
  {
   "cell_type": "code",
   "execution_count": 10,
   "metadata": {
    "scrolled": false
   },
   "outputs": [
    {
     "data": {
      "text/plain": [
       "'open  : 99.0'"
      ]
     },
     "metadata": {},
     "output_type": "display_data"
    },
    {
     "data": {
      "text/plain": [
       "'high  : 102.0'"
      ]
     },
     "metadata": {},
     "output_type": "display_data"
    },
    {
     "data": {
      "text/plain": [
       "'low   : 97.0'"
      ]
     },
     "metadata": {},
     "output_type": "display_data"
    },
    {
     "data": {
      "text/plain": [
       "'close : 99.0'"
      ]
     },
     "metadata": {},
     "output_type": "display_data"
    },
    {
     "data": {
      "image/png": "[encoded data removed]",
      "text/plain": [
       "<Figure size 1440x504 with 1 Axes>"
      ]
     },
     "metadata": {
      "needs_background": "light"
     },
     "output_type": "display_data"
    }
   ],
   "source": [
    "histoPrices = market.getPriceTape().astype(float)\n",
    "histoPrices.plot(figsize=(20,7))\n",
    "\n",
    "# OHLC\n",
    "display(f'open  : {histoPrices.iloc[0,0]}')\n",
    "display(f'high  : {histoPrices.max()[0]}')\n",
    "display(f'low   : {histoPrices.min()[0]}')\n",
    "display(f'close : {histoPrices.iloc[-1, 0]}')\n",
    "\n",
    "plt.show()"
   ]
  },
  {
   "cell_type": "markdown",
   "metadata": {},
   "source": [
    "## Get Transaction Tape"
   ]
  },
  {
   "cell_type": "code",
   "execution_count": 15,
   "metadata": {},
   "outputs": [],
   "source": [
    "TransactionTape = market.getTransactionTape()"
   ]
  },
  {
   "cell_type": "code",
   "execution_count": 16,
   "metadata": {},
   "outputs": [
    {
     "data": {
      "text/html": [
       "<div>\n",
       "<style scoped>\n",
       "    .dataframe tbody tr th:only-of-type {\n",
       "        vertical-align: middle;\n",
       "    }\n",
       "\n",
       "    .dataframe tbody tr th {\n",
       "        vertical-align: top;\n",
       "    }\n",
       "\n",
       "    .dataframe thead th {\n",
       "        text-align: right;\n",
       "    }\n",
       "</style>\n",
       "<table border=\"1\" class=\"dataframe\">\n",
       "  <thead>\n",
       "    <tr style=\"text-align: right;\">\n",
       "      <th></th>\n",
       "      <th>time</th>\n",
       "      <th>party1_id</th>\n",
       "      <th>party1_side</th>\n",
       "      <th>party1_order_id</th>\n",
       "      <th>party2_id</th>\n",
       "      <th>party2_side</th>\n",
       "      <th>party2_order_id</th>\n",
       "      <th>traded_price</th>\n",
       "      <th>traded_quantity</th>\n",
       "    </tr>\n",
       "  </thead>\n",
       "  <tbody>\n",
       "    <tr>\n",
       "      <td>0</td>\n",
       "      <td>1587325034450132400</td>\n",
       "      <td>MM</td>\n",
       "      <td>bid</td>\n",
       "      <td>1</td>\n",
       "      <td>agent4</td>\n",
       "      <td>bid</td>\n",
       "      <td>NaN</td>\n",
       "      <td>99</td>\n",
       "      <td>100</td>\n",
       "    </tr>\n",
       "    <tr>\n",
       "      <td>1</td>\n",
       "      <td>1587325034492064800</td>\n",
       "      <td>agent3</td>\n",
       "      <td>ask</td>\n",
       "      <td>2</td>\n",
       "      <td>agent2</td>\n",
       "      <td>ask</td>\n",
       "      <td>NaN</td>\n",
       "      <td>100</td>\n",
       "      <td>70</td>\n",
       "    </tr>\n",
       "    <tr>\n",
       "      <td>2</td>\n",
       "      <td>1587325034994322800</td>\n",
       "      <td>agent1</td>\n",
       "      <td>bid</td>\n",
       "      <td>3</td>\n",
       "      <td>agent4</td>\n",
       "      <td>bid</td>\n",
       "      <td>NaN</td>\n",
       "      <td>99</td>\n",
       "      <td>110</td>\n",
       "    </tr>\n",
       "    <tr>\n",
       "      <td>3</td>\n",
       "      <td>1587325034997315500</td>\n",
       "      <td>agent3</td>\n",
       "      <td>ask</td>\n",
       "      <td>2</td>\n",
       "      <td>agent2</td>\n",
       "      <td>ask</td>\n",
       "      <td>NaN</td>\n",
       "      <td>100</td>\n",
       "      <td>20</td>\n",
       "    </tr>\n",
       "    <tr>\n",
       "      <td>4</td>\n",
       "      <td>1587325034997315500</td>\n",
       "      <td>agent3</td>\n",
       "      <td>ask</td>\n",
       "      <td>4</td>\n",
       "      <td>agent2</td>\n",
       "      <td>ask</td>\n",
       "      <td>NaN</td>\n",
       "      <td>100</td>\n",
       "      <td>60</td>\n",
       "    </tr>\n",
       "    <tr>\n",
       "      <td>...</td>\n",
       "      <td>...</td>\n",
       "      <td>...</td>\n",
       "      <td>...</td>\n",
       "      <td>...</td>\n",
       "      <td>...</td>\n",
       "      <td>...</td>\n",
       "      <td>...</td>\n",
       "      <td>...</td>\n",
       "      <td>...</td>\n",
       "    </tr>\n",
       "    <tr>\n",
       "      <td>2863</td>\n",
       "      <td>1587325338204332700</td>\n",
       "      <td>agent1</td>\n",
       "      <td>bid</td>\n",
       "      <td>2750</td>\n",
       "      <td>agent4</td>\n",
       "      <td>bid</td>\n",
       "      <td>NaN</td>\n",
       "      <td>98</td>\n",
       "      <td>34</td>\n",
       "    </tr>\n",
       "    <tr>\n",
       "      <td>2864</td>\n",
       "      <td>1587325338205329900</td>\n",
       "      <td>agent1</td>\n",
       "      <td>bid</td>\n",
       "      <td>2752</td>\n",
       "      <td>agent4</td>\n",
       "      <td>bid</td>\n",
       "      <td>NaN</td>\n",
       "      <td>98</td>\n",
       "      <td>126</td>\n",
       "    </tr>\n",
       "    <tr>\n",
       "      <td>2865</td>\n",
       "      <td>1587325338283553400</td>\n",
       "      <td>agent1</td>\n",
       "      <td>bid</td>\n",
       "      <td>2752</td>\n",
       "      <td>agent4</td>\n",
       "      <td>bid</td>\n",
       "      <td>NaN</td>\n",
       "      <td>98</td>\n",
       "      <td>6</td>\n",
       "    </tr>\n",
       "    <tr>\n",
       "      <td>2866</td>\n",
       "      <td>1587325338284551200</td>\n",
       "      <td>agent1</td>\n",
       "      <td>bid</td>\n",
       "      <td>2753</td>\n",
       "      <td>agent4</td>\n",
       "      <td>bid</td>\n",
       "      <td>NaN</td>\n",
       "      <td>98</td>\n",
       "      <td>81</td>\n",
       "    </tr>\n",
       "    <tr>\n",
       "      <td>2867</td>\n",
       "      <td>1587325338284551200</td>\n",
       "      <td>agent1</td>\n",
       "      <td>bid</td>\n",
       "      <td>2755</td>\n",
       "      <td>agent4</td>\n",
       "      <td>bid</td>\n",
       "      <td>NaN</td>\n",
       "      <td>98</td>\n",
       "      <td>43</td>\n",
       "    </tr>\n",
       "  </tbody>\n",
       "</table>\n",
       "<p>2868 rows × 9 columns</p>\n",
       "</div>"
      ],
      "text/plain": [
       "                     time party1_id party1_side  party1_order_id party2_id party2_side  party2_order_id  traded_price  traded_quantity\n",
       "0     1587325034450132400        MM         bid                1    agent4         bid              NaN            99              100\n",
       "1     1587325034492064800    agent3         ask                2    agent2         ask              NaN           100               70\n",
       "2     1587325034994322800    agent1         bid                3    agent4         bid              NaN            99              110\n",
       "3     1587325034997315500    agent3         ask                2    agent2         ask              NaN           100               20\n",
       "4     1587325034997315500    agent3         ask                4    agent2         ask              NaN           100               60\n",
       "...                   ...       ...         ...              ...       ...         ...              ...           ...              ...\n",
       "2863  1587325338204332700    agent1         bid             2750    agent4         bid              NaN            98               34\n",
       "2864  1587325338205329900    agent1         bid             2752    agent4         bid              NaN            98              126\n",
       "2865  1587325338283553400    agent1         bid             2752    agent4         bid              NaN            98                6\n",
       "2866  1587325338284551200    agent1         bid             2753    agent4         bid              NaN            98               81\n",
       "2867  1587325338284551200    agent1         bid             2755    agent4         bid              NaN            98               43\n",
       "\n",
       "[2868 rows x 9 columns]"
      ]
     },
     "execution_count": 16,
     "metadata": {},
     "output_type": "execute_result"
    }
   ],
   "source": [
    "TransactionTape"
   ]
  },
  {
   "cell_type": "markdown",
   "metadata": {},
   "source": [
    "## Get the MM book history"
   ]
  },
  {
   "cell_type": "code",
   "execution_count": null,
   "metadata": {},
   "outputs": [],
   "source": [
    "executedTrades = pd.DataFrame.from_dict(agentFactory['MM'].executedtrades).T\n",
    "executedTrades.set_index('time')"
   ]
  },
  {
   "cell_type": "code",
   "execution_count": null,
   "metadata": {},
   "outputs": [],
   "source": [
    "# Book evolution :\n",
    "book = getBookHistory(executedTrades, 'MM')"
   ]
  },
  {
   "cell_type": "code",
   "execution_count": 25,
   "metadata": {},
   "outputs": [
    {
     "data": {
      "text/plain": [
       "<matplotlib.axes._subplots.AxesSubplot at 0x2c92173e748>"
      ]
     },
     "execution_count": 25,
     "metadata": {},
     "output_type": "execute_result"
    },
    {
     "data": {
      "image/png": "[encoded data removed]",
      "text/plain": [
       "<Figure size 1800x504 with 1 Axes>"
      ]
     },
     "metadata": {
      "needs_background": "light"
     },
     "output_type": "display_data"
    }
   ],
   "source": [
    "book.astype(float).plot(figsize=(25,7))"
   ]
  }
 ],
 "metadata": {
  "kernelspec": {
   "display_name": "Python 3",
   "language": "python",
   "name": "python3"
  },
  "language_info": {
   "codemirror_mode": {
    "name": "ipython",
    "version": 3
   },
   "file_extension": ".py",
   "mimetype": "text/x-python",
   "name": "python",
   "nbconvert_exporter": "python",
   "pygments_lexer": "ipython3",
   "version": "3.7.4"
  }
 },
 "nbformat": 4,
 "nbformat_minor": 4
}
