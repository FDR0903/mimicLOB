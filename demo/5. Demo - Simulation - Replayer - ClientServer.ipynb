{
 "cells": [
  {
   "cell_type": "markdown",
   "metadata": {},
   "source": [
    "# 0. Imports"
   ]
  },
  {
   "cell_type": "code",
   "execution_count": 1,
   "metadata": {},
   "outputs": [
    {
     "data": {
      "text/html": [
       "<style>.container { width:100% !important; }</style>"
      ],
      "text/plain": [
       "<IPython.core.display.HTML object>"
      ]
     },
     "metadata": {},
     "output_type": "display_data"
    }
   ],
   "source": [
    "# Imports\n",
    "from IPython.display import display, HTML\n",
    "import h5py\n",
    "import pandas as pd, datetime as dt, numpy as np, matplotlib.pyplot as plt\n",
    "import seaborn as sns\n",
    "from pandas.tseries.offsets import DateOffset\n",
    "import sys\n",
    "import logging\n",
    "import os\n",
    "logging.basicConfig()\n",
    "logging.getLogger('apscheduler').setLevel(logging.CRITICAL)\n",
    "\n",
    "# parent directory\n",
    "dirname=os.path.dirname\n",
    "\n",
    "# Display options\n",
    "thisnotebooksys = sys.stdout\n",
    "pd.set_option('display.width', 1000)\n",
    "display(HTML(\"<style>.container { width:100% !important; }</style>\"))\n",
    "pd.set_option('mode.chained_assignment', None)"
   ]
  },
  {
   "cell_type": "code",
   "execution_count": 2,
   "metadata": {},
   "outputs": [],
   "source": [
    "import mimicLOB as mlob\n",
    "\n",
    "# package's path\n",
    "lobpath = dirname(os.path.abspath(mlob.__file__)).replace('\\\\', '/') + '/LOBserver.py'\n",
    "fixpath = dirname(os.path.abspath(mlob.__file__)).replace('\\\\', '/') + '/FIXserver.py'\n",
    "\n",
    "# local server\n",
    "localserver = \"http://127.0.0.1:5000\"\n",
    "distantserver = \"http://fdr0903.pythonanywhere.com/\"\n",
    "\n",
    "# Server used\n",
    "server = localserver"
   ]
  },
  {
   "cell_type": "markdown",
   "metadata": {},
   "source": [
    "#### launch the distant LOB server, if you choose the localserver option\n",
    "#### Copy the command in a terminal"
   ]
  },
  {
   "cell_type": "code",
   "execution_count": 3,
   "metadata": {},
   "outputs": [
    {
     "data": {
      "text/plain": [
       "'python C:/Users/fayca/OneDrive/Documents/FRDev/mimicLOB/mimicLOB/LOBserver.py 5000'"
      ]
     },
     "execution_count": 3,
     "metadata": {},
     "output_type": "execute_result"
    }
   ],
   "source": [
    "port = 5000\n",
    "f\"python {lobpath} {port}\""
   ]
  },
  {
   "cell_type": "markdown",
   "metadata": {},
   "source": [
    "## 1. Data\n",
    "\n",
    "- DTIME : le timestamp de l'ordre\n",
    "- ORDER_ID : l'identifiant de l'ordre\n",
    "- PRICE \n",
    "- QTY\n",
    "- ORDER_SIDE\n",
    "- ORDER_SIDE\n",
    "- ORDER_TYPE :  <br>1 pour Market Order; <br>2 pour Limit Order; <br>q pour Quote <br> W pour Market On Open;\n",
    "- ACTION_TYPE : <br> I = limit order insertion (passive); <br> C = limit order cacnellations; <br> R = replace order that lose priority; <br> r = replace order that keeps priority; <br> S = replace order that makes the order aggressive (give rise to trade); <br> T = aggressive order (give rise to trade)\n",
    "- MATCH_STRATEGY : True/False\n",
    "- IS_OPEN_TRADE :  True/False"
   ]
  },
  {
   "cell_type": "code",
   "execution_count": 4,
   "metadata": {},
   "outputs": [
    {
     "data": {
      "text/html": [
       "<div>\n",
       "<style scoped>\n",
       "    .dataframe tbody tr th:only-of-type {\n",
       "        vertical-align: middle;\n",
       "    }\n",
       "\n",
       "    .dataframe tbody tr th {\n",
       "        vertical-align: top;\n",
       "    }\n",
       "\n",
       "    .dataframe thead th {\n",
       "        text-align: right;\n",
       "    }\n",
       "</style>\n",
       "<table border=\"1\" class=\"dataframe\">\n",
       "  <thead>\n",
       "    <tr style=\"text-align: right;\">\n",
       "      <th></th>\n",
       "      <th>DTIME</th>\n",
       "      <th>ORDER_ID</th>\n",
       "      <th>PRICE</th>\n",
       "      <th>QTY</th>\n",
       "      <th>ORDER_SIDE</th>\n",
       "      <th>ORDER_TYPE</th>\n",
       "      <th>ORDER_DURATION</th>\n",
       "      <th>ACTION_TYPE</th>\n",
       "      <th>MATCH_STRATEGY</th>\n",
       "      <th>IS_OPEN_TRADE</th>\n",
       "    </tr>\n",
       "  </thead>\n",
       "  <tbody>\n",
       "    <tr>\n",
       "      <td>0</td>\n",
       "      <td>2016-04-28 06:04:00.002845</td>\n",
       "      <td>434884337166225159</td>\n",
       "      <td>4479.5</td>\n",
       "      <td>2</td>\n",
       "      <td>B</td>\n",
       "      <td>2</td>\n",
       "      <td>1</td>\n",
       "      <td>I</td>\n",
       "      <td>False</td>\n",
       "      <td>True</td>\n",
       "    </tr>\n",
       "    <tr>\n",
       "      <td>1</td>\n",
       "      <td>2016-04-28 06:04:00.002845</td>\n",
       "      <td>434884337166432696</td>\n",
       "      <td>4486.5</td>\n",
       "      <td>1</td>\n",
       "      <td>B</td>\n",
       "      <td>2</td>\n",
       "      <td>1</td>\n",
       "      <td>I</td>\n",
       "      <td>False</td>\n",
       "      <td>False</td>\n",
       "    </tr>\n",
       "    <tr>\n",
       "      <td>2</td>\n",
       "      <td>2016-04-28 06:04:00.002846</td>\n",
       "      <td>434884337165906933</td>\n",
       "      <td>4467.5</td>\n",
       "      <td>2</td>\n",
       "      <td>B</td>\n",
       "      <td>2</td>\n",
       "      <td>1</td>\n",
       "      <td>I</td>\n",
       "      <td>False</td>\n",
       "      <td>False</td>\n",
       "    </tr>\n",
       "    <tr>\n",
       "      <td>3</td>\n",
       "      <td>2016-04-28 06:04:00.002846</td>\n",
       "      <td>434884337166432748</td>\n",
       "      <td>4466.5</td>\n",
       "      <td>1</td>\n",
       "      <td>B</td>\n",
       "      <td>2</td>\n",
       "      <td>1</td>\n",
       "      <td>I</td>\n",
       "      <td>False</td>\n",
       "      <td>False</td>\n",
       "    </tr>\n",
       "    <tr>\n",
       "      <td>4</td>\n",
       "      <td>2016-04-28 06:04:00.002847</td>\n",
       "      <td>434884337160615272</td>\n",
       "      <td>4452.5</td>\n",
       "      <td>1</td>\n",
       "      <td>B</td>\n",
       "      <td>2</td>\n",
       "      <td>1</td>\n",
       "      <td>I</td>\n",
       "      <td>False</td>\n",
       "      <td>False</td>\n",
       "    </tr>\n",
       "    <tr>\n",
       "      <td>...</td>\n",
       "      <td>...</td>\n",
       "      <td>...</td>\n",
       "      <td>...</td>\n",
       "      <td>...</td>\n",
       "      <td>...</td>\n",
       "      <td>...</td>\n",
       "      <td>...</td>\n",
       "      <td>...</td>\n",
       "      <td>...</td>\n",
       "      <td>...</td>\n",
       "    </tr>\n",
       "    <tr>\n",
       "      <td>1656551</td>\n",
       "      <td>2016-04-28 21:15:00.624695</td>\n",
       "      <td>434884337166781043</td>\n",
       "      <td>4424.0</td>\n",
       "      <td>110</td>\n",
       "      <td>B</td>\n",
       "      <td>2</td>\n",
       "      <td>6</td>\n",
       "      <td>C</td>\n",
       "      <td>False</td>\n",
       "      <td>False</td>\n",
       "    </tr>\n",
       "    <tr>\n",
       "      <td>1656552</td>\n",
       "      <td>2016-04-28 21:15:00.624707</td>\n",
       "      <td>434884337166791567</td>\n",
       "      <td>4410.0</td>\n",
       "      <td>1</td>\n",
       "      <td>B</td>\n",
       "      <td>2</td>\n",
       "      <td>6</td>\n",
       "      <td>C</td>\n",
       "      <td>False</td>\n",
       "      <td>False</td>\n",
       "    </tr>\n",
       "    <tr>\n",
       "      <td>1656553</td>\n",
       "      <td>2016-04-28 21:15:00.624892</td>\n",
       "      <td>434884337166868579</td>\n",
       "      <td>4500.0</td>\n",
       "      <td>1</td>\n",
       "      <td>S</td>\n",
       "      <td>2</td>\n",
       "      <td>6</td>\n",
       "      <td>C</td>\n",
       "      <td>False</td>\n",
       "      <td>False</td>\n",
       "    </tr>\n",
       "    <tr>\n",
       "      <td>1656554</td>\n",
       "      <td>2016-04-28 21:15:00.624901</td>\n",
       "      <td>434884337166950905</td>\n",
       "      <td>4519.0</td>\n",
       "      <td>10</td>\n",
       "      <td>S</td>\n",
       "      <td>2</td>\n",
       "      <td>6</td>\n",
       "      <td>C</td>\n",
       "      <td>False</td>\n",
       "      <td>False</td>\n",
       "    </tr>\n",
       "    <tr>\n",
       "      <td>1656555</td>\n",
       "      <td>2016-04-28 21:15:00.625726</td>\n",
       "      <td>434884337167238674</td>\n",
       "      <td>4354.5</td>\n",
       "      <td>2</td>\n",
       "      <td>B</td>\n",
       "      <td>2</td>\n",
       "      <td>6</td>\n",
       "      <td>C</td>\n",
       "      <td>False</td>\n",
       "      <td>False</td>\n",
       "    </tr>\n",
       "  </tbody>\n",
       "</table>\n",
       "<p>1652044 rows × 10 columns</p>\n",
       "</div>"
      ],
      "text/plain": [
       "                             DTIME            ORDER_ID   PRICE  QTY ORDER_SIDE ORDER_TYPE ORDER_DURATION ACTION_TYPE  MATCH_STRATEGY  IS_OPEN_TRADE\n",
       "0       2016-04-28 06:04:00.002845  434884337166225159  4479.5    2          B          2              1           I           False           True\n",
       "1       2016-04-28 06:04:00.002845  434884337166432696  4486.5    1          B          2              1           I           False          False\n",
       "2       2016-04-28 06:04:00.002846  434884337165906933  4467.5    2          B          2              1           I           False          False\n",
       "3       2016-04-28 06:04:00.002846  434884337166432748  4466.5    1          B          2              1           I           False          False\n",
       "4       2016-04-28 06:04:00.002847  434884337160615272  4452.5    1          B          2              1           I           False          False\n",
       "...                            ...                 ...     ...  ...        ...        ...            ...         ...             ...            ...\n",
       "1656551 2016-04-28 21:15:00.624695  434884337166781043  4424.0  110          B          2              6           C           False          False\n",
       "1656552 2016-04-28 21:15:00.624707  434884337166791567  4410.0    1          B          2              6           C           False          False\n",
       "1656553 2016-04-28 21:15:00.624892  434884337166868579  4500.0    1          S          2              6           C           False          False\n",
       "1656554 2016-04-28 21:15:00.624901  434884337166950905  4519.0   10          S          2              6           C           False          False\n",
       "1656555 2016-04-28 21:15:00.625726  434884337167238674  4354.5    2          B          2              6           C           False          False\n",
       "\n",
       "[1652044 rows x 10 columns]"
      ]
     },
     "execution_count": 4,
     "metadata": {},
     "output_type": "execute_result"
    }
   ],
   "source": [
    "df = pd.read_pickle(r'data\\day20160428.pkl')\n",
    "# df.ORDER_ID = df.ORDER_ID.astype(int)\n",
    "# df.QTY = df.QTY.astype(int)\n",
    "df"
   ]
  },
  {
   "cell_type": "markdown",
   "metadata": {},
   "source": [
    "## 2. Change the distant LOB"
   ]
  },
  {
   "cell_type": "code",
   "execution_count": 5,
   "metadata": {},
   "outputs": [],
   "source": [
    "# The market (LOB admin)\n",
    "market = mlob.genericAgent(id = 'market', distant=True, server=server)"
   ]
  },
  {
   "cell_type": "code",
   "execution_count": 6,
   "metadata": {},
   "outputs": [
    {
     "data": {
      "text/plain": [
       "'DONE'"
      ]
     },
     "execution_count": 6,
     "metadata": {},
     "output_type": "execute_result"
    }
   ],
   "source": [
    "market.setLOB_tickSize(0.5)"
   ]
  },
  {
   "cell_type": "markdown",
   "metadata": {},
   "source": [
    "## 3. Agents Creation"
   ]
  },
  {
   "cell_type": "code",
   "execution_count": 7,
   "metadata": {},
   "outputs": [],
   "source": [
    "auction_config = {'distant'          : True,\n",
    "                 'server'            : server,\n",
    "                  'id'               : 'FDR',\n",
    "                  'b_record'         : False,                  \n",
    "                  'FIXaddress'       : 'http://127.0.0.1:5003/',\n",
    "                  'usengrok'         : False,\n",
    "                  'historicalOrders' : df[df.DTIME.dt.hour<7]}\n",
    "\n",
    "continuousTrading_config = {'distant'          : True,\n",
    "                            'server'           : server,\n",
    "                            'id'               : 'FDR',\n",
    "                            'b_record'         : False,                 \n",
    "                            'FIXaddress'       : 'http://127.0.0.1:5003/',\n",
    "                            'usengrok'         : False,\n",
    "                            'historicalOrders' : df[df.DTIME.dt.hour>=7]}\n",
    "\n",
    "AuctionReplayer = mlob.replayerAgent(**auction_config)\n",
    "ContReplayer    = mlob.replayerAgent(**continuousTrading_config)"
   ]
  },
  {
   "cell_type": "markdown",
   "metadata": {},
   "source": [
    "## 4. Replay orders"
   ]
  },
  {
   "cell_type": "markdown",
   "metadata": {},
   "source": [
    "### 4.1. Auction phase\n",
    "#### The auction price shall be determined on the basis of the situation of the Central Order Book at the closing of the call phase and shall be the price which produces the highest executable order volume."
   ]
  },
  {
   "cell_type": "code",
   "execution_count": 8,
   "metadata": {
    "scrolled": true
   },
   "outputs": [
    {
     "name": "stdout",
     "output_type": "stream",
     "text": [
      "Wall time: 3.88 s\n"
     ]
    }
   ],
   "source": [
    "%%time\n",
    "\n",
    "# log\n",
    "f = open('log_auction.txt','w');\n",
    "sys.stdout = f\n",
    "\n",
    "# Open auction\n",
    "market.setLOB_b_auction(True) \n",
    "AuctionReplayer.replayOrders()\n",
    "\n",
    "# log\n",
    "sys.stdout = thisnotebooksys"
   ]
  },
  {
   "cell_type": "markdown",
   "metadata": {},
   "source": [
    "### 4.2. Auction is over\n",
    "\n",
    "Closing the auction will result in transactions and a new LOB with unmatched orders will be set.\n",
    "The price is chosen as the one that maximizes volume of transactions.\n",
    "\n",
    "Trades are executed at the auction price, and according to a time priority. The remaining orders at the auction price are the newest orders."
   ]
  },
  {
   "cell_type": "code",
   "execution_count": 9,
   "metadata": {
    "scrolled": false
   },
   "outputs": [
    {
     "name": "stdout",
     "output_type": "stream",
     "text": [
      "Wall time: 19.5 ms\n"
     ]
    }
   ],
   "source": [
    "%%time\n",
    "\n",
    "# log\n",
    "f = open('log_auctionClose.txt','w');\n",
    "sys.stdout = f\n",
    "\n",
    "market.setLOB_b_auction(False) \n",
    "\n",
    "# log\n",
    "sys.stdout = thisnotebooksys"
   ]
  },
  {
   "cell_type": "markdown",
   "metadata": {},
   "source": [
    "### 4.3. Lob State\n",
    "LOB state before opening the continuous trading"
   ]
  },
  {
   "cell_type": "code",
   "execution_count": 10,
   "metadata": {},
   "outputs": [
    {
     "data": {
      "image/png": "[encoded data removed]",
      "text/plain": [
       "<Figure size 1440x504 with 1 Axes>"
      ]
     },
     "metadata": {
      "needs_background": "light"
     },
     "output_type": "display_data"
    }
   ],
   "source": [
    "LOBstate = AuctionReplayer.getLOBState()\n",
    "LOBstate = LOBstate.set_index('Price').sort_index()\n",
    "LOBstate.plot.bar(figsize=(20, 7))\n",
    "plt.show()"
   ]
  },
  {
   "cell_type": "markdown",
   "metadata": {},
   "source": [
    "### 4.4. Continuous Trading"
   ]
  },
  {
   "cell_type": "code",
   "execution_count": null,
   "metadata": {},
   "outputs": [],
   "source": [
    "%%time\n",
    "\n",
    "# log\n",
    "f = open('log_continuousTrading.txt','w');\n",
    "sys.stdout = f\n",
    "\n",
    "# Close auction\n",
    "ContReplayer.replayOrders()\n",
    "\n",
    "# log\n",
    "sys.stdout = thisnotebooksys"
   ]
  },
  {
   "cell_type": "markdown",
   "metadata": {},
   "source": [
    "## 5. Price Tape"
   ]
  },
  {
   "cell_type": "code",
   "execution_count": null,
   "metadata": {},
   "outputs": [],
   "source": [
    "histoPrices = ContReplayer.getPriceTape().astype(float)\n",
    "histoPrices.plot(figsize=(20,7))\n",
    "\n",
    "# OHLC\n",
    "display(f'open  : {histoPrices.iloc[0,0]}')\n",
    "display(f'high  : {histoPrices.max()[0]}')\n",
    "display(f'low   : {histoPrices.min()[0]}')\n",
    "display(f'close : {histoPrices.iloc[-1, 0]}')\n",
    "\n",
    "plt.show()"
   ]
  },
  {
   "cell_type": "markdown",
   "metadata": {},
   "source": [
    "## Get Transaction Tape"
   ]
  },
  {
   "cell_type": "code",
   "execution_count": null,
   "metadata": {},
   "outputs": [],
   "source": [
    "TransactionTape = ContReplayer.getTransactionTape()"
   ]
  },
  {
   "cell_type": "code",
   "execution_count": null,
   "metadata": {},
   "outputs": [],
   "source": [
    "TransactionTape"
   ]
  },
  {
   "cell_type": "markdown",
   "metadata": {},
   "source": [
    "## Get LOB Tape \n",
    "\n",
    "The LOB tape is the state of the LOB before each order arrival"
   ]
  },
  {
   "cell_type": "code",
   "execution_count": null,
   "metadata": {},
   "outputs": [],
   "source": [
    "LOBtape = AuctionReplayer.getLOBTape()"
   ]
  },
  {
   "cell_type": "code",
   "execution_count": null,
   "metadata": {},
   "outputs": [],
   "source": [
    "LOBtape"
   ]
  }
 ],
 "metadata": {
  "kernelspec": {
   "display_name": "Python 3",
   "language": "python",
   "name": "python3"
  },
  "language_info": {
   "codemirror_mode": {
    "name": "ipython",
    "version": 3
   },
   "file_extension": ".py",
   "mimetype": "text/x-python",
   "name": "python",
   "nbconvert_exporter": "python",
   "pygments_lexer": "ipython3",
   "version": "3.7.4"
  }
 },
 "nbformat": 4,
 "nbformat_minor": 4
}
