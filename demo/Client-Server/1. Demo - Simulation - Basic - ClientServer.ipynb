{
 "cells": [
  {
   "cell_type": "markdown",
   "metadata": {},
   "source": [
    "# 0. Imports"
   ]
  },
  {
   "cell_type": "code",
   "execution_count": null,
   "metadata": {},
   "outputs": [],
   "source": [
    "# Imports\n",
    "from   IPython.display import display, HTML\n",
    "import numpy as np\n",
    "import pandas as pd\n",
    "from pprint import pprint\n",
    "import matplotlib.pyplot as plt\n",
    "import logging\n",
    "import os\n",
    "logging.basicConfig()\n",
    "logging.getLogger('apscheduler').setLevel(logging.CRITICAL)\n",
    "\n",
    "# parent directory\n",
    "dirname=os.path.dirname\n",
    "\n",
    "# Display options\n",
    "pd.set_option('display.width', 1000)\n",
    "display(HTML(\"<style>.container { width:100% !important; }</style>\"))\n",
    "pd.set_option('mode.chained_assignment', None)"
   ]
  },
  {
   "cell_type": "code",
   "execution_count": null,
   "metadata": {},
   "outputs": [],
   "source": [
    "import mimicLOB as mlob\n",
    "\n",
    "# package's path\n",
    "lobpath = dirname(os.path.abspath(mlob.__file__)).replace('\\\\', '/') + '/LOBserver.py'\n",
    "fixpath = dirname(os.path.abspath(mlob.__file__)).replace('\\\\', '/') + '/FIXserver.py'\n",
    "\n",
    "# local server\n",
    "localserver = \"http://127.0.0.1:5000\"\n",
    "distantserver = \"http://fdr0903.pythonanywhere.com/\"\n",
    "\n",
    "# Server used\n",
    "server = localserver"
   ]
  },
  {
   "cell_type": "markdown",
   "metadata": {},
   "source": [
    "#### launch the distant LOB server, if you choose the localserver option\n",
    "#### Copy the command in a terminal"
   ]
  },
  {
   "cell_type": "code",
   "execution_count": null,
   "metadata": {},
   "outputs": [],
   "source": [
    "port = 5000\n",
    "f\"python {lobpath} {port}\""
   ]
  },
  {
   "cell_type": "markdown",
   "metadata": {},
   "source": [
    "#### Open the 5002 & 5003 port in your local host to receive messages from the distant LOB"
   ]
  },
  {
   "cell_type": "code",
   "execution_count": null,
   "metadata": {},
   "outputs": [],
   "source": [
    "print(f\"python {fixpath} 5002\")\n",
    "print(f\"python {fixpath} 5003\")"
   ]
  },
  {
   "cell_type": "markdown",
   "metadata": {},
   "source": [
    "## Simulation configuration\n",
    "\n",
    "#### Random Agent : a random agent is either a liquidity provider via limit order or a liquidity consumer via market orders. The agent has an intensity of sending order. \n",
    "#### Random agents react to exogenous news, their intensity of sending orders is shifted according to news arrival. \n",
    "#### News object is a random process between 0 & 100, 0 being the worst news and 100 very good news. For examples, buyers will buy more if the news are very good. This enables trends in prices.\n",
    "\n",
    "#### Parameters :\n",
    "1. distant : if true, the agent must have the server address. If False, he should have the orderbook object passed in the configuration.\n",
    "2. server : when distant is True, the http address of the server the LOB is running on.\n",
    "3. id : optional, default is generic. the if is used in the transaction tape.\n",
    "4. b_record : optional, boolean, default is False. If True, the agent records all his activity : sent orders, executed trades, pending orders ...\n",
    "\n",
    "5. FIXaddress : address & port on which the agent is listening to the LOB messages. Every agent should have a different port."
   ]
  },
  {
   "cell_type": "code",
   "execution_count": null,
   "metadata": {},
   "outputs": [],
   "source": [
    "Simulationconfig = {'information' : {'basicInfo' : {'type'        : 'genericInformation',\n",
    "                                                    'intensity'   : 0.01}},\n",
    "                    'agents'      : {'liquidityConsumerAgents' : {'type'          : 'liquidityConsumerAgent',\n",
    "                                                                  'id'            : 'liquidityConsumerAgents',\n",
    "                                                                  'server'        : server,\n",
    "                                                                  'subtypes'      : ['randomLimitBuyer', 'randomLimitSeller', 'randomMarketBuyer', 'randomMarketSeller'],\n",
    "                                                                  'intensities'   : [0.4,                0.4,                 0.4,                 0.4],\n",
    "                                                                  'quantityRanges': [[20, 80, 10],       [20, 80, 10],        [20, 80, 10],        [20, 80, 10]],\n",
    "                                                                  'distant'       : True,\n",
    "                                                                  'b_record'      : True,\n",
    "                                                                  'FIXaddress'    : 'http://127.0.0.1:5002/',\n",
    "                                                                  'usengrok'      : False},\n",
    "\n",
    "                                    'MM'                       : {'type'          : 'liquidityProviderAgent',\n",
    "                                                                  'id'            : 'MM',\n",
    "                                                                  'server'        : server,\n",
    "                                                                  'refQuantity'   : 200,\n",
    "                                                                  'refPrice'      : 100,\n",
    "                                                                  'distant'       : True,\n",
    "                                                                  'b_record'      : True,\n",
    "                                                                  'FIXaddress'    : 'http://127.0.0.1:5003/',\n",
    "                                                                  'usengrok'      : False}}}"
   ]
  },
  {
   "cell_type": "markdown",
   "metadata": {},
   "source": [
    "## Create News Information"
   ]
  },
  {
   "cell_type": "code",
   "execution_count": null,
   "metadata": {
    "scrolled": false
   },
   "outputs": [],
   "source": [
    "# Channel (doubly linked chain of news)\n",
    "newsChannel = mlob.Channel()\n",
    "\n",
    "# keeps references on information sources\n",
    "newsFactory = {}\n",
    "config_news = Simulationconfig['information']\n",
    "for info in config_news:\n",
    "    config_news[info]['channel'] = newsChannel\n",
    "    newsFactory[info] = mlob.utils.getInstance('mimicLOB.information', config_news[info])"
   ]
  },
  {
   "cell_type": "markdown",
   "metadata": {},
   "source": [
    "## Create the agents\n",
    "The agents is constantly connected to the distant LOB via the server address or the LOB address."
   ]
  },
  {
   "cell_type": "code",
   "execution_count": null,
   "metadata": {},
   "outputs": [],
   "source": [
    "agentFactory  = {} # keeps references on agents\n",
    "config_agents = Simulationconfig['agents']\n",
    "\n",
    "for agent in config_agents:\n",
    "    config_agents[agent]['channel'] = newsChannel\n",
    "    agentFactory[agent] = mlob.utils.getInstance('mimicLOB.agent', config_agents[agent])"
   ]
  },
  {
   "cell_type": "code",
   "execution_count": null,
   "metadata": {},
   "outputs": [],
   "source": [
    "# The market (LOB admin)\n",
    "market = mlob.genericAgent(id = 'market', distant=True, server=server)"
   ]
  },
  {
   "cell_type": "code",
   "execution_count": null,
   "metadata": {},
   "outputs": [],
   "source": [
    "# Change the LOB\n",
    "from decimal import Decimal\n",
    "market.setLOB_tickSize(Decimal(0.1))"
   ]
  },
  {
   "cell_type": "markdown",
   "metadata": {},
   "source": [
    "#### Fix server : local host is accessible via this public adderess if usengrok is set to true. IT is used by the distant LOB to send notifications of trades & orders sitting in the book."
   ]
  },
  {
   "cell_type": "code",
   "execution_count": null,
   "metadata": {},
   "outputs": [],
   "source": [
    "agentFactory['MM']._fixserver"
   ]
  },
  {
   "cell_type": "markdown",
   "metadata": {},
   "source": [
    "## Launch Trading\n",
    "\n",
    "#### We launch trading\n",
    "\n",
    "#### You have to execute the stop or pause command to stop simulation (wait a few seconds of trading at least)"
   ]
  },
  {
   "cell_type": "code",
   "execution_count": null,
   "metadata": {},
   "outputs": [],
   "source": [
    "from apscheduler.schedulers.background import BackgroundScheduler\n",
    "\n",
    "sched = BackgroundScheduler()\n",
    "\n",
    "def startSimulation():\n",
    "    for agent in agentFactory:\n",
    "        agentFactory[agent].start(sched)\n",
    "        \n",
    "    for news in newsFactory:\n",
    "        newsFactory[news].start(sched)"
   ]
  },
  {
   "cell_type": "code",
   "execution_count": null,
   "metadata": {},
   "outputs": [],
   "source": [
    "sched.start()\n",
    "startSimulation()"
   ]
  },
  {
   "cell_type": "markdown",
   "metadata": {},
   "source": [
    "## Pause Trading\n",
    "#### INFO : trading still continues, even if the previous cell is not 'running'. The aps scheduler executes tasks in the background !"
   ]
  },
  {
   "cell_type": "code",
   "execution_count": null,
   "metadata": {
    "scrolled": true
   },
   "outputs": [],
   "source": [
    "try:\n",
    "    sched.pause()\n",
    "except Exception as e:\n",
    "    print(e)"
   ]
  },
  {
   "cell_type": "markdown",
   "metadata": {},
   "source": [
    "## Resume Trading"
   ]
  },
  {
   "cell_type": "code",
   "execution_count": null,
   "metadata": {
    "scrolled": true
   },
   "outputs": [],
   "source": [
    "try:\n",
    "    sched.resume()\n",
    "except Exception as e:\n",
    "    print(e)"
   ]
  },
  {
   "cell_type": "markdown",
   "metadata": {},
   "source": [
    "## Stop Trading"
   ]
  },
  {
   "cell_type": "code",
   "execution_count": null,
   "metadata": {},
   "outputs": [],
   "source": [
    "try:\n",
    "    sched.shutdown()\n",
    "except Exception as e:\n",
    "    print(e)"
   ]
  },
  {
   "cell_type": "code",
   "execution_count": null,
   "metadata": {},
   "outputs": [],
   "source": [
    "# uncomment to reset lob : \n",
    "# market.resetLOB_PendingOrders()"
   ]
  },
  {
   "cell_type": "markdown",
   "metadata": {},
   "source": [
    "## Get LOB"
   ]
  },
  {
   "cell_type": "code",
   "execution_count": null,
   "metadata": {
    "scrolled": false
   },
   "outputs": [],
   "source": [
    "LOBstate = market.getLOBState()\n",
    "LOBstate = LOBstate.set_index('Price').sort_index()\n",
    "LOBstate.plot.bar(figsize=(20, 7))\n",
    "plt.show()"
   ]
  },
  {
   "cell_type": "markdown",
   "metadata": {},
   "source": [
    "## Get Price Tape"
   ]
  },
  {
   "cell_type": "code",
   "execution_count": null,
   "metadata": {
    "scrolled": false
   },
   "outputs": [],
   "source": [
    "histoPrices = market.getPriceTape().astype(float)\n",
    "histoPrices.plot(figsize=(20,7))\n",
    "\n",
    "# OHLC\n",
    "display(f'open  : {histoPrices.iloc[0,0]}')\n",
    "display(f'high  : {histoPrices.max()[0]}')\n",
    "display(f'low   : {histoPrices.min()[0]}')\n",
    "display(f'close : {histoPrices.iloc[-1, 0]}')\n",
    "\n",
    "plt.show()"
   ]
  },
  {
   "cell_type": "markdown",
   "metadata": {},
   "source": [
    "## Get Transaction Tape"
   ]
  },
  {
   "cell_type": "code",
   "execution_count": null,
   "metadata": {},
   "outputs": [],
   "source": [
    "TransactionTape = market.getTransactionTape()"
   ]
  },
  {
   "cell_type": "code",
   "execution_count": null,
   "metadata": {},
   "outputs": [],
   "source": [
    "TransactionTape"
   ]
  },
  {
   "cell_type": "markdown",
   "metadata": {},
   "source": [
    "## Get the MM book history"
   ]
  },
  {
   "cell_type": "code",
   "execution_count": null,
   "metadata": {},
   "outputs": [],
   "source": [
    "executedTrades = pd.DataFrame.from_dict(agentFactory['MM'].executedtrades).T\n",
    "executedTrades.set_index('time')"
   ]
  },
  {
   "cell_type": "code",
   "execution_count": null,
   "metadata": {},
   "outputs": [],
   "source": [
    "# Book evolution :\n",
    "book = mlob.utils.getBookHistory(executedTrades, 'MM')"
   ]
  },
  {
   "cell_type": "code",
   "execution_count": null,
   "metadata": {},
   "outputs": [],
   "source": [
    "book.astype(float).plot(figsize=(25,7))"
   ]
  },
  {
   "cell_type": "code",
   "execution_count": null,
   "metadata": {},
   "outputs": [],
   "source": []
  }
 ],
 "metadata": {
  "kernelspec": {
   "display_name": "Python 3",
   "language": "python",
   "name": "python3"
  },
  "language_info": {
   "codemirror_mode": {
    "name": "ipython",
    "version": 3
   },
   "file_extension": ".py",
   "mimetype": "text/x-python",
   "name": "python",
   "nbconvert_exporter": "python",
   "pygments_lexer": "ipython3",
   "version": "3.7.4"
  }
 },
 "nbformat": 4,
 "nbformat_minor": 4
}
