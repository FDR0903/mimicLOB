{
 "cells": [
  {
   "cell_type": "markdown",
   "metadata": {},
   "source": [
    "# 0. Imports"
   ]
  },
  {
   "cell_type": "code",
   "execution_count": null,
   "metadata": {},
   "outputs": [],
   "source": [
    "# Imports\n",
    "from IPython.display import display, HTML\n",
    "import os\n",
    "import pandas as pd, datetime as dt, numpy as np, matplotlib.pyplot as plt\n",
    "from pandas.tseries.offsets import DateOffset\n",
    "import sys\n",
    "\n",
    "# Display options\n",
    "thisnotebooksys = sys.stdout\n",
    "pd.set_option('display.width', 1000)\n",
    "display(HTML(\"<style>.container { width:100% !important; }</style>\"))\n",
    "pd.set_option('mode.chained_assignment', None)"
   ]
  },
  {
   "cell_type": "code",
   "execution_count": null,
   "metadata": {},
   "outputs": [],
   "source": [
    "import mimicLOB as mlob"
   ]
  },
  {
   "cell_type": "markdown",
   "metadata": {},
   "source": [
    "## 1. LOB creation"
   ]
  },
  {
   "cell_type": "code",
   "execution_count": null,
   "metadata": {},
   "outputs": [],
   "source": [
    "# b_tape = True means the LOB \n",
    "LOB = mlob.OrderBook(tick_size  = 0.5, \n",
    "                     b_tape     = True, # tape transactions\n",
    "                     b_tape_LOB = True, # tape lob state at each tick\n",
    "                     verbose    = True)"
   ]
  },
  {
   "cell_type": "markdown",
   "metadata": {},
   "source": [
    "## 2. Data\n",
    "\n",
    "- DTIME : le timestamp de l'ordre\n",
    "- ORDER_ID : l'identifiant de l'ordre\n",
    "- PRICE \n",
    "- QTY\n",
    "- ORDER_SIDE\n",
    "- ORDER_SIDE\n",
    "- ORDER_TYPE :  <br>1 pour Market Order; <br>2 pour Limit Order; <br>q pour Quote <br> W pour Market On Open;\n",
    "- ACTION_TYPE : <br> I = limit order insertion (passive); <br> C = limit order cacnellations; <br> R = replace order that lose priority; <br> r = replace order that keeps priority; <br> S = replace order that makes the order aggressive (give rise to trade); <br> T = aggressive order (give rise to trade)\n",
    "- MATCH_STRATEGY : True/False\n",
    "- IS_OPEN_TRADE :  True/False"
   ]
  },
  {
   "cell_type": "code",
   "execution_count": null,
   "metadata": {},
   "outputs": [],
   "source": [
    "df = pd.read_pickle(r'..\\data\\day20160428.pkl')\n",
    "df"
   ]
  },
  {
   "cell_type": "markdown",
   "metadata": {},
   "source": [
    "## 3. Agents Creation"
   ]
  },
  {
   "cell_type": "code",
   "execution_count": null,
   "metadata": {},
   "outputs": [],
   "source": [
    "auction_config = {'orderbook'        : LOB,\n",
    "                  'id'               : 'FDR',\n",
    "                  'b_record'         : False,\n",
    "                  'historicalOrders' : df[df.DTIME.dt.hour<7]}\n",
    "\n",
    "continuousTrading_config = {'orderbook'        : LOB,\n",
    "                            'id'               : 'FDR',\n",
    "                            'b_record'         : False,\n",
    "                            'historicalOrders' : df[df.DTIME.dt.hour>=7]}\n",
    "\n",
    "AuctionReplayer = mlob.replayerAgent(**auction_config)\n",
    "ContReplayer    = mlob.replayerAgent(**continuousTrading_config)"
   ]
  },
  {
   "cell_type": "markdown",
   "metadata": {},
   "source": [
    "## 4. Replay orders"
   ]
  },
  {
   "cell_type": "markdown",
   "metadata": {},
   "source": [
    "### 4.1. Auction phase\n",
    "#### The auction price shall be determined on the basis of the situation of the Central Order Book at the closing of the call phase and shall be the price which produces the highest executable order volume."
   ]
  },
  {
   "cell_type": "code",
   "execution_count": null,
   "metadata": {
    "scrolled": true
   },
   "outputs": [],
   "source": [
    "%%time\n",
    "\n",
    "# log\n",
    "f = open('log_auction.txt','w');\n",
    "sys.stdout = f\n",
    "\n",
    "# Close auction\n",
    "LOB.b_auction = True #Open auction\n",
    "AuctionReplayer.replayOrders()\n",
    "\n",
    "# log\n",
    "sys.stdout = thisnotebooksys"
   ]
  },
  {
   "cell_type": "markdown",
   "metadata": {},
   "source": [
    "### 4.2. Auction is over\n",
    "\n",
    "Closing the auction will result in transactions and a new LOB with unmatched orders will be set.\n",
    "The price is chosen as the one that maximizes volume of transactions.\n",
    "\n",
    "Trades are executed at the auction price, and according to a time priority. The remaining orders at the auction price are the newest orders."
   ]
  },
  {
   "cell_type": "code",
   "execution_count": null,
   "metadata": {
    "scrolled": false
   },
   "outputs": [],
   "source": [
    "%%time\n",
    "\n",
    "# log\n",
    "f = open('log_auctionClose.txt','w');\n",
    "sys.stdout = f\n",
    "\n",
    "LOB.b_auction = False\n",
    "\n",
    "# log\n",
    "sys.stdout = thisnotebooksys"
   ]
  },
  {
   "cell_type": "markdown",
   "metadata": {},
   "source": [
    "### 4.3. Lob State\n",
    "LOB state before opening the continuous trading"
   ]
  },
  {
   "cell_type": "code",
   "execution_count": null,
   "metadata": {},
   "outputs": [],
   "source": [
    "LOBstate = AuctionReplayer.getLOBState()\n",
    "LOBstate = LOBstate.set_index('Price').sort_index()\n",
    "LOBstate.plot.bar(figsize=(20, 7))\n",
    "plt.show()"
   ]
  },
  {
   "cell_type": "markdown",
   "metadata": {},
   "source": [
    "### 4.4. Continuous Trading"
   ]
  },
  {
   "cell_type": "code",
   "execution_count": null,
   "metadata": {},
   "outputs": [],
   "source": [
    "%%time\n",
    "\n",
    "# log\n",
    "f = open('log_continuousTrading.txt','w');\n",
    "sys.stdout = f\n",
    "\n",
    "# Close auction\n",
    "ContReplayer.replayOrders()\n",
    "\n",
    "# log\n",
    "sys.stdout = thisnotebooksys"
   ]
  },
  {
   "cell_type": "markdown",
   "metadata": {},
   "source": [
    "## 5. Price Tape"
   ]
  },
  {
   "cell_type": "code",
   "execution_count": null,
   "metadata": {},
   "outputs": [],
   "source": [
    "histoPrices = ContReplayer.getPriceTape().astype(float)\n",
    "histoPrices.plot(figsize=(20,7))\n",
    "\n",
    "# OHLC\n",
    "display(f'open  : {histoPrices.iloc[0,0]}')\n",
    "display(f'high  : {histoPrices.max()[0]}')\n",
    "display(f'low   : {histoPrices.min()[0]}')\n",
    "display(f'close : {histoPrices.iloc[-1, 0]}')\n",
    "\n",
    "plt.show()"
   ]
  },
  {
   "cell_type": "markdown",
   "metadata": {},
   "source": [
    "## Get Transaction Tape"
   ]
  },
  {
   "cell_type": "code",
   "execution_count": null,
   "metadata": {},
   "outputs": [],
   "source": [
    "TransactionTape = ContReplayer.getTransactionTape()"
   ]
  },
  {
   "cell_type": "code",
   "execution_count": null,
   "metadata": {},
   "outputs": [],
   "source": [
    "TransactionTape"
   ]
  },
  {
   "cell_type": "markdown",
   "metadata": {},
   "source": [
    "## Get LOB Tape \n",
    "\n",
    "The LOB tape is the state of the LOB before each order arrival"
   ]
  },
  {
   "cell_type": "code",
   "execution_count": null,
   "metadata": {},
   "outputs": [],
   "source": [
    "LOBtape = AuctionReplayer.getLOBTape()"
   ]
  },
  {
   "cell_type": "code",
   "execution_count": null,
   "metadata": {},
   "outputs": [],
   "source": [
    "LOBtape"
   ]
  }
 ],
 "metadata": {
  "kernelspec": {
   "display_name": "Python 3",
   "language": "python",
   "name": "python3"
  },
  "language_info": {
   "codemirror_mode": {
    "name": "ipython",
    "version": 3
   },
   "file_extension": ".py",
   "mimetype": "text/x-python",
   "name": "python",
   "nbconvert_exporter": "python",
   "pygments_lexer": "ipython3",
   "version": "3.7.4"
  }
 },
 "nbformat": 4,
 "nbformat_minor": 4
}
