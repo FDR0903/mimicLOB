{
 "cells": [
  {
   "cell_type": "markdown",
   "metadata": {},
   "source": [
    "# Almgren-Chriss Framework Agent : \n",
    "# Quadratic Execution Costs & Constant Volume\n",
    "## Based on the book : The Financial Mathematics of Market Liquidity: From Optimal Execution to Market Making \n",
    "#### This notebook shows how to fit the parameters of the classical sine equation of optimal liquidation of a single stock in the Almgren & Chriss Framework with quadratic execution costs :\n",
    "#### It also shows how to backtest the fitted trading curves\n",
    "# Imports"
   ]
  },
  {
   "cell_type": "code",
   "execution_count": null,
   "metadata": {},
   "outputs": [],
   "source": [
    "# Imports\n",
    "from IPython.display import display, HTML\n",
    "import os\n",
    "import pandas as pd, datetime as dt, numpy as np, matplotlib.pyplot as plt\n",
    "from pandas.tseries.offsets import DateOffset\n",
    "import sys\n",
    "import datetime as dt\n",
    "from apscheduler.schedulers.background import BackgroundScheduler\n",
    "from collections import deque # a faster insert/pop queue\n",
    "from decimal import Decimal\n",
    "\n",
    "# limit logging of scheduler\n",
    "import logging\n",
    "logging.basicConfig()\n",
    "logging.getLogger('apscheduler').setLevel(logging.CRITICAL)\n",
    "\n",
    "# Display options\n",
    "thisnotebooksys = sys.stdout\n",
    "pd.set_option('display.width', 1000)\n",
    "display(HTML(\"<style>.container { width:100% !important; }</style>\"))\n",
    "pd.set_option('mode.chained_assignment', None)"
   ]
  },
  {
   "cell_type": "code",
   "execution_count": null,
   "metadata": {},
   "outputs": [],
   "source": [
    "import mimicLOB as mlob"
   ]
  },
  {
   "cell_type": "markdown",
   "metadata": {},
   "source": [
    "# LOB creation"
   ]
  },
  {
   "cell_type": "code",
   "execution_count": null,
   "metadata": {},
   "outputs": [],
   "source": [
    "# b_tape = True means the LOB is taping all transactions\n",
    "LOB = mlob.OrderBook(tick_size  = 0.5, \n",
    "                     b_tape     = True,\n",
    "                     b_tape_LOB = True,\n",
    "                     verbose    = False)"
   ]
  },
  {
   "cell_type": "markdown",
   "metadata": {},
   "source": [
    "## Create the QRM Agent"
   ]
  },
  {
   "cell_type": "code",
   "execution_count": null,
   "metadata": {},
   "outputs": [],
   "source": [
    "qrm_config = {'orderbook'     : LOB,\n",
    "              'id'            : 'market',\n",
    "              'b_record'      : True,\n",
    "              'lambdas_plus'  : 1/pd.read_pickle(r'..\\data\\Lambda_plus.pkl'),\n",
    "              'lambdas_minus' : 1/pd.read_pickle(r'..\\data\\Lambda_minus.pkl'),\n",
    "              'event_sizes'   : pd.read_pickle(r'..\\data\\event_sizes.pkl'),\n",
    "              'S0'            : 4400,\n",
    "              'theta'         : 0.2, # Probability that the reference price (around which the lob dynamics are constructed) changes when the mid price changes (when a first limit is depleted)\n",
    "              'theta_reinit'  : 0.7, # Probability that the whole LOB dynamics to be redrawn from its invariant distribution when the ref price changes (this transition is done smoothly : no huge jump in quantities between events)\n",
    "              'MOPart'        : 0.05, # % of liquidity consuming events that are market orders (5% is a historical realized value for CF1)\n",
    "              'verbose'       : False}\n",
    "\n",
    "qrm = mlob.QRM(**qrm_config)"
   ]
  },
  {
   "cell_type": "markdown",
   "metadata": {},
   "source": [
    "# Launch Simulation - Basic\n",
    "#### Here we simulate a week of trading to fit our optimal trading strategy parameters \n",
    "#### The simulation lasts approx 4min"
   ]
  },
  {
   "cell_type": "code",
   "execution_count": null,
   "metadata": {
    "scrolled": false
   },
   "outputs": [],
   "source": [
    "%%time \n",
    "\n",
    "Hours_Of_Trading = 5*7 # approx 7 sec of simulation per hour \n",
    "\n",
    "for i in range(Hours_Of_Trading * 60**2):\n",
    "    qrm.sendOrders()"
   ]
  },
  {
   "cell_type": "markdown",
   "metadata": {},
   "source": [
    "#### Get Simulated Prices Evolution"
   ]
  },
  {
   "cell_type": "code",
   "execution_count": null,
   "metadata": {},
   "outputs": [],
   "source": [
    "# Takes time\n",
    "LOBtape                 = qrm.getLOBTape()\n",
    "TransactionTape         = qrm.getTransactionTape()\n",
    "histoPrices             = qrm.getPriceTape().astype(float)\n",
    "\n",
    "LOBtape['TIME']         = pd.to_datetime(LOBtape['TIME'], unit='s')\n",
    "TransactionTape['time'] = pd.to_datetime(TransactionTape['time'], unit='s')"
   ]
  },
  {
   "cell_type": "code",
   "execution_count": null,
   "metadata": {},
   "outputs": [],
   "source": [
    "fig, ((ax1, ax2), (ax3, ax4)) = plt.subplots(2, 2, figsize=(25, 8))\n",
    "\n",
    "# bid & ask\n",
    "LOBtape['TIME'] = pd.to_datetime(LOBtape['TIME'], unit='s')\n",
    "bidask          = LOBtape.set_index('TIME').resample('s').last()[['BID0', 'ASK0']].dropna().astype(float)\n",
    "\n",
    "# Mid Price Plot\n",
    "bidask[['BID0', 'ASK0']].astype(float).plot(ax = ax1); ax1.set_title('bid & ask')\n",
    "\n",
    "# Transaction price\n",
    "histoPrices.plot(ax = ax2)\n",
    "\n",
    "# Hourly Traded Quantity\n",
    "TransactionTape.set_index('time').traded_quantity.rolling('1h').sum().plot(ax=ax3); ax3.set_title('Rolling 1 hour traded volume')\n",
    "\n",
    "# Hourly Volatility (in Dollars)\n",
    "midPrice = ((LOBtape.set_index('TIME').BID0 + LOBtape.set_index('TIME').ASK0)/2).iloc[2:]\n",
    "midPrice.sort_index().diff(1).rolling('1h').std().plot(ax=ax4); ax4.set_title('Rolling intraday volatility - 1h')\n",
    "\n",
    "plt.tight_layout()"
   ]
  },
  {
   "cell_type": "markdown",
   "metadata": {},
   "source": [
    "#### Some statistics"
   ]
  },
  {
   "cell_type": "code",
   "execution_count": null,
   "metadata": {},
   "outputs": [],
   "source": [
    "# OHLC\n",
    "display(f'open  : {histoPrices.iloc[0,0]}')\n",
    "display(f'high  : {histoPrices.max()[0]}')\n",
    "display(f'low   : {histoPrices.min()[0]}')\n",
    "display(f'close : {histoPrices.iloc[-1, 0]}')\n",
    "\n",
    "# Volatility\n",
    "display('annualized volatility : ', 100 * (6 * 60 * 7 * 252)**0.5 * TransactionTape.set_index('time').traded_price.astype(float).resample('10s').last().pct_change(1).std())\n",
    "\n",
    "# Hourly Volatility \n",
    "display('hourly volatility in Dollars: ', TransactionTape.set_index('time').traded_price.resample('1h').last().diff(1).astype(float).std())\n",
    "\n",
    "#Hourly Volume\n",
    "display('hourly average volume in nb of transactions: ', TransactionTape.set_index('time').traded_quantity.rolling('1h').sum().mean())"
   ]
  },
  {
   "cell_type": "markdown",
   "metadata": {},
   "source": [
    "# Optimal Trading \n",
    "## Parameters\n",
    "#### Liquidity parameter &eta;\n",
    "Quadratic trading cost function : L(&rho;) = &eta;&rho;2, <br>\n",
    "&eta; is a scaling factor for the execution costs paid by the trader. <br>\n",
    "The larger &eta; the more the trader pays to buy/sell shares.\n",
    "#### Liquidity parameter V : Constant available volume\n",
    "Similarly, the value of the market volume V is a scaling factor, because the execution costs depend on the <br>\n",
    "participation rate. Hence, a small value of V has the same effect as a large value of &eta;.\n",
    "#### Volatility parameters &sigma;\n",
    "The volatility parameter &sigma; measures the importance of price risk. <br>\n",
    "Therefore, the larger &sigma;, the faster the execution to reduce the exposure to price risk.\n",
    "#### Risk Aversion Parameter &gamma;\n",
    "The risk aversion parameter sets the balance between execution costs on the one hand, and price risk on the other hand. <br>\n",
    "The larger the parameter, the more the trader is sensitive to price risk. <br>\n",
    "Therefore, high &gamma; means fast execution to reduce the exposure to price risk. <br> \n",
    "When &gamma; is really small, we find that the optimal trading curve q* gets close to a straight-line strategy.<br>\n",
    "In contrast, the liquidation is very fast at the beginning, when &gamma; is large."
   ]
  },
  {
   "cell_type": "code",
   "execution_count": null,
   "metadata": {},
   "outputs": [],
   "source": [
    "def alpha(gamma, sigma, V, nu, dt):\n",
    "    cosh_alpha_dt = 1 + (gamma * V * (dt*sigma)**2) / (4 * nu)\n",
    "    return (1/dt) * np.arccosh(cosh_alpha_dt)\n",
    "\n",
    "def q_star(x, q0, T, gamma, sigma, V, nu, dt):\n",
    "    alpha_ = alpha(gamma, sigma, V, nu, dt)\n",
    "    return q0 * np.sinh(alpha_*(T - x))/np.sinh(alpha_*T)"
   ]
  },
  {
   "cell_type": "code",
   "execution_count": null,
   "metadata": {},
   "outputs": [],
   "source": [
    "S0        = 4400\n",
    "sigma     = TransactionTape.set_index('time').traded_price.resample('1h').last().diff(1).astype(float).std()\n",
    "V         = TransactionTape.set_index('time').traded_quantity.rolling('1h').sum().mean()\n",
    "nu        = 0.1 # dollar per contract\n",
    "gamma     = 10**-5 #per dollar\n",
    "timesteps = np.arange(0, 1, 1/60**2) \n",
    "q0        = 300 #int(0.1 * V) # nb of shares to liquidate : 10% of total traded volume\n",
    "T         = 1\n",
    "dt        = 1/60**2"
   ]
  },
  {
   "cell_type": "markdown",
   "metadata": {},
   "source": [
    "## Some Trading Curves"
   ]
  },
  {
   "cell_type": "code",
   "execution_count": null,
   "metadata": {},
   "outputs": [],
   "source": [
    "pd.DataFrame({'Gamma 10-4' : [q_star(x, q0, T, 10**-4, sigma, V, nu, dt) for x in timesteps],\n",
    "              'Gamma 5*10-5' : [q_star(x, q0, T, 5*10**-5, sigma, V, nu, dt) for x in timesteps],\n",
    "              'Gamma 10-5' : [q_star(x, q0, T, 10**-5, sigma, V, nu, dt) for x in timesteps]}).plot(figsize=(15, 7))"
   ]
  },
  {
   "cell_type": "markdown",
   "metadata": {},
   "source": [
    "## Backtest of a trading Curve"
   ]
  },
  {
   "cell_type": "markdown",
   "metadata": {},
   "source": [
    "### Launch the market simulation"
   ]
  },
  {
   "cell_type": "code",
   "execution_count": null,
   "metadata": {},
   "outputs": [],
   "source": [
    "LOB = mlob.OrderBook(tick_size  = 0.5, \n",
    "                     b_tape     = True,\n",
    "                     b_tape_LOB = True,\n",
    "                     verbose    = False)\n",
    "qrm_config['orderbook'] = LOB\n",
    "qrm = mlob.QRM(**qrm_config)"
   ]
  },
  {
   "cell_type": "code",
   "execution_count": null,
   "metadata": {},
   "outputs": [],
   "source": [
    "%matplotlib notebook\n",
    "from IPython.display import clear_output\n",
    "\n",
    "# Inputs : \n",
    "nb_hours_of_trading = 10\n",
    "\n",
    "# Scheduler\n",
    "sched = BackgroundScheduler()\n",
    "\n",
    "# Live plot init\n",
    "liveplot = mlob.utils.LivePlotNotebook()\n",
    "\n",
    "# Plot update\n",
    "def updateplot():\n",
    "    if qrm.getBestBid():    \n",
    "        liveplot.update(\n",
    "            ts= qrm.getLastOrderTimestamp(),\n",
    "            bestask=float(qrm.getBestAsk()),\n",
    "            bestbid=float(qrm.getBestBid()),\n",
    "            LOBstate = qrm.getLOBState().set_index('Price').sort_index()\n",
    "        )\n",
    "\n",
    "# Simulation starter\n",
    "def startSimulation(nb_hours_of_trading=1):\n",
    "    qrm.start(sched, maxruns=nb_hours_of_trading*60*60, seconds=0.01) # one sec per 0.01sec\n",
    "    sched.add_job(updateplot, 'interval', seconds=1, jitter=0.5,  max_instances=1)\n",
    "    sched.add_job(clear_output, 'interval', seconds=1, jitter=0.5,  max_instances=1)\n",
    "\n",
    "sched.start()\n",
    "startSimulation(nb_hours_of_trading)"
   ]
  },
  {
   "cell_type": "markdown",
   "metadata": {},
   "source": [
    "### Get the trading curve"
   ]
  },
  {
   "cell_type": "code",
   "execution_count": null,
   "metadata": {},
   "outputs": [],
   "source": [
    "dt           = 5/60**2\n",
    "gamma        = 5*10**-5\n",
    "timesteps    = np.arange(0, 1, 1/60**2)\n",
    "tradingCurve = [q_star(x, q0, T, gamma, sigma, V, nu, dt) for x in timesteps] # an order every 5 seconds"
   ]
  },
  {
   "cell_type": "markdown",
   "metadata": {},
   "source": [
    "### Create a single-asset  & single-LOB trader with a book of q0 shares"
   ]
  },
  {
   "cell_type": "code",
   "execution_count": null,
   "metadata": {},
   "outputs": [],
   "source": [
    "agentConfig = {'orderbook'  : LOB,\n",
    "               'id'         : 'myself',\n",
    "               'b_record'   : True}\n",
    "\n",
    "agent       = mlob.genericAgent(**agentConfig)"
   ]
  },
  {
   "cell_type": "markdown",
   "metadata": {},
   "source": [
    "### Start liquidation\n",
    "\n",
    "#### The LOB is simulated with a ratio of 0.0001 seconds for one real market second.\n",
    "#### We must then send orders at this frequency.\n",
    "#### We devide the trading curve into 3600 pieces with integer quantity"
   ]
  },
  {
   "cell_type": "code",
   "execution_count": null,
   "metadata": {},
   "outputs": [],
   "source": [
    "agent.i_curve       = 0\n",
    "quantities = np.round(tradingCurve) # quantities to detain\n",
    "book = deque(maxlen = None)\n",
    "\n",
    "def Liquidate():\n",
    "    # if it is the end of the hour, send a market order with remaining quantity\n",
    "    if agent.executed_quantity < q0:\n",
    "        if agent.i_curve > len(quantities):\n",
    "            agent.send_sell_market_order(q0 - agent.executed_quantity) \n",
    "            \n",
    "            #Add sell sign in plot\n",
    "            ts = agent.executedtrades[agent.executedtrades.keys()[-1]]['time']\n",
    "            liveplot.addSell(ts)\n",
    "            \n",
    "            # Stop the simulation\n",
    "#             sched.pause()\n",
    "        else:\n",
    "            remainingQty = q0 - agent.executed_quantity\n",
    "            qty = Decimal(quantities[agent.i_curve]) - remainingQty # we execute the quantity needed to fit the curve\n",
    "            \n",
    "            if qty!= 0:\n",
    "                agent.send_sell_market_order(Decimal(qty))\n",
    "                \n",
    "                #Add sell sign in plot\n",
    "                ts = agent.executedtrades[agent.executedtrades.keys()[-1]]['time']\n",
    "                liveplot.addSell()\n",
    "                \n",
    "                # get execution price\n",
    "                executionPrice = agent.executedtrades[agent.executedtrades.keys()[-1]]['traded_price']\n",
    "\n",
    "                # store in the book\n",
    "                book.append({'qty'               : qty,\n",
    "                             'price'             : executionPrice,\n",
    "                             'remainingQuantity' : q0 - agent.executed_quantity})\n",
    "                agent.i_curve += 1\n",
    "            else:\n",
    "                book.append({'qty'               : 0,\n",
    "                             'price'             : 0,\n",
    "                             'remainingQuantity' : q0 - agent.executed_quantity})\n",
    "                agent.i_curve += 1"
   ]
  },
  {
   "cell_type": "code",
   "execution_count": null,
   "metadata": {},
   "outputs": [],
   "source": [
    "sched.add_job(Liquidate, 'interval', seconds=0.01,  max_instances=1)"
   ]
  },
  {
   "cell_type": "markdown",
   "metadata": {},
   "source": [
    "## Wait for the hour of liquidation to finish (3600 * 0.01 = 36seconds)\n",
    "## Then stop the simulation"
   ]
  },
  {
   "cell_type": "code",
   "execution_count": null,
   "metadata": {},
   "outputs": [],
   "source": [
    "sched.pause()"
   ]
  },
  {
   "cell_type": "code",
   "execution_count": null,
   "metadata": {},
   "outputs": [],
   "source": [
    "Decimal(quantities[agent.i_curve])"
   ]
  },
  {
   "cell_type": "code",
   "execution_count": null,
   "metadata": {},
   "outputs": [],
   "source": [
    "agent.executed_quantity"
   ]
  },
  {
   "cell_type": "markdown",
   "metadata": {},
   "source": [
    "### Executed Trading Curve"
   ]
  },
  {
   "cell_type": "code",
   "execution_count": null,
   "metadata": {},
   "outputs": [],
   "source": [
    "%matplotlib inline\n",
    "\n",
    "executedQuantities  = [float(entry['qty'])               for entry in book]\n",
    "executedPrices      = [float(entry['price'])             for entry in book]\n",
    "remainingQuantities = [float(entry['remainingQuantity']) for entry in book]\n",
    "\n",
    "curves = pd.DataFrame({'Realized trading Curve'    : [q0] + remainingQuantities,\n",
    "                       'Theoretical trading Curve' : tradingCurve[0:len(book)+1]})\n",
    "fig, (ax1, ax2) = plt.subplots(1, 2, figsize=(20, 5))\n",
    "curves.plot(ax=ax1); ax1.set_title('whole curve')\n",
    "curves.iloc[0:60,].plot(ax=ax2); ax2.set_title('first minute')\n",
    "plt.show()"
   ]
  },
  {
   "cell_type": "markdown",
   "metadata": {},
   "source": [
    "#### Execution prices"
   ]
  },
  {
   "cell_type": "code",
   "execution_count": null,
   "metadata": {},
   "outputs": [],
   "source": [
    "pd.DataFrame.from_dict(agent.executedtrades).T"
   ]
  },
  {
   "cell_type": "code",
   "execution_count": null,
   "metadata": {},
   "outputs": [],
   "source": [
    "dfTrades = pd.DataFrame.from_dict(agent.executedtrades).T\n",
    "fig, (ax1, ax2) = plt.subplots(1, 2, figsize=(20, 5))\n",
    "dfTrades.traded_price.astype(float).plot(ax=ax1)\n",
    "\n",
    "distTrades = dfTrades[['traded_price', 'traded_quantity']].groupby('traded_price').sum().sort_index()\n",
    "distTrades.astype(float).plot.bar(ax=ax2)"
   ]
  },
  {
   "cell_type": "markdown",
   "metadata": {},
   "source": [
    "#### Executed Trades"
   ]
  },
  {
   "cell_type": "code",
   "execution_count": null,
   "metadata": {},
   "outputs": [],
   "source": [
    "executedTrades = pd.DataFrame.from_dict(agent.executedtrades).T\n",
    "executedTrades"
   ]
  }
 ],
 "metadata": {
  "kernelspec": {
   "display_name": "Python 3",
   "language": "python",
   "name": "python3"
  },
  "language_info": {
   "codemirror_mode": {
    "name": "ipython",
    "version": 3
   },
   "file_extension": ".py",
   "mimetype": "text/x-python",
   "name": "python",
   "nbconvert_exporter": "python",
   "pygments_lexer": "ipython3",
   "version": "3.7.4"
  }
 },
 "nbformat": 4,
 "nbformat_minor": 2
}
