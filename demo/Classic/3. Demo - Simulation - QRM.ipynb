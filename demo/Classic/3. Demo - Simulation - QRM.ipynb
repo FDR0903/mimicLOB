{
 "cells": [
  {
   "cell_type": "markdown",
   "metadata": {},
   "source": [
    "# Simulation of The Queue Reactive Model\n",
    "## Based on the paper : \n",
    "### Simulating and Analyzing Order Book Data: The Queue-Reactive Model\n",
    "### Article in Journal of the American Statistical Association · December 2013\n",
    "### Weibing Huang, Charles-Albert Lehalle, and Mathieu Rosenbaum\n",
    "\n",
    "# Imports"
   ]
  },
  {
   "cell_type": "code",
   "execution_count": null,
   "metadata": {},
   "outputs": [],
   "source": [
    "# Imports\n",
    "from IPython.display import display, HTML\n",
    "import os\n",
    "import pandas as pd, datetime as dt, numpy as np, matplotlib.pyplot as plt\n",
    "from pandas.tseries.offsets import DateOffset\n",
    "import sys\n",
    "import datetime as dt\n",
    "from apscheduler.schedulers.background import BackgroundScheduler\n",
    "\n",
    "# limit logging of scheduler\n",
    "import logging\n",
    "logging.basicConfig()\n",
    "logging.getLogger('apscheduler').setLevel(logging.CRITICAL)\n",
    "\n",
    "# Display options\n",
    "thisnotebooksys = sys.stdout\n",
    "pd.set_option('display.width', 1000)\n",
    "display(HTML(\"<style>.container { width:100% !important; }</style>\"))\n",
    "pd.set_option('mode.chained_assignment', None)"
   ]
  },
  {
   "cell_type": "code",
   "execution_count": null,
   "metadata": {},
   "outputs": [],
   "source": [
    "import mimicLOB as mlob"
   ]
  },
  {
   "cell_type": "markdown",
   "metadata": {},
   "source": [
    "# LOB creation"
   ]
  },
  {
   "cell_type": "code",
   "execution_count": null,
   "metadata": {},
   "outputs": [],
   "source": [
    "# b_tape = True means the LOB\n",
    "LOB = mlob.OrderBook(tick_size  = 0.5, \n",
    "                     b_tape     = True,\n",
    "                     b_tape_LOB = True,\n",
    "                     verbose    = False)"
   ]
  },
  {
   "cell_type": "markdown",
   "metadata": {},
   "source": [
    "# Load intensities of the Queue Reactive Model\n",
    "\n",
    "#### Lambda matrices should be in the form (nb of queues * nb of qis)\n",
    "#### Lamda matrices are intensities given in seconds, one can transform them into miliseconds if wanted to simulate at the milisecond level"
   ]
  },
  {
   "cell_type": "code",
   "execution_count": null,
   "metadata": {},
   "outputs": [],
   "source": [
    "# 5 queues\n",
    "# Ref Prices from 80 to 120\n",
    "Lambda_minus = pd.read_pickle(r'..\\data\\Lambda_minus.pkl')\n",
    "Lambda_plus = pd.read_pickle(r'..\\data\\Lambda_plus.pkl')\n",
    "event_sizes = pd.read_pickle(r'..\\data\\event_sizes.pkl')"
   ]
  },
  {
   "cell_type": "markdown",
   "metadata": {},
   "source": [
    "## Liquidity Addition, Removal & Ratio for first limits, in number of AES"
   ]
  },
  {
   "cell_type": "code",
   "execution_count": null,
   "metadata": {},
   "outputs": [],
   "source": [
    "fig, ((ax1, ax2, ax3), (ax4, ax5, ax6)) = plt.subplots(2, 3, figsize=(30,7))\n",
    "Lambda_plus.T.LIMIT0.plot(ax=ax1, linestyle='-.', marker='o'); ax1.legend(['Liquidity Addition - First Limit']); \n",
    "Lambda_minus.T.LIMIT0.plot(ax=ax2, linestyle='-.', marker='o'); ax2.legend(['Liquidity Removal - First Limit']); \n",
    "(Lambda_plus.T.LIMIT0 / Lambda_minus.T.LIMIT0).iloc[1:].plot(ax=ax3, linestyle='-.', marker='o'); ax3.legend(['Liquidity Ratio - First Limit']); \n",
    "Lambda_plus.T.LIMIT1.plot(ax=ax4, linestyle='-.', marker='o'); ax4.legend(['Liquidity Addition - First Limit']); \n",
    "Lambda_minus.T.LIMIT1.plot(ax=ax5, linestyle='-.', marker='o'); ax5.legend(['Liquidity Removal - First Limit']); \n",
    "(Lambda_plus.T.LIMIT1 / Lambda_minus.T.LIMIT1).iloc[1:].plot(ax=ax6, linestyle='-.', marker='o'); ax6.legend(['Liquidity Ratio - First Limit']); "
   ]
  },
  {
   "cell_type": "markdown",
   "metadata": {},
   "source": [
    "## Create the QRM Agent"
   ]
  },
  {
   "cell_type": "code",
   "execution_count": null,
   "metadata": {},
   "outputs": [],
   "source": [
    "qrm_config = {'orderbook'     : LOB,\n",
    "              'id'            : 'market',\n",
    "              'b_record'      : True,\n",
    "              'lambdas_plus'  : 1/Lambda_plus,\n",
    "              'lambdas_minus' : 1/Lambda_minus,\n",
    "              'event_sizes'   : event_sizes,\n",
    "              'S0'            : 4400,\n",
    "              'theta'         : 0.2,\n",
    "              'theta_reinit'  : 0.7,\n",
    "              'MOPart'        : 0.05, # % of liquidity consuming events that are market orders (5% is a historical realized value for CF1)\n",
    "              'verbose'       : False}\n",
    "\n",
    "qrm = mlob.QRM(**qrm_config)"
   ]
  },
  {
   "cell_type": "markdown",
   "metadata": {},
   "source": [
    "# Launch simulation"
   ]
  },
  {
   "cell_type": "code",
   "execution_count": null,
   "metadata": {},
   "outputs": [],
   "source": [
    "sched = BackgroundScheduler()\n",
    "def startSimulation(nb_hours_of_trading=2):\n",
    "    qrm.start(sched, maxruns=nb_hours_of_trading*60*60, seconds=0.0001)"
   ]
  },
  {
   "cell_type": "markdown",
   "metadata": {},
   "source": [
    "#### Here you should wait a few seconds until the full hour of trading is simulated\n",
    "#### After completion, a message will appear, wait for it.\n",
    "#### Alternatively, execute \"sched.pause()\" command or move on to other cells even if trading is still on."
   ]
  },
  {
   "cell_type": "code",
   "execution_count": null,
   "metadata": {
    "scrolled": true
   },
   "outputs": [],
   "source": [
    "sched.start()\n",
    "startSimulation()"
   ]
  },
  {
   "cell_type": "code",
   "execution_count": null,
   "metadata": {},
   "outputs": [],
   "source": [
    "sched.pause()"
   ]
  },
  {
   "cell_type": "markdown",
   "metadata": {},
   "source": [
    "## Get Simulated Mid Price Evolution"
   ]
  },
  {
   "cell_type": "code",
   "execution_count": null,
   "metadata": {
    "scrolled": false
   },
   "outputs": [],
   "source": [
    "LOBtape = qrm.getLOBTape()"
   ]
  },
  {
   "cell_type": "code",
   "execution_count": null,
   "metadata": {},
   "outputs": [],
   "source": [
    "# the TIME columns is in number of seconds ! \n",
    "LOBtape = LOBtape[(LOBtape.TIME<1000000)] # clean data\n",
    "LOBtape['TIME'] = pd.to_datetime(LOBtape['TIME'], unit='s')\n",
    "LOBtape = LOBtape.set_index('TIME').resample('s').last()[['BID0', 'ASK0']].dropna().astype(float)\n",
    "LOBtape[['BID0', 'ASK0']].astype(float).plot(figsize=(25, 7))"
   ]
  },
  {
   "cell_type": "markdown",
   "metadata": {},
   "source": [
    "## Get Transaction Price Tape"
   ]
  },
  {
   "cell_type": "code",
   "execution_count": null,
   "metadata": {},
   "outputs": [],
   "source": [
    "histoPrices = qrm.getPriceTape().astype(float)\n",
    "histoPrices.plot(figsize=(20,7))\n",
    "\n",
    "# OHLC\n",
    "display(f'open  : {histoPrices.iloc[0,0]}')\n",
    "display(f'high  : {histoPrices.max()[0]}')\n",
    "display(f'low   : {histoPrices.min()[0]}')\n",
    "display(f'close : {histoPrices.iloc[-1, 0]}')\n",
    "\n",
    "plt.show()"
   ]
  },
  {
   "cell_type": "markdown",
   "metadata": {},
   "source": [
    "## Get LOB"
   ]
  },
  {
   "cell_type": "code",
   "execution_count": null,
   "metadata": {},
   "outputs": [],
   "source": [
    "LOBstate = qrm.getLOBState()\n",
    "LOBstate = LOBstate.set_index('Price').sort_index()\n",
    "LOBstate.plot.bar(figsize=(20, 7))\n",
    "plt.show()"
   ]
  }
 ],
 "metadata": {
  "kernelspec": {
   "display_name": "Python 3",
   "language": "python",
   "name": "python3"
  },
  "language_info": {
   "codemirror_mode": {
    "name": "ipython",
    "version": 3
   },
   "file_extension": ".py",
   "mimetype": "text/x-python",
   "name": "python",
   "nbconvert_exporter": "python",
   "pygments_lexer": "ipython3",
   "version": "3.7.4"
  }
 },
 "nbformat": 4,
 "nbformat_minor": 2
}
