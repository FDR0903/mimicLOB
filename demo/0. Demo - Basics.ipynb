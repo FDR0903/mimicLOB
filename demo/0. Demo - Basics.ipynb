{
 "cells": [
  {
   "cell_type": "markdown",
   "metadata": {},
   "source": [
    "# mimic LOB - DEMO\n",
    "\n",
    "\n",
    "# 0. Imports"
   ]
  },
  {
   "cell_type": "code",
   "execution_count": 1,
   "metadata": {},
   "outputs": [
    {
     "data": {
      "text/html": [
       "<style>.container { width:100% !important; }</style>"
      ],
      "text/plain": [
       "<IPython.core.display.HTML object>"
      ]
     },
     "metadata": {},
     "output_type": "display_data"
    }
   ],
   "source": [
    "# Imports\n",
    "from   IPython.display import display, HTML\n",
    "import numpy as np\n",
    "import pandas as pd\n",
    "from pprint import pprint\n",
    "import matplotlib.pyplot as plt\n",
    "\n",
    "# Display options\n",
    "pd.set_option('display.width', 1000)\n",
    "display(HTML(\"<style>.container { width:100% !important; }</style>\"))\n",
    "pd.set_option('mode.chained_assignment', None)"
   ]
  },
  {
   "cell_type": "code",
   "execution_count": 2,
   "metadata": {},
   "outputs": [],
   "source": [
    "import mimicLOB as lob\n",
    "from mimicLOB.orderbook.orderbook import OrderBook\n",
    "from mimicLOB.agent.genericAgent import genericAgent"
   ]
  },
  {
   "cell_type": "markdown",
   "metadata": {},
   "source": [
    "# 1. LOB creation"
   ]
  },
  {
   "cell_type": "code",
   "execution_count": 3,
   "metadata": {},
   "outputs": [],
   "source": [
    "# b_tape = True means the LOB \n",
    "LOB = OrderBook(tick_size = 1, \n",
    "                b_tape    = True,\n",
    "                verbose   = True)"
   ]
  },
  {
   "cell_type": "markdown",
   "metadata": {},
   "source": [
    "# 2. Agents\n",
    "The agents is constantly connected to the distant LOB via the server address.\n",
    "\n",
    "#### Parameters :\n",
    "1. distant : if true, the agent must have the server address. If False, he should have the orderbook object passed in the configuration.\n",
    "2. server : when distant is True, the http address of the server the LOB is running on.\n",
    "3. id : optional, default is generic. the if is used in the transaction tape.\n",
    "4. b_record : optional, boolean, default is False. If True, the agent records all his activity : sent orders, executed trades, pending orders ...\n"
   ]
  },
  {
   "cell_type": "code",
   "execution_count": 4,
   "metadata": {},
   "outputs": [],
   "source": [
    "EURONEXT_config = {'orderbook'  : LOB,\n",
    "                   'id'         : 'market'}\n",
    "                 \n",
    "myself_config = {'orderbook'  : LOB,\n",
    "                 'id'         : 'Fayçal',\n",
    "                 'b_record'   : True}\n",
    "\n",
    "otherguy_config = {'orderbook'  : LOB,\n",
    "                   'id'         : 'Olivier'}\n",
    "\n",
    "euronext = genericAgent(**EURONEXT_config)\n",
    "myself   = genericAgent(**myself_config)\n",
    "other    = genericAgent(**otherguy_config)"
   ]
  },
  {
   "cell_type": "code",
   "execution_count": 5,
   "metadata": {},
   "outputs": [
    {
     "data": {
      "text/plain": [
       "{'Fayçal': <mimicLOB.agent.genericAgent.genericAgent at 0x2b6d7b8b208>}"
      ]
     },
     "execution_count": 5,
     "metadata": {},
     "output_type": "execute_result"
    }
   ],
   "source": [
    "# Only agents with b_record = True\n",
    "LOB.agentList"
   ]
  },
  {
   "cell_type": "markdown",
   "metadata": {},
   "source": [
    "#### The agent with id 'market' can change the LOB configuration and reset it"
   ]
  },
  {
   "cell_type": "code",
   "execution_count": 6,
   "metadata": {},
   "outputs": [],
   "source": [
    "euronext.setLOB_tickSize(1)"
   ]
  },
  {
   "cell_type": "markdown",
   "metadata": {},
   "source": [
    "# 3. Get the LOB state\n",
    "Either agents have access to LOB information"
   ]
  },
  {
   "cell_type": "code",
   "execution_count": 7,
   "metadata": {},
   "outputs": [
    {
     "name": "stdout",
     "output_type": "stream",
     "text": [
      "tick size : 1.0\n",
      "LOB is empty\n"
     ]
    }
   ],
   "source": [
    "LOBstate = myself.getLOBState()\n",
    "tickSize =  float(myself.getTickSize())\n",
    "print(f'tick size : {tickSize}')\n",
    "if type(LOBstate) == pd.DataFrame:\n",
    "    if len(LOBstate) >0 :\n",
    "        LOBstate = LOBstate.set_index('Price').sort_index()\n",
    "        minPrice = LOBstate.index[0]\n",
    "        maxPrice = LOBstate.index[-1]\n",
    "        LOBstate = LOBstate.reindex(np.arange(minPrice, maxPrice+tickSize, tickSize))\n",
    "        LOBstate.plot.bar(figsize=(20, 7))\n",
    "    else:\n",
    "        print('LOB is empty')\n",
    "else:\n",
    "    display(LOBstate)"
   ]
  },
  {
   "cell_type": "markdown",
   "metadata": {},
   "source": [
    "# 4. Send orders"
   ]
  },
  {
   "cell_type": "markdown",
   "metadata": {},
   "source": [
    "#### limit sell order @101, 102 & limit buy order @99, 100\n",
    "Check the LOB state afterwards"
   ]
  },
  {
   "cell_type": "code",
   "execution_count": 8,
   "metadata": {
    "scrolled": false
   },
   "outputs": [
    {
     "name": "stdout",
     "output_type": "stream",
     "text": [
      "**** I received this limit order **** \n",
      ": {'type': 'limit', 'side': 'ask', 'quantity': 100, 'price': Decimal('101'), 'trader_id': 'Fayçal', 'timestamp': 1586640951398290300}\n",
      "\n",
      "**** I received this limit order **** \n",
      ": {'type': 'limit', 'side': 'ask', 'quantity': 200, 'price': Decimal('102'), 'trader_id': 'Fayçal', 'timestamp': 1586640951399288500}\n",
      "\n",
      "**** I received this limit order **** \n",
      ": {'type': 'limit', 'side': 'bid', 'quantity': 100, 'price': Decimal('100'), 'trader_id': 'Olivier', 'timestamp': 1586640951399288500}\n",
      "\n",
      "**** I received this limit order **** \n",
      ": {'type': 'limit', 'side': 'bid', 'quantity': 100, 'price': Decimal('99'), 'trader_id': 'Olivier', 'timestamp': 1586640951399288500}\n",
      "\n",
      "Sent orders : \n"
     ]
    },
    {
     "data": {
      "text/html": [
       "<div>\n",
       "<style scoped>\n",
       "    .dataframe tbody tr th:only-of-type {\n",
       "        vertical-align: middle;\n",
       "    }\n",
       "\n",
       "    .dataframe tbody tr th {\n",
       "        vertical-align: top;\n",
       "    }\n",
       "\n",
       "    .dataframe thead th {\n",
       "        text-align: right;\n",
       "    }\n",
       "</style>\n",
       "<table border=\"1\" class=\"dataframe\">\n",
       "  <thead>\n",
       "    <tr style=\"text-align: right;\">\n",
       "      <th></th>\n",
       "      <th>type</th>\n",
       "      <th>side</th>\n",
       "      <th>quantity</th>\n",
       "      <th>price</th>\n",
       "      <th>trader_id</th>\n",
       "      <th>timestamp</th>\n",
       "      <th>order_id</th>\n",
       "    </tr>\n",
       "  </thead>\n",
       "  <tbody>\n",
       "    <tr>\n",
       "      <td>0</td>\n",
       "      <td>limit</td>\n",
       "      <td>ask</td>\n",
       "      <td>100</td>\n",
       "      <td>101</td>\n",
       "      <td>Fayçal</td>\n",
       "      <td>1586640951398290300</td>\n",
       "      <td>1</td>\n",
       "    </tr>\n",
       "    <tr>\n",
       "      <td>1</td>\n",
       "      <td>limit</td>\n",
       "      <td>ask</td>\n",
       "      <td>200</td>\n",
       "      <td>102</td>\n",
       "      <td>Fayçal</td>\n",
       "      <td>1586640951399288500</td>\n",
       "      <td>2</td>\n",
       "    </tr>\n",
       "  </tbody>\n",
       "</table>\n",
       "</div>"
      ],
      "text/plain": [
       "    type side quantity price trader_id            timestamp order_id\n",
       "0  limit  ask      100   101    Fayçal  1586640951398290300        1\n",
       "1  limit  ask      200   102    Fayçal  1586640951399288500        2"
      ]
     },
     "metadata": {},
     "output_type": "display_data"
    },
    {
     "name": "stdout",
     "output_type": "stream",
     "text": [
      "\n",
      "\n",
      "Pending orders (Orders that are still in the LOB) : \n"
     ]
    },
    {
     "data": {
      "text/html": [
       "<div>\n",
       "<style scoped>\n",
       "    .dataframe tbody tr th:only-of-type {\n",
       "        vertical-align: middle;\n",
       "    }\n",
       "\n",
       "    .dataframe tbody tr th {\n",
       "        vertical-align: top;\n",
       "    }\n",
       "\n",
       "    .dataframe thead th {\n",
       "        text-align: right;\n",
       "    }\n",
       "</style>\n",
       "<table border=\"1\" class=\"dataframe\">\n",
       "  <thead>\n",
       "    <tr style=\"text-align: right;\">\n",
       "      <th></th>\n",
       "      <th>type</th>\n",
       "      <th>side</th>\n",
       "      <th>quantity</th>\n",
       "      <th>price</th>\n",
       "      <th>trader_id</th>\n",
       "      <th>timestamp</th>\n",
       "      <th>order_id</th>\n",
       "    </tr>\n",
       "  </thead>\n",
       "  <tbody>\n",
       "    <tr>\n",
       "      <td>1</td>\n",
       "      <td>limit</td>\n",
       "      <td>ask</td>\n",
       "      <td>100</td>\n",
       "      <td>101</td>\n",
       "      <td>Fayçal</td>\n",
       "      <td>1586640951398290300</td>\n",
       "      <td>1</td>\n",
       "    </tr>\n",
       "    <tr>\n",
       "      <td>2</td>\n",
       "      <td>limit</td>\n",
       "      <td>ask</td>\n",
       "      <td>200</td>\n",
       "      <td>102</td>\n",
       "      <td>Fayçal</td>\n",
       "      <td>1586640951399288500</td>\n",
       "      <td>2</td>\n",
       "    </tr>\n",
       "  </tbody>\n",
       "</table>\n",
       "</div>"
      ],
      "text/plain": [
       "    type side quantity price trader_id            timestamp order_id\n",
       "1  limit  ask      100   101    Fayçal  1586640951398290300        1\n",
       "2  limit  ask      200   102    Fayçal  1586640951399288500        2"
      ]
     },
     "metadata": {},
     "output_type": "display_data"
    },
    {
     "name": "stdout",
     "output_type": "stream",
     "text": [
      "\n",
      "\n",
      "Executed Trades : \n"
     ]
    },
    {
     "data": {
      "text/html": [
       "<div>\n",
       "<style scoped>\n",
       "    .dataframe tbody tr th:only-of-type {\n",
       "        vertical-align: middle;\n",
       "    }\n",
       "\n",
       "    .dataframe tbody tr th {\n",
       "        vertical-align: top;\n",
       "    }\n",
       "\n",
       "    .dataframe thead th {\n",
       "        text-align: right;\n",
       "    }\n",
       "</style>\n",
       "<table border=\"1\" class=\"dataframe\">\n",
       "  <thead>\n",
       "    <tr style=\"text-align: right;\">\n",
       "      <th></th>\n",
       "    </tr>\n",
       "  </thead>\n",
       "  <tbody>\n",
       "  </tbody>\n",
       "</table>\n",
       "</div>"
      ],
      "text/plain": [
       "Empty DataFrame\n",
       "Columns: []\n",
       "Index: []"
      ]
     },
     "metadata": {},
     "output_type": "display_data"
    }
   ],
   "source": [
    "# Send Orders\n",
    "myself.send_sell_limit_order(quantity = 100,\n",
    "                             price    = 101)\n",
    "\n",
    "myself.send_sell_limit_order(quantity = 200,\n",
    "                             price    = 102)\n",
    "\n",
    "other.send_buy_limit_order(quantity   = 100,\n",
    "                             price    = 100)\n",
    "\n",
    "other.send_buy_limit_order(quantity   = 100,\n",
    "                             price    = 99)\n",
    "print('Sent orders : ')\n",
    "display(pd.DataFrame.from_dict(myself.sentorders).T)\n",
    "\n",
    "print('\\n\\nPending orders (Orders that are still in the LOB) : ')\n",
    "display(pd.DataFrame.from_dict(myself.pendingorders).T)\n",
    "\n",
    "print('\\n\\nExecuted Trades : ')\n",
    "display(pd.DataFrame.from_dict(myself.executedtrades).T)"
   ]
  },
  {
   "cell_type": "markdown",
   "metadata": {},
   "source": [
    "#### market orders\n",
    "\n",
    "We send a 150 sell market order. 100 will be executed @100 & 50 @99 "
   ]
  },
  {
   "cell_type": "code",
   "execution_count": 9,
   "metadata": {},
   "outputs": [
    {
     "name": "stdout",
     "output_type": "stream",
     "text": [
      "**** I received this market order **** \n",
      ": {'type': 'market', 'side': 'ask', 'quantity': 150, 'trader_id': 'Fayçal', 'timestamp': 1586640951422215800}\n",
      "\n",
      "TRADE: Time - 1586640951422215800, Price - 100, Quantity - 100, TradeID - Olivier, Matching TradeID - Fayçal\n",
      "TRADE: Time - 1586640951423212800, Price - 99, Quantity - 50, TradeID - Olivier, Matching TradeID - Fayçal\n",
      "Sent orders : \n"
     ]
    },
    {
     "data": {
      "text/html": [
       "<div>\n",
       "<style scoped>\n",
       "    .dataframe tbody tr th:only-of-type {\n",
       "        vertical-align: middle;\n",
       "    }\n",
       "\n",
       "    .dataframe tbody tr th {\n",
       "        vertical-align: top;\n",
       "    }\n",
       "\n",
       "    .dataframe thead th {\n",
       "        text-align: right;\n",
       "    }\n",
       "</style>\n",
       "<table border=\"1\" class=\"dataframe\">\n",
       "  <thead>\n",
       "    <tr style=\"text-align: right;\">\n",
       "      <th></th>\n",
       "      <th>type</th>\n",
       "      <th>side</th>\n",
       "      <th>quantity</th>\n",
       "      <th>price</th>\n",
       "      <th>trader_id</th>\n",
       "      <th>timestamp</th>\n",
       "      <th>order_id</th>\n",
       "    </tr>\n",
       "  </thead>\n",
       "  <tbody>\n",
       "    <tr>\n",
       "      <td>0</td>\n",
       "      <td>limit</td>\n",
       "      <td>ask</td>\n",
       "      <td>100</td>\n",
       "      <td>101</td>\n",
       "      <td>Fayçal</td>\n",
       "      <td>1586640951398290300</td>\n",
       "      <td>1</td>\n",
       "    </tr>\n",
       "    <tr>\n",
       "      <td>1</td>\n",
       "      <td>limit</td>\n",
       "      <td>ask</td>\n",
       "      <td>200</td>\n",
       "      <td>102</td>\n",
       "      <td>Fayçal</td>\n",
       "      <td>1586640951399288500</td>\n",
       "      <td>2</td>\n",
       "    </tr>\n",
       "    <tr>\n",
       "      <td>2</td>\n",
       "      <td>market</td>\n",
       "      <td>ask</td>\n",
       "      <td>150</td>\n",
       "      <td>NaN</td>\n",
       "      <td>Fayçal</td>\n",
       "      <td>1586640951422215800</td>\n",
       "      <td>NaN</td>\n",
       "    </tr>\n",
       "  </tbody>\n",
       "</table>\n",
       "</div>"
      ],
      "text/plain": [
       "     type side quantity price trader_id            timestamp order_id\n",
       "0   limit  ask      100   101    Fayçal  1586640951398290300        1\n",
       "1   limit  ask      200   102    Fayçal  1586640951399288500        2\n",
       "2  market  ask      150   NaN    Fayçal  1586640951422215800      NaN"
      ]
     },
     "metadata": {},
     "output_type": "display_data"
    },
    {
     "name": "stdout",
     "output_type": "stream",
     "text": [
      "\n",
      "\n",
      "Pending orders (Orders that are still in the LOB) : \n"
     ]
    },
    {
     "data": {
      "text/html": [
       "<div>\n",
       "<style scoped>\n",
       "    .dataframe tbody tr th:only-of-type {\n",
       "        vertical-align: middle;\n",
       "    }\n",
       "\n",
       "    .dataframe tbody tr th {\n",
       "        vertical-align: top;\n",
       "    }\n",
       "\n",
       "    .dataframe thead th {\n",
       "        text-align: right;\n",
       "    }\n",
       "</style>\n",
       "<table border=\"1\" class=\"dataframe\">\n",
       "  <thead>\n",
       "    <tr style=\"text-align: right;\">\n",
       "      <th></th>\n",
       "      <th>type</th>\n",
       "      <th>side</th>\n",
       "      <th>quantity</th>\n",
       "      <th>price</th>\n",
       "      <th>trader_id</th>\n",
       "      <th>timestamp</th>\n",
       "      <th>order_id</th>\n",
       "    </tr>\n",
       "  </thead>\n",
       "  <tbody>\n",
       "    <tr>\n",
       "      <td>1</td>\n",
       "      <td>limit</td>\n",
       "      <td>ask</td>\n",
       "      <td>100</td>\n",
       "      <td>101</td>\n",
       "      <td>Fayçal</td>\n",
       "      <td>1586640951398290300</td>\n",
       "      <td>1</td>\n",
       "    </tr>\n",
       "    <tr>\n",
       "      <td>2</td>\n",
       "      <td>limit</td>\n",
       "      <td>ask</td>\n",
       "      <td>200</td>\n",
       "      <td>102</td>\n",
       "      <td>Fayçal</td>\n",
       "      <td>1586640951399288500</td>\n",
       "      <td>2</td>\n",
       "    </tr>\n",
       "  </tbody>\n",
       "</table>\n",
       "</div>"
      ],
      "text/plain": [
       "    type side quantity price trader_id            timestamp order_id\n",
       "1  limit  ask      100   101    Fayçal  1586640951398290300        1\n",
       "2  limit  ask      200   102    Fayçal  1586640951399288500        2"
      ]
     },
     "metadata": {},
     "output_type": "display_data"
    },
    {
     "name": "stdout",
     "output_type": "stream",
     "text": [
      "\n",
      "\n",
      "Executed Trades : \n"
     ]
    },
    {
     "data": {
      "text/html": [
       "<div>\n",
       "<style scoped>\n",
       "    .dataframe tbody tr th:only-of-type {\n",
       "        vertical-align: middle;\n",
       "    }\n",
       "\n",
       "    .dataframe tbody tr th {\n",
       "        vertical-align: top;\n",
       "    }\n",
       "\n",
       "    .dataframe thead th {\n",
       "        text-align: right;\n",
       "    }\n",
       "</style>\n",
       "<table border=\"1\" class=\"dataframe\">\n",
       "  <thead>\n",
       "    <tr style=\"text-align: right;\">\n",
       "      <th></th>\n",
       "      <th>traded_price</th>\n",
       "      <th>traded_quantity</th>\n",
       "      <th>time</th>\n",
       "      <th>party1_id</th>\n",
       "      <th>party1_side</th>\n",
       "      <th>party1_order_id</th>\n",
       "      <th>party2_id</th>\n",
       "      <th>party2_side</th>\n",
       "      <th>party2_order_id</th>\n",
       "    </tr>\n",
       "  </thead>\n",
       "  <tbody>\n",
       "    <tr>\n",
       "      <td>0</td>\n",
       "      <td>100</td>\n",
       "      <td>100</td>\n",
       "      <td>1586640951422215800</td>\n",
       "      <td>Olivier</td>\n",
       "      <td>bid</td>\n",
       "      <td>3</td>\n",
       "      <td>Fayçal</td>\n",
       "      <td>ask</td>\n",
       "      <td>None</td>\n",
       "    </tr>\n",
       "    <tr>\n",
       "      <td>1</td>\n",
       "      <td>99</td>\n",
       "      <td>50</td>\n",
       "      <td>1586640951423212800</td>\n",
       "      <td>Olivier</td>\n",
       "      <td>bid</td>\n",
       "      <td>4</td>\n",
       "      <td>Fayçal</td>\n",
       "      <td>ask</td>\n",
       "      <td>None</td>\n",
       "    </tr>\n",
       "  </tbody>\n",
       "</table>\n",
       "</div>"
      ],
      "text/plain": [
       "  traded_price traded_quantity                 time party1_id party1_side party1_order_id party2_id party2_side party2_order_id\n",
       "0          100             100  1586640951422215800   Olivier         bid               3    Fayçal         ask            None\n",
       "1           99              50  1586640951423212800   Olivier         bid               4    Fayçal         ask            None"
      ]
     },
     "metadata": {},
     "output_type": "display_data"
    }
   ],
   "source": [
    "myself.send_sell_market_order(quantity   = 150)\n",
    "\n",
    "print('Sent orders : ')\n",
    "display(pd.DataFrame.from_dict(myself.sentorders).T)\n",
    "\n",
    "print('\\n\\nPending orders (Orders that are still in the LOB) : ')\n",
    "display(pd.DataFrame.from_dict(myself.pendingorders).T)\n",
    "\n",
    "print('\\n\\nExecuted Trades : ')\n",
    "display(pd.DataFrame.from_dict(myself.executedtrades).T)"
   ]
  },
  {
   "cell_type": "markdown",
   "metadata": {},
   "source": [
    "#### match orders\n",
    "Olivier will buy 150 at 101. A transaction will happen, and the new best bid will be 101. Check LOB State.\n",
    "\n",
    "The agent 'Fayçal' is notified of the transaction. Pending orders & transaction list are updated."
   ]
  },
  {
   "cell_type": "code",
   "execution_count": 10,
   "metadata": {},
   "outputs": [
    {
     "name": "stdout",
     "output_type": "stream",
     "text": [
      "**** I received this limit order **** \n",
      ": {'type': 'limit', 'side': 'bid', 'quantity': 150, 'price': Decimal('101'), 'trader_id': 'Olivier', 'timestamp': 1586640951451139300}\n",
      "\n",
      "TRADE: Time - 1586640951451139300, Price - 101, Quantity - 100, TradeID - Fayçal, Matching TradeID - Olivier\n",
      "Sent orders : \n"
     ]
    },
    {
     "data": {
      "text/html": [
       "<div>\n",
       "<style scoped>\n",
       "    .dataframe tbody tr th:only-of-type {\n",
       "        vertical-align: middle;\n",
       "    }\n",
       "\n",
       "    .dataframe tbody tr th {\n",
       "        vertical-align: top;\n",
       "    }\n",
       "\n",
       "    .dataframe thead th {\n",
       "        text-align: right;\n",
       "    }\n",
       "</style>\n",
       "<table border=\"1\" class=\"dataframe\">\n",
       "  <thead>\n",
       "    <tr style=\"text-align: right;\">\n",
       "      <th></th>\n",
       "      <th>type</th>\n",
       "      <th>side</th>\n",
       "      <th>quantity</th>\n",
       "      <th>price</th>\n",
       "      <th>trader_id</th>\n",
       "      <th>timestamp</th>\n",
       "      <th>order_id</th>\n",
       "    </tr>\n",
       "  </thead>\n",
       "  <tbody>\n",
       "    <tr>\n",
       "      <td>0</td>\n",
       "      <td>limit</td>\n",
       "      <td>ask</td>\n",
       "      <td>0</td>\n",
       "      <td>101</td>\n",
       "      <td>Fayçal</td>\n",
       "      <td>1586640951398290300</td>\n",
       "      <td>1</td>\n",
       "    </tr>\n",
       "    <tr>\n",
       "      <td>1</td>\n",
       "      <td>limit</td>\n",
       "      <td>ask</td>\n",
       "      <td>200</td>\n",
       "      <td>102</td>\n",
       "      <td>Fayçal</td>\n",
       "      <td>1586640951399288500</td>\n",
       "      <td>2</td>\n",
       "    </tr>\n",
       "    <tr>\n",
       "      <td>2</td>\n",
       "      <td>market</td>\n",
       "      <td>ask</td>\n",
       "      <td>150</td>\n",
       "      <td>NaN</td>\n",
       "      <td>Fayçal</td>\n",
       "      <td>1586640951422215800</td>\n",
       "      <td>NaN</td>\n",
       "    </tr>\n",
       "  </tbody>\n",
       "</table>\n",
       "</div>"
      ],
      "text/plain": [
       "     type side quantity price trader_id            timestamp order_id\n",
       "0   limit  ask        0   101    Fayçal  1586640951398290300        1\n",
       "1   limit  ask      200   102    Fayçal  1586640951399288500        2\n",
       "2  market  ask      150   NaN    Fayçal  1586640951422215800      NaN"
      ]
     },
     "metadata": {},
     "output_type": "display_data"
    },
    {
     "name": "stdout",
     "output_type": "stream",
     "text": [
      "\n",
      "\n",
      "Pending orders (Orders that are still in the LOB) : \n"
     ]
    },
    {
     "data": {
      "text/html": [
       "<div>\n",
       "<style scoped>\n",
       "    .dataframe tbody tr th:only-of-type {\n",
       "        vertical-align: middle;\n",
       "    }\n",
       "\n",
       "    .dataframe tbody tr th {\n",
       "        vertical-align: top;\n",
       "    }\n",
       "\n",
       "    .dataframe thead th {\n",
       "        text-align: right;\n",
       "    }\n",
       "</style>\n",
       "<table border=\"1\" class=\"dataframe\">\n",
       "  <thead>\n",
       "    <tr style=\"text-align: right;\">\n",
       "      <th></th>\n",
       "      <th>order_id</th>\n",
       "      <th>price</th>\n",
       "      <th>quantity</th>\n",
       "      <th>side</th>\n",
       "      <th>timestamp</th>\n",
       "      <th>trader_id</th>\n",
       "      <th>type</th>\n",
       "    </tr>\n",
       "  </thead>\n",
       "  <tbody>\n",
       "    <tr>\n",
       "      <td>2</td>\n",
       "      <td>2</td>\n",
       "      <td>102</td>\n",
       "      <td>200</td>\n",
       "      <td>ask</td>\n",
       "      <td>1586640951399288500</td>\n",
       "      <td>Fayçal</td>\n",
       "      <td>limit</td>\n",
       "    </tr>\n",
       "  </tbody>\n",
       "</table>\n",
       "</div>"
      ],
      "text/plain": [
       "  order_id price quantity side            timestamp trader_id   type\n",
       "2        2   102      200  ask  1586640951399288500    Fayçal  limit"
      ]
     },
     "metadata": {},
     "output_type": "display_data"
    },
    {
     "name": "stdout",
     "output_type": "stream",
     "text": [
      "\n",
      "\n",
      "Executed Trades : \n"
     ]
    },
    {
     "data": {
      "text/html": [
       "<div>\n",
       "<style scoped>\n",
       "    .dataframe tbody tr th:only-of-type {\n",
       "        vertical-align: middle;\n",
       "    }\n",
       "\n",
       "    .dataframe tbody tr th {\n",
       "        vertical-align: top;\n",
       "    }\n",
       "\n",
       "    .dataframe thead th {\n",
       "        text-align: right;\n",
       "    }\n",
       "</style>\n",
       "<table border=\"1\" class=\"dataframe\">\n",
       "  <thead>\n",
       "    <tr style=\"text-align: right;\">\n",
       "      <th></th>\n",
       "      <th>traded_price</th>\n",
       "      <th>traded_quantity</th>\n",
       "      <th>time</th>\n",
       "      <th>party1_id</th>\n",
       "      <th>party1_side</th>\n",
       "      <th>party1_order_id</th>\n",
       "      <th>party2_id</th>\n",
       "      <th>party2_side</th>\n",
       "      <th>party2_order_id</th>\n",
       "    </tr>\n",
       "  </thead>\n",
       "  <tbody>\n",
       "    <tr>\n",
       "      <td>0</td>\n",
       "      <td>100</td>\n",
       "      <td>100</td>\n",
       "      <td>1586640951422215800</td>\n",
       "      <td>Olivier</td>\n",
       "      <td>bid</td>\n",
       "      <td>3</td>\n",
       "      <td>Fayçal</td>\n",
       "      <td>ask</td>\n",
       "      <td>None</td>\n",
       "    </tr>\n",
       "    <tr>\n",
       "      <td>1</td>\n",
       "      <td>99</td>\n",
       "      <td>50</td>\n",
       "      <td>1586640951423212800</td>\n",
       "      <td>Olivier</td>\n",
       "      <td>bid</td>\n",
       "      <td>4</td>\n",
       "      <td>Fayçal</td>\n",
       "      <td>ask</td>\n",
       "      <td>None</td>\n",
       "    </tr>\n",
       "    <tr>\n",
       "      <td>2</td>\n",
       "      <td>101</td>\n",
       "      <td>100</td>\n",
       "      <td>1586640951451139300</td>\n",
       "      <td>Fayçal</td>\n",
       "      <td>ask</td>\n",
       "      <td>1</td>\n",
       "      <td>Olivier</td>\n",
       "      <td>ask</td>\n",
       "      <td>None</td>\n",
       "    </tr>\n",
       "  </tbody>\n",
       "</table>\n",
       "</div>"
      ],
      "text/plain": [
       "  traded_price traded_quantity                 time party1_id party1_side party1_order_id party2_id party2_side party2_order_id\n",
       "0          100             100  1586640951422215800   Olivier         bid               3    Fayçal         ask            None\n",
       "1           99              50  1586640951423212800   Olivier         bid               4    Fayçal         ask            None\n",
       "2          101             100  1586640951451139300    Fayçal         ask               1   Olivier         ask            None"
      ]
     },
     "metadata": {},
     "output_type": "display_data"
    }
   ],
   "source": [
    "other.send_buy_limit_order(quantity = 150,\n",
    "                           price    = 101)\n",
    "\n",
    "print('Sent orders : ')\n",
    "display(pd.DataFrame.from_dict(myself.sentorders).T)\n",
    "\n",
    "print('\\n\\nPending orders (Orders that are still in the LOB) : ')\n",
    "display(pd.DataFrame.from_dict(myself.pendingorders).T)\n",
    "\n",
    "print('\\n\\nExecuted Trades : ')\n",
    "display(pd.DataFrame.from_dict(myself.executedtrades).T)"
   ]
  },
  {
   "cell_type": "markdown",
   "metadata": {},
   "source": [
    "# 5. Modify orders\n",
    "\n",
    "Rules for modification : \n",
    "1. If the order is already executed : no new order\n",
    "2. Any order entered into the Central Order Book may be modified or cancelled prior to its execution. Any increase in the order quantity or change in the limit price shall cause the forfeiture of time priority. (Rule 4202/4 of Euronext)\n",
    "\n",
    "Rules for cancellation :\n",
    "1. If the order is already executed : no order cancellation"
   ]
  },
  {
   "cell_type": "markdown",
   "metadata": {},
   "source": [
    "#### modify an order\n",
    "\n",
    "we modify an order to make it aggressive (from 102 to best bid = 101).\n",
    "It will result in a traed of 50 shares + 150 shares will sit in the LOB at the best ask."
   ]
  },
  {
   "cell_type": "code",
   "execution_count": 11,
   "metadata": {},
   "outputs": [
    {
     "name": "stdout",
     "output_type": "stream",
     "text": [
      "\n",
      "\n",
      "Pending orders (Orders that are still in the LOB) : \n"
     ]
    },
    {
     "data": {
      "text/html": [
       "<div>\n",
       "<style scoped>\n",
       "    .dataframe tbody tr th:only-of-type {\n",
       "        vertical-align: middle;\n",
       "    }\n",
       "\n",
       "    .dataframe tbody tr th {\n",
       "        vertical-align: top;\n",
       "    }\n",
       "\n",
       "    .dataframe thead th {\n",
       "        text-align: right;\n",
       "    }\n",
       "</style>\n",
       "<table border=\"1\" class=\"dataframe\">\n",
       "  <thead>\n",
       "    <tr style=\"text-align: right;\">\n",
       "      <th></th>\n",
       "      <th>order_id</th>\n",
       "      <th>price</th>\n",
       "      <th>quantity</th>\n",
       "      <th>side</th>\n",
       "      <th>timestamp</th>\n",
       "      <th>trader_id</th>\n",
       "      <th>type</th>\n",
       "    </tr>\n",
       "  </thead>\n",
       "  <tbody>\n",
       "    <tr>\n",
       "      <td>2</td>\n",
       "      <td>2</td>\n",
       "      <td>102</td>\n",
       "      <td>200</td>\n",
       "      <td>ask</td>\n",
       "      <td>1586640951399288500</td>\n",
       "      <td>Fayçal</td>\n",
       "      <td>limit</td>\n",
       "    </tr>\n",
       "  </tbody>\n",
       "</table>\n",
       "</div>"
      ],
      "text/plain": [
       "  order_id price quantity side            timestamp trader_id   type\n",
       "2        2   102      200  ask  1586640951399288500    Fayçal  limit"
      ]
     },
     "metadata": {},
     "output_type": "display_data"
    }
   ],
   "source": [
    "print('\\n\\nPending orders (Orders that are still in the LOB) : ')\n",
    "display(pd.DataFrame.from_dict(myself.pendingorders).T)"
   ]
  },
  {
   "cell_type": "code",
   "execution_count": 12,
   "metadata": {},
   "outputs": [
    {
     "name": "stdout",
     "output_type": "stream",
     "text": [
      "**** I received this modify order **** \n",
      ": 2\n",
      "\n",
      "**** I received this limit order **** \n",
      ": {'type': 'limit', 'side': 'ask', 'quantity': 200, 'price': Decimal('101'), 'trader_id': 'Fayçal', 'order_id': 2, 'timestamp': 1586640951492028800}\n",
      "\n",
      "TRADE: Time - 1586640951492028800, Price - 101, Quantity - 50, TradeID - Olivier, Matching TradeID - Fayçal\n",
      "Sent orders : \n"
     ]
    },
    {
     "data": {
      "text/html": [
       "<div>\n",
       "<style scoped>\n",
       "    .dataframe tbody tr th:only-of-type {\n",
       "        vertical-align: middle;\n",
       "    }\n",
       "\n",
       "    .dataframe tbody tr th {\n",
       "        vertical-align: top;\n",
       "    }\n",
       "\n",
       "    .dataframe thead th {\n",
       "        text-align: right;\n",
       "    }\n",
       "</style>\n",
       "<table border=\"1\" class=\"dataframe\">\n",
       "  <thead>\n",
       "    <tr style=\"text-align: right;\">\n",
       "      <th></th>\n",
       "      <th>type</th>\n",
       "      <th>side</th>\n",
       "      <th>quantity</th>\n",
       "      <th>price</th>\n",
       "      <th>trader_id</th>\n",
       "      <th>timestamp</th>\n",
       "      <th>order_id</th>\n",
       "    </tr>\n",
       "  </thead>\n",
       "  <tbody>\n",
       "    <tr>\n",
       "      <td>0</td>\n",
       "      <td>limit</td>\n",
       "      <td>ask</td>\n",
       "      <td>0</td>\n",
       "      <td>101</td>\n",
       "      <td>Fayçal</td>\n",
       "      <td>1586640951398290300</td>\n",
       "      <td>1</td>\n",
       "    </tr>\n",
       "    <tr>\n",
       "      <td>1</td>\n",
       "      <td>limit</td>\n",
       "      <td>ask</td>\n",
       "      <td>200</td>\n",
       "      <td>102</td>\n",
       "      <td>Fayçal</td>\n",
       "      <td>1586640951399288500</td>\n",
       "      <td>2</td>\n",
       "    </tr>\n",
       "    <tr>\n",
       "      <td>2</td>\n",
       "      <td>market</td>\n",
       "      <td>ask</td>\n",
       "      <td>150</td>\n",
       "      <td>NaN</td>\n",
       "      <td>Fayçal</td>\n",
       "      <td>1586640951422215800</td>\n",
       "      <td>NaN</td>\n",
       "    </tr>\n",
       "  </tbody>\n",
       "</table>\n",
       "</div>"
      ],
      "text/plain": [
       "     type side quantity price trader_id            timestamp order_id\n",
       "0   limit  ask        0   101    Fayçal  1586640951398290300        1\n",
       "1   limit  ask      200   102    Fayçal  1586640951399288500        2\n",
       "2  market  ask      150   NaN    Fayçal  1586640951422215800      NaN"
      ]
     },
     "metadata": {},
     "output_type": "display_data"
    },
    {
     "name": "stdout",
     "output_type": "stream",
     "text": [
      "\n",
      "\n",
      "Pending orders (Orders that are still in the LOB) : \n"
     ]
    },
    {
     "data": {
      "text/html": [
       "<div>\n",
       "<style scoped>\n",
       "    .dataframe tbody tr th:only-of-type {\n",
       "        vertical-align: middle;\n",
       "    }\n",
       "\n",
       "    .dataframe tbody tr th {\n",
       "        vertical-align: top;\n",
       "    }\n",
       "\n",
       "    .dataframe thead th {\n",
       "        text-align: right;\n",
       "    }\n",
       "</style>\n",
       "<table border=\"1\" class=\"dataframe\">\n",
       "  <thead>\n",
       "    <tr style=\"text-align: right;\">\n",
       "      <th></th>\n",
       "      <th>order_id</th>\n",
       "      <th>price</th>\n",
       "      <th>quantity</th>\n",
       "      <th>side</th>\n",
       "      <th>timestamp</th>\n",
       "      <th>trader_id</th>\n",
       "      <th>type</th>\n",
       "    </tr>\n",
       "  </thead>\n",
       "  <tbody>\n",
       "    <tr>\n",
       "      <td>2</td>\n",
       "      <td>2</td>\n",
       "      <td>101</td>\n",
       "      <td>150</td>\n",
       "      <td>ask</td>\n",
       "      <td>1586640951492028800</td>\n",
       "      <td>Fayçal</td>\n",
       "      <td>limit</td>\n",
       "    </tr>\n",
       "  </tbody>\n",
       "</table>\n",
       "</div>"
      ],
      "text/plain": [
       "  order_id price quantity side            timestamp trader_id   type\n",
       "2        2   101      150  ask  1586640951492028800    Fayçal  limit"
      ]
     },
     "metadata": {},
     "output_type": "display_data"
    },
    {
     "name": "stdout",
     "output_type": "stream",
     "text": [
      "\n",
      "\n",
      "Executed Trades : \n"
     ]
    },
    {
     "data": {
      "text/html": [
       "<div>\n",
       "<style scoped>\n",
       "    .dataframe tbody tr th:only-of-type {\n",
       "        vertical-align: middle;\n",
       "    }\n",
       "\n",
       "    .dataframe tbody tr th {\n",
       "        vertical-align: top;\n",
       "    }\n",
       "\n",
       "    .dataframe thead th {\n",
       "        text-align: right;\n",
       "    }\n",
       "</style>\n",
       "<table border=\"1\" class=\"dataframe\">\n",
       "  <thead>\n",
       "    <tr style=\"text-align: right;\">\n",
       "      <th></th>\n",
       "      <th>traded_price</th>\n",
       "      <th>traded_quantity</th>\n",
       "      <th>time</th>\n",
       "      <th>party1_id</th>\n",
       "      <th>party1_side</th>\n",
       "      <th>party1_order_id</th>\n",
       "      <th>party2_id</th>\n",
       "      <th>party2_side</th>\n",
       "      <th>party2_order_id</th>\n",
       "    </tr>\n",
       "  </thead>\n",
       "  <tbody>\n",
       "    <tr>\n",
       "      <td>0</td>\n",
       "      <td>100</td>\n",
       "      <td>100</td>\n",
       "      <td>1586640951422215800</td>\n",
       "      <td>Olivier</td>\n",
       "      <td>bid</td>\n",
       "      <td>3</td>\n",
       "      <td>Fayçal</td>\n",
       "      <td>ask</td>\n",
       "      <td>None</td>\n",
       "    </tr>\n",
       "    <tr>\n",
       "      <td>1</td>\n",
       "      <td>99</td>\n",
       "      <td>50</td>\n",
       "      <td>1586640951423212800</td>\n",
       "      <td>Olivier</td>\n",
       "      <td>bid</td>\n",
       "      <td>4</td>\n",
       "      <td>Fayçal</td>\n",
       "      <td>ask</td>\n",
       "      <td>None</td>\n",
       "    </tr>\n",
       "    <tr>\n",
       "      <td>2</td>\n",
       "      <td>101</td>\n",
       "      <td>100</td>\n",
       "      <td>1586640951451139300</td>\n",
       "      <td>Fayçal</td>\n",
       "      <td>ask</td>\n",
       "      <td>1</td>\n",
       "      <td>Olivier</td>\n",
       "      <td>ask</td>\n",
       "      <td>None</td>\n",
       "    </tr>\n",
       "    <tr>\n",
       "      <td>3</td>\n",
       "      <td>101</td>\n",
       "      <td>50</td>\n",
       "      <td>1586640951492028800</td>\n",
       "      <td>Olivier</td>\n",
       "      <td>bid</td>\n",
       "      <td>5</td>\n",
       "      <td>Fayçal</td>\n",
       "      <td>ask</td>\n",
       "      <td>None</td>\n",
       "    </tr>\n",
       "  </tbody>\n",
       "</table>\n",
       "</div>"
      ],
      "text/plain": [
       "  traded_price traded_quantity                 time party1_id party1_side party1_order_id party2_id party2_side party2_order_id\n",
       "0          100             100  1586640951422215800   Olivier         bid               3    Fayçal         ask            None\n",
       "1           99              50  1586640951423212800   Olivier         bid               4    Fayçal         ask            None\n",
       "2          101             100  1586640951451139300    Fayçal         ask               1   Olivier         ask            None\n",
       "3          101              50  1586640951492028800   Olivier         bid               5    Fayçal         ask            None"
      ]
     },
     "metadata": {},
     "output_type": "display_data"
    }
   ],
   "source": [
    "myself.modifyOrder(order_id     = 2, \n",
    "                   side         = 'ask',\n",
    "                   new_price    = 101,\n",
    "                   new_quantity = 200)\n",
    "\n",
    "print('Sent orders : ')\n",
    "display(pd.DataFrame.from_dict(myself.sentorders).T)\n",
    "\n",
    "print('\\n\\nPending orders (Orders that are still in the LOB) : ')\n",
    "display(pd.DataFrame.from_dict(myself.pendingorders).T)\n",
    "\n",
    "print('\\n\\nExecuted Trades : ')\n",
    "display(pd.DataFrame.from_dict(myself.executedtrades).T)"
   ]
  },
  {
   "cell_type": "markdown",
   "metadata": {},
   "source": [
    "#### Cancel an order"
   ]
  },
  {
   "cell_type": "code",
   "execution_count": 13,
   "metadata": {},
   "outputs": [
    {
     "name": "stdout",
     "output_type": "stream",
     "text": [
      "\n",
      "\n",
      "Pending orders (Orders that are still in the LOB) : \n"
     ]
    },
    {
     "data": {
      "text/html": [
       "<div>\n",
       "<style scoped>\n",
       "    .dataframe tbody tr th:only-of-type {\n",
       "        vertical-align: middle;\n",
       "    }\n",
       "\n",
       "    .dataframe tbody tr th {\n",
       "        vertical-align: top;\n",
       "    }\n",
       "\n",
       "    .dataframe thead th {\n",
       "        text-align: right;\n",
       "    }\n",
       "</style>\n",
       "<table border=\"1\" class=\"dataframe\">\n",
       "  <thead>\n",
       "    <tr style=\"text-align: right;\">\n",
       "      <th></th>\n",
       "      <th>order_id</th>\n",
       "      <th>price</th>\n",
       "      <th>quantity</th>\n",
       "      <th>side</th>\n",
       "      <th>timestamp</th>\n",
       "      <th>trader_id</th>\n",
       "      <th>type</th>\n",
       "    </tr>\n",
       "  </thead>\n",
       "  <tbody>\n",
       "    <tr>\n",
       "      <td>2</td>\n",
       "      <td>2</td>\n",
       "      <td>101</td>\n",
       "      <td>150</td>\n",
       "      <td>ask</td>\n",
       "      <td>1586640951492028800</td>\n",
       "      <td>Fayçal</td>\n",
       "      <td>limit</td>\n",
       "    </tr>\n",
       "  </tbody>\n",
       "</table>\n",
       "</div>"
      ],
      "text/plain": [
       "  order_id price quantity side            timestamp trader_id   type\n",
       "2        2   101      150  ask  1586640951492028800    Fayçal  limit"
      ]
     },
     "metadata": {},
     "output_type": "display_data"
    }
   ],
   "source": [
    "print('\\n\\nPending orders (Orders that are still in the LOB) : ')\n",
    "display(pd.DataFrame.from_dict(myself.pendingorders).T)"
   ]
  },
  {
   "cell_type": "code",
   "execution_count": 14,
   "metadata": {},
   "outputs": [
    {
     "name": "stdout",
     "output_type": "stream",
     "text": [
      "**** I received this cancel order **** \n",
      ": 2\n",
      "\n",
      "\n",
      "\n",
      "Pending orders (Orders that are still in the LOB) : \n"
     ]
    },
    {
     "data": {
      "text/html": [
       "<div>\n",
       "<style scoped>\n",
       "    .dataframe tbody tr th:only-of-type {\n",
       "        vertical-align: middle;\n",
       "    }\n",
       "\n",
       "    .dataframe tbody tr th {\n",
       "        vertical-align: top;\n",
       "    }\n",
       "\n",
       "    .dataframe thead th {\n",
       "        text-align: right;\n",
       "    }\n",
       "</style>\n",
       "<table border=\"1\" class=\"dataframe\">\n",
       "  <thead>\n",
       "    <tr style=\"text-align: right;\">\n",
       "      <th></th>\n",
       "    </tr>\n",
       "  </thead>\n",
       "  <tbody>\n",
       "  </tbody>\n",
       "</table>\n",
       "</div>"
      ],
      "text/plain": [
       "Empty DataFrame\n",
       "Columns: []\n",
       "Index: []"
      ]
     },
     "metadata": {},
     "output_type": "display_data"
    }
   ],
   "source": [
    "myself.cancelOrder(side     = 'ask', \n",
    "                   order_id = 2)\n",
    "\n",
    "print('\\n\\nPending orders (Orders that are still in the LOB) : ')\n",
    "display(pd.DataFrame.from_dict(myself.pendingorders).T)"
   ]
  },
  {
   "cell_type": "markdown",
   "metadata": {},
   "source": [
    "# 6. Modify The LOB\n",
    "One agent type (market) can reset the LOB, dump the tape, and modify the LOB properties \n",
    "#### Change tick size"
   ]
  },
  {
   "cell_type": "code",
   "execution_count": 15,
   "metadata": {},
   "outputs": [],
   "source": [
    "euronext.setLOB_tickSize(0.1)"
   ]
  },
  {
   "cell_type": "markdown",
   "metadata": {},
   "source": [
    "#### Remove all pending orders"
   ]
  },
  {
   "cell_type": "code",
   "execution_count": 16,
   "metadata": {},
   "outputs": [
    {
     "data": {
      "text/plain": [
       "'DONE'"
      ]
     },
     "execution_count": 16,
     "metadata": {},
     "output_type": "execute_result"
    }
   ],
   "source": [
    "euronext.resetLOB_PendingOrders()"
   ]
  },
  {
   "cell_type": "markdown",
   "metadata": {},
   "source": [
    "#### Remove orders and transactions"
   ]
  },
  {
   "cell_type": "code",
   "execution_count": 17,
   "metadata": {},
   "outputs": [
    {
     "data": {
      "text/plain": [
       "'DONE'"
      ]
     },
     "execution_count": 17,
     "metadata": {},
     "output_type": "execute_result"
    }
   ],
   "source": [
    "euronext.resetLOB()"
   ]
  }
 ],
 "metadata": {
  "kernelspec": {
   "display_name": "Python 3",
   "language": "python",
   "name": "python3"
  },
  "language_info": {
   "codemirror_mode": {
    "name": "ipython",
    "version": 3
   },
   "file_extension": ".py",
   "mimetype": "text/x-python",
   "name": "python",
   "nbconvert_exporter": "python",
   "pygments_lexer": "ipython3",
   "version": "3.7.4"
  }
 },
 "nbformat": 4,
 "nbformat_minor": 4
}
