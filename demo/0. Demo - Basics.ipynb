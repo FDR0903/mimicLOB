{
 "cells": [
  {
   "cell_type": "markdown",
   "metadata": {},
   "source": [
    "# mimic LOB - DEMO\n",
    "\n",
    "\n",
    "# 0. Imports"
   ]
  },
  {
   "cell_type": "code",
   "execution_count": null,
   "metadata": {},
   "outputs": [],
   "source": [
    "# Imports\n",
    "from   IPython.display import display, HTML\n",
    "import numpy as np\n",
    "import pandas as pd\n",
    "from pprint import pprint\n",
    "import matplotlib.pyplot as plt\n",
    "\n",
    "# Display options\n",
    "pd.set_option('display.width', 1000)\n",
    "display(HTML(\"<style>.container { width:100% !important; }</style>\"))\n",
    "pd.set_option('mode.chained_assignment', None)"
   ]
  },
  {
   "cell_type": "code",
   "execution_count": null,
   "metadata": {},
   "outputs": [],
   "source": [
    "import mimicLOB as lob\n",
    "from mimicLOB.orderbook.orderbook import OrderBook\n",
    "from mimicLOB.agent.genericAgent import genericAgent"
   ]
  },
  {
   "cell_type": "markdown",
   "metadata": {},
   "source": [
    "# 1. LOB creation"
   ]
  },
  {
   "cell_type": "code",
   "execution_count": null,
   "metadata": {},
   "outputs": [],
   "source": [
    "# b_tape = True means the LOB \n",
    "LOB = OrderBook(tick_size = 1, \n",
    "                b_tape    = True,\n",
    "                verbose   = False)"
   ]
  },
  {
   "cell_type": "markdown",
   "metadata": {},
   "source": [
    "# 2. Agents\n",
    "The agents is constantly connected to the distant LOB via the server address.\n",
    "\n",
    "#### Parameters :\n",
    "1. distant : if true, the agent must have the server address. If False, he should have the orderbook object passed in the configuration.\n",
    "2. server : when distant is True, the http address of the server the LOB is running on.\n",
    "3. id : optional, default is generic. the if is used in the transaction tape.\n",
    "4. b_record : optional, boolean, default is False. If True, the agent records all his activity : sent orders, executed trades, pending orders ...\n"
   ]
  },
  {
   "cell_type": "code",
   "execution_count": null,
   "metadata": {},
   "outputs": [],
   "source": [
    "EURONEXT_config = {'orderbook'  : LOB,\n",
    "                   'id'         : 'market'}\n",
    "                 \n",
    "myself_config = {'orderbook'  : LOB,\n",
    "                 'id'         : 'FDR',\n",
    "                 'b_record'   : True}\n",
    "\n",
    "otherguy_config = {'orderbook'  : LOB,\n",
    "                   'id'         : 'Olivier'}\n",
    "\n",
    "euronext = genericAgent(**EURONEXT_config)\n",
    "myself   = genericAgent(**myself_config)\n",
    "other    = genericAgent(**otherguy_config)"
   ]
  },
  {
   "cell_type": "code",
   "execution_count": null,
   "metadata": {},
   "outputs": [],
   "source": [
    "# Only agents with b_record = True\n",
    "LOB.agentList"
   ]
  },
  {
   "cell_type": "markdown",
   "metadata": {},
   "source": [
    "#### The agent with id 'market' can change the LOB configuration and reset it"
   ]
  },
  {
   "cell_type": "code",
   "execution_count": null,
   "metadata": {},
   "outputs": [],
   "source": [
    "euronext.setLOB_tickSize(1)"
   ]
  },
  {
   "cell_type": "markdown",
   "metadata": {},
   "source": [
    "# 3. Get the LOB state\n",
    "Either agents have access to LOB information"
   ]
  },
  {
   "cell_type": "code",
   "execution_count": null,
   "metadata": {},
   "outputs": [],
   "source": [
    "LOBstate = myself.getLOBState()\n",
    "tickSize =  float(myself.getTickSize())\n",
    "print(f'tick size : {tickSize}')\n",
    "if type(LOBstate) == pd.DataFrame:\n",
    "    if len(LOBstate) >0 :\n",
    "        LOBstate = LOBstate.set_index('Price').sort_index()\n",
    "        minPrice = LOBstate.index[0]\n",
    "        maxPrice = LOBstate.index[-1]\n",
    "        LOBstate = LOBstate.reindex(np.arange(minPrice, maxPrice+tickSize, tickSize))\n",
    "        LOBstate.plot.bar(figsize=(20, 7))\n",
    "    else:\n",
    "        print('LOB is empty')\n",
    "else:\n",
    "    display(LOBstate)"
   ]
  },
  {
   "cell_type": "markdown",
   "metadata": {},
   "source": [
    "# 4. Send orders"
   ]
  },
  {
   "cell_type": "markdown",
   "metadata": {},
   "source": [
    "#### limit sell order @101, 102 & limit buy order @99, 100\n",
    "Check the LOB state afterwards"
   ]
  },
  {
   "cell_type": "code",
   "execution_count": null,
   "metadata": {
    "scrolled": false
   },
   "outputs": [],
   "source": [
    "# Send Orders\n",
    "myself.send_sell_limit_order(quantity = 100,\n",
    "                             price    = 101)\n",
    "\n",
    "myself.send_sell_limit_order(quantity = 200,\n",
    "                             price    = 102)\n",
    "\n",
    "other.send_buy_limit_order(quantity   = 100,\n",
    "                             price    = 100)\n",
    "\n",
    "other.send_buy_limit_order(quantity   = 100,\n",
    "                             price    = 99)\n",
    "print('Sent orders : ')\n",
    "display(pd.DataFrame.from_dict(myself.sentorders).T)\n",
    "\n",
    "print('\\n\\nPending orders (Orders that are still in the LOB) : ')\n",
    "display(pd.DataFrame.from_dict(myself.pendingorders).T)\n",
    "\n",
    "print('\\n\\nExecuted Trades : ')\n",
    "display(pd.DataFrame.from_dict(myself.executedtrades).T)"
   ]
  },
  {
   "cell_type": "markdown",
   "metadata": {},
   "source": [
    "#### market orders\n",
    "\n",
    "We send a 150 sell market order. 100 will be executed @100 & 50 @99 "
   ]
  },
  {
   "cell_type": "code",
   "execution_count": null,
   "metadata": {},
   "outputs": [],
   "source": [
    "myself.send_sell_market_order(quantity   = 150)\n",
    "\n",
    "print('Sent orders : ')\n",
    "display(pd.DataFrame.from_dict(myself.sentorders).T)\n",
    "\n",
    "print('\\n\\nPending orders (Orders that are still in the LOB) : ')\n",
    "display(pd.DataFrame.from_dict(myself.pendingorders).T)\n",
    "\n",
    "print('\\n\\nExecuted Trades : ')\n",
    "display(pd.DataFrame.from_dict(myself.executedtrades).T)"
   ]
  },
  {
   "cell_type": "markdown",
   "metadata": {},
   "source": [
    "#### match orders\n",
    "Olivier will buy 150 at 101. A transaction will happen, and the new best bid will be 101. Check LOB State.\n",
    "\n",
    "The agent 'FDR' is notified of the transaction. Pending orders & transaction list are updated."
   ]
  },
  {
   "cell_type": "code",
   "execution_count": null,
   "metadata": {},
   "outputs": [],
   "source": [
    "other.send_buy_limit_order(quantity = 150,\n",
    "                           price    = 101)\n",
    "\n",
    "print('Sent orders : ')\n",
    "display(pd.DataFrame.from_dict(myself.sentorders).T)\n",
    "\n",
    "print('\\n\\nPending orders (Orders that are still in the LOB) : ')\n",
    "display(pd.DataFrame.from_dict(myself.pendingorders).T)\n",
    "\n",
    "print('\\n\\nExecuted Trades : ')\n",
    "display(pd.DataFrame.from_dict(myself.executedtrades).T)"
   ]
  },
  {
   "cell_type": "markdown",
   "metadata": {},
   "source": [
    "# 5. Modify orders\n",
    "\n",
    "Rules for modification : \n",
    "1. If the order is already executed : no new order\n",
    "2. Any order entered into the Central Order Book may be modified or cancelled prior to its execution. Any increase in the order quantity or change in the limit price shall cause the forfeiture of time priority. (Rule 4202/4 of Euronext)\n",
    "\n",
    "Rules for cancellation :\n",
    "1. If the order is already executed : no order cancellation"
   ]
  },
  {
   "cell_type": "markdown",
   "metadata": {},
   "source": [
    "#### modify an order\n",
    "\n",
    "we modify an order to make it aggressive (from 102 to best bid = 101).\n",
    "It will result in a traed of 50 shares + 150 shares will sit in the LOB at the best ask."
   ]
  },
  {
   "cell_type": "code",
   "execution_count": null,
   "metadata": {},
   "outputs": [],
   "source": [
    "print('\\n\\nPending orders (Orders that are still in the LOB) : ')\n",
    "display(pd.DataFrame.from_dict(myself.pendingorders).T)"
   ]
  },
  {
   "cell_type": "code",
   "execution_count": null,
   "metadata": {},
   "outputs": [],
   "source": [
    "myself.modifyOrder(order_id     = 2, \n",
    "                   side         = 'ask',\n",
    "                   new_price    = 101,\n",
    "                   new_quantity = 200)\n",
    "\n",
    "print('Sent orders : ')\n",
    "display(pd.DataFrame.from_dict(myself.sentorders).T)\n",
    "\n",
    "print('\\n\\nPending orders (Orders that are still in the LOB) : ')\n",
    "display(pd.DataFrame.from_dict(myself.pendingorders).T)\n",
    "\n",
    "print('\\n\\nExecuted Trades : ')\n",
    "display(pd.DataFrame.from_dict(myself.executedtrades).T)"
   ]
  },
  {
   "cell_type": "markdown",
   "metadata": {},
   "source": [
    "#### Cancel an order"
   ]
  },
  {
   "cell_type": "code",
   "execution_count": null,
   "metadata": {},
   "outputs": [],
   "source": [
    "print('\\n\\nPending orders (Orders that are still in the LOB) : ')\n",
    "display(pd.DataFrame.from_dict(myself.pendingorders).T)"
   ]
  },
  {
   "cell_type": "code",
   "execution_count": null,
   "metadata": {},
   "outputs": [],
   "source": [
    "myself.cancelOrder(side     = 'ask', \n",
    "                   order_id = 2)\n",
    "\n",
    "print('\\n\\nPending orders (Orders that are still in the LOB) : ')\n",
    "display(pd.DataFrame.from_dict(myself.pendingorders).T)"
   ]
  },
  {
   "cell_type": "markdown",
   "metadata": {},
   "source": [
    "# 6. Modify The LOB\n",
    "One agent type (market) can reset the LOB, dump the tape, and modify the LOB properties \n",
    "#### Change tick size"
   ]
  },
  {
   "cell_type": "code",
   "execution_count": null,
   "metadata": {},
   "outputs": [],
   "source": [
    "euronext.setLOB_tickSize(0.1)"
   ]
  },
  {
   "cell_type": "markdown",
   "metadata": {},
   "source": [
    "#### Remove all pending orders"
   ]
  },
  {
   "cell_type": "code",
   "execution_count": null,
   "metadata": {},
   "outputs": [],
   "source": [
    "euronext.resetLOB_PendingOrders()"
   ]
  },
  {
   "cell_type": "markdown",
   "metadata": {},
   "source": [
    "#### Remove orders and transactions"
   ]
  },
  {
   "cell_type": "code",
   "execution_count": null,
   "metadata": {},
   "outputs": [],
   "source": [
    "euronext.resetLOB()"
   ]
  }
 ],
 "metadata": {
  "kernelspec": {
   "display_name": "Python 3",
   "language": "python",
   "name": "python3"
  },
  "language_info": {
   "codemirror_mode": {
    "name": "ipython",
    "version": 3
   },
   "file_extension": ".py",
   "mimetype": "text/x-python",
   "name": "python",
   "nbconvert_exporter": "python",
   "pygments_lexer": "ipython3",
   "version": "3.7.4"
  }
 },
 "nbformat": 4,
 "nbformat_minor": 4
}
