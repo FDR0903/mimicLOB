{
 "cells": [
  {
   "cell_type": "markdown",
   "metadata": {},
   "source": [
    "# mimic LOB - DEMO\n",
    "\n",
    "\n",
    "# 0. Imports"
   ]
  },
  {
   "cell_type": "code",
   "execution_count": 8,
   "metadata": {},
   "outputs": [
    {
     "data": {
      "text/html": [
       "<style>.container { width:100% !important; }</style>"
      ],
      "text/plain": [
       "<IPython.core.display.HTML object>"
      ]
     },
     "metadata": {},
     "output_type": "display_data"
    }
   ],
   "source": [
    "# Imports\n",
    "from   IPython.display import display, HTML\n",
    "import numpy as np\n",
    "import pandas as pd\n",
    "from pprint import pprint\n",
    "import matplotlib.pyplot as plt\n",
    "import os\n",
    "from pathlib import Path\n",
    "\n",
    "# parent directory\n",
    "dirname=os.path.dirname\n",
    "\n",
    "# Display options\n",
    "pd.set_option('display.width', 1000)\n",
    "display(HTML(\"<style>.container { width:100% !important; }</style>\"))\n",
    "pd.set_option('mode.chained_assignment', None)"
   ]
  },
  {
   "cell_type": "code",
   "execution_count": 9,
   "metadata": {},
   "outputs": [],
   "source": [
    "import mimicLOB as mlob\n",
    "\n",
    "# package's path\n",
    "lobpath = dirname(os.path.abspath(mlob.__file__)).replace('\\\\', '/') + '/LOBserver.py'\n",
    "fixpath = dirname(os.path.abspath(mlob.__file__)).replace('\\\\', '/') + '/FIXserver.py'\n",
    "\n",
    "# local server\n",
    "localserver = \"http://127.0.0.1:5000\"\n",
    "distantserver = \"http://fdr0903.pythonanywhere.com/\"\n",
    "\n",
    "# Server used\n",
    "server = localserver"
   ]
  },
  {
   "cell_type": "markdown",
   "metadata": {},
   "source": [
    "#### launch the distant LOB server, if you choose the localserver option\n",
    "#### Copy the command in a terminal"
   ]
  },
  {
   "cell_type": "code",
   "execution_count": 3,
   "metadata": {},
   "outputs": [
    {
     "data": {
      "text/plain": [
       "'python C:/Users/fayca/OneDrive/Documents/FRDev/mimicLOB/mimicLOB/LOBserver.py 5000'"
      ]
     },
     "execution_count": 3,
     "metadata": {},
     "output_type": "execute_result"
    }
   ],
   "source": [
    "port = 5000\n",
    "f\"python {lobpath} {port}\""
   ]
  },
  {
   "cell_type": "markdown",
   "metadata": {},
   "source": [
    "#### Open the 5003 port in your local host to receive messages from the distant LOB"
   ]
  },
  {
   "cell_type": "code",
   "execution_count": 4,
   "metadata": {},
   "outputs": [
    {
     "data": {
      "text/plain": [
       "'python C:/Users/fayca/OneDrive/Documents/FRDev/mimicLOB/mimicLOB/FIXserver.py 5003'"
      ]
     },
     "execution_count": 4,
     "metadata": {},
     "output_type": "execute_result"
    }
   ],
   "source": [
    "port = 5003\n",
    "f\"python {fixpath} {port}\""
   ]
  },
  {
   "cell_type": "markdown",
   "metadata": {},
   "source": [
    "# 2. Agents\n",
    "The agents is constantly connected to the distant LOB via the server address.\n",
    "\n",
    "#### Parameters :\n",
    "1. distant : if true, the agent must have the server address. If False, he should have the orderbook object passed in the configuration.\n",
    "2. server : when distant is True, the http address of the server the LOB is running on.\n",
    "3. id : optional, default is generic. the if is used in the transaction tape.\n",
    "4. b_record : optional, boolean, default is False. If True, the agent records all his activity : sent orders, executed trades, pending orders ...\n",
    "5. FIXaddress : address & port on which the agent is listening to the LOB messages. Every agent should have a different port.\n"
   ]
  },
  {
   "cell_type": "code",
   "execution_count": 5,
   "metadata": {},
   "outputs": [],
   "source": [
    "EURONEXT_config = {'distant' : True,\n",
    "                   'server'  : server,\n",
    "                   'id'      : 'market'}\n",
    "\n",
    "myself_config = {'distant' : True,\n",
    "                 'server'  : server,\n",
    "                 'id'      : 'FDR',\n",
    "                 'b_record': True,\n",
    "                 'FIXaddress' : 'http://127.0.0.1:5003/',\n",
    "                 'usengrok'   : False}\n",
    "\n",
    "other_config = {'distant'  : True,\n",
    "                'server'   : server,\n",
    "                'id'       : 'Olivier'}\n",
    "\n",
    "euronext = mlob.genericAgent(**EURONEXT_config)\n",
    "myself   = mlob.genericAgent(**myself_config)\n",
    "other    = mlob.genericAgent(**other_config)"
   ]
  },
  {
   "cell_type": "markdown",
   "metadata": {},
   "source": [
    "#### Fix server : local host is accessible via this public adderess. IT is used by the distant LOB to send notifications of trades & orders sitting in the book."
   ]
  },
  {
   "cell_type": "code",
   "execution_count": 6,
   "metadata": {},
   "outputs": [
    {
     "data": {
      "text/plain": [
       "'http://789076d0.ngrok.io'"
      ]
     },
     "execution_count": 6,
     "metadata": {},
     "output_type": "execute_result"
    }
   ],
   "source": [
    "myself._fixserver"
   ]
  },
  {
   "cell_type": "markdown",
   "metadata": {},
   "source": [
    "#### The agent with id 'market' can change the LOB configuration and reset it"
   ]
  },
  {
   "cell_type": "code",
   "execution_count": 7,
   "metadata": {},
   "outputs": [
    {
     "data": {
      "text/plain": [
       "'DONE'"
      ]
     },
     "execution_count": 7,
     "metadata": {},
     "output_type": "execute_result"
    }
   ],
   "source": [
    "euronext.setLOB_tickSize(0.1)"
   ]
  },
  {
   "cell_type": "markdown",
   "metadata": {},
   "source": [
    "# 3. Get the LOB state\n",
    "Either agents have access to LOB information"
   ]
  },
  {
   "cell_type": "code",
   "execution_count": null,
   "metadata": {},
   "outputs": [],
   "source": [
    "LOBstate = euronext.getLOBState()\n",
    "tickSize =  float(euronext.getTickSize())\n",
    "print(f'tick size : {tickSize}')\n",
    "if type(LOBstate) == pd.DataFrame:\n",
    "    if len(LOBstate) >0 :\n",
    "        LOBstate = LOBstate.set_index('Price').sort_index()\n",
    "        minPrice = LOBstate.index[0]\n",
    "        maxPrice = LOBstate.index[-1]\n",
    "        LOBstate = LOBstate.reindex(np.arange(minPrice, maxPrice+tickSize, tickSize))\n",
    "        LOBstate.plot.bar(figsize=(20, 7))\n",
    "    else:\n",
    "        print('LOB is empty')\n",
    "else:\n",
    "    display(LOBstate)"
   ]
  },
  {
   "cell_type": "markdown",
   "metadata": {},
   "source": [
    "# 4. Send orders"
   ]
  },
  {
   "cell_type": "markdown",
   "metadata": {},
   "source": [
    "#### limit sell order @101 & limit buy order @99\n",
    "Check the LOB state afterwards"
   ]
  },
  {
   "cell_type": "code",
   "execution_count": null,
   "metadata": {
    "scrolled": false
   },
   "outputs": [],
   "source": [
    "# Send Orders\n",
    "myself.send_sell_limit_order(quantity = 100,\n",
    "                             price    = 101)\n",
    "\n",
    "myself.send_buy_limit_order(quantity = 100,\n",
    "                             price    = 100)\n",
    "\n",
    "print('Sent orders : ')\n",
    "display(pd.DataFrame.from_dict(myself.sentorders).T)\n",
    "\n",
    "print('\\n\\nPending orders (Orders that are still in the LOB) : ')\n",
    "display(pd.DataFrame.from_dict(myself.pendingorders).T)\n",
    "\n",
    "print('\\n\\nExecuted Trades : ')\n",
    "display(pd.DataFrame.from_dict(myself.executedtrades).T)"
   ]
  },
  {
   "cell_type": "markdown",
   "metadata": {},
   "source": [
    "#### match orders\n",
    "Olivier will sell 50 at 100. A transaction will happen."
   ]
  },
  {
   "cell_type": "code",
   "execution_count": null,
   "metadata": {},
   "outputs": [],
   "source": [
    "other.send_sell_limit_order(quantity = 50,\n",
    "                             price    = 100)\n",
    "\n",
    "print('Sent orders : ')\n",
    "display(pd.DataFrame.from_dict(myself.sentorders).T)\n",
    "\n",
    "print('\\n\\nPending orders (Orders that are still in the LOB) : ')\n",
    "display(pd.DataFrame.from_dict(myself.pendingorders).T)\n",
    "\n",
    "print('\\n\\nExecuted Trades : ')\n",
    "display(pd.DataFrame.from_dict(myself.executedtrades).T)"
   ]
  },
  {
   "cell_type": "markdown",
   "metadata": {},
   "source": [
    "# 5. Modify orders\n",
    "\n",
    "Rules for modification : \n",
    "1. If the order is already executed : no new order\n",
    "2. Any order entered into the Central Order Book may be modified or cancelled prior to its execution. Any increase in the order quantity or change in the limit price shall cause the forfeiture of time priority. (Rule 4202/4 of Euronext)\n",
    "\n",
    "Rules for cancellation :\n",
    "1. If the order is already executed : no order cancellation"
   ]
  },
  {
   "cell_type": "markdown",
   "metadata": {},
   "source": [
    "#### Cancel an order"
   ]
  },
  {
   "cell_type": "code",
   "execution_count": null,
   "metadata": {},
   "outputs": [],
   "source": [
    "print('\\n\\nPending orders (Orders that are still in the LOB) : ')\n",
    "display(pd.DataFrame.from_dict(myself.pendingorders).T)"
   ]
  },
  {
   "cell_type": "code",
   "execution_count": null,
   "metadata": {},
   "outputs": [],
   "source": [
    "myself.cancelOrder(side     = 'ask', \n",
    "                   order_id = 1)\n",
    "\n",
    "print('\\n\\nPending orders (Orders that are still in the LOB) : ')\n",
    "display(pd.DataFrame.from_dict(myself.pendingorders).T)"
   ]
  },
  {
   "cell_type": "markdown",
   "metadata": {},
   "source": [
    "#### modify an order"
   ]
  },
  {
   "cell_type": "code",
   "execution_count": null,
   "metadata": {},
   "outputs": [],
   "source": [
    "myself.modifyOrder(order_id     = 2, \n",
    "                   side         = 'bid',\n",
    "                   new_price    = 5,\n",
    "                   new_quantity = 56)\n",
    "\n",
    "print('\\n\\nPending orders (Orders that are still in the LOB) : ')\n",
    "display(pd.DataFrame.from_dict(myself.pendingorders).T)"
   ]
  },
  {
   "cell_type": "markdown",
   "metadata": {},
   "source": [
    "# 6. Modify The LOB\n",
    "One agent type (market) can reset the LOB, dump the tape, and modify the LOB properties \n",
    "#### Change tick size"
   ]
  },
  {
   "cell_type": "code",
   "execution_count": null,
   "metadata": {},
   "outputs": [],
   "source": [
    "euronext.setLOB_tickSize(0.1)"
   ]
  },
  {
   "cell_type": "markdown",
   "metadata": {},
   "source": [
    "#### Remove all pending orders"
   ]
  },
  {
   "cell_type": "code",
   "execution_count": null,
   "metadata": {},
   "outputs": [],
   "source": [
    "euronext.resetLOB_PendingOrders()"
   ]
  },
  {
   "cell_type": "markdown",
   "metadata": {},
   "source": [
    "#### Remove orders and transactions"
   ]
  },
  {
   "cell_type": "code",
   "execution_count": null,
   "metadata": {},
   "outputs": [],
   "source": [
    "euronext.resetLOB()"
   ]
  }
 ],
 "metadata": {
  "kernelspec": {
   "display_name": "Python 3",
   "language": "python",
   "name": "python3"
  },
  "language_info": {
   "codemirror_mode": {
    "name": "ipython",
    "version": 3
   },
   "file_extension": ".py",
   "mimetype": "text/x-python",
   "name": "python",
   "nbconvert_exporter": "python",
   "pygments_lexer": "ipython3",
   "version": "3.7.4"
  }
 },
 "nbformat": 4,
 "nbformat_minor": 4
}
