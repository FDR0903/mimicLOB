{
 "cells": [
  {
   "cell_type": "markdown",
   "metadata": {},
   "source": [
    "# mimic LOB - DEMO\n",
    "\n",
    "Steps before running this notebook : \n",
    "1. Launch the server in the '5000' port by running the batch 'LaunchLOBserver.cmd' and entering 5000 as port.\n",
    "2. Visit the server address to make sure the server is running\n",
    "3. Launch the agent's FIX server in the '5003' port by running the batch 'LaunchFIXserver.cmd' and entering 5003 as port.\n",
    "4. Make sure you have installed ngrok\n",
    "\n",
    "# 0. Imports"
   ]
  },
  {
   "cell_type": "code",
   "execution_count": 2,
   "metadata": {},
   "outputs": [
    {
     "data": {
      "text/html": [
       "<style>.container { width:100% !important; }</style>"
      ],
      "text/plain": [
       "<IPython.core.display.HTML object>"
      ]
     },
     "metadata": {},
     "output_type": "display_data"
    }
   ],
   "source": [
    "# Imports\n",
    "from   IPython.display import display, HTML\n",
    "import numpy as np\n",
    "import pandas as pd\n",
    "from pprint import pprint\n",
    "import matplotlib.pyplot as plt\n",
    "\n",
    "# Display options\n",
    "pd.set_option('display.width', 1000)\n",
    "display(HTML(\"<style>.container { width:100% !important; }</style>\"))\n",
    "pd.set_option('mode.chained_assignment', None)"
   ]
  },
  {
   "cell_type": "code",
   "execution_count": 2,
   "metadata": {},
   "outputs": [],
   "source": [
    "import mimicLOB as lob\n",
    "from mimicLOB.agent.genericAgent import genericAgent\n",
    "\n",
    "import matplotlib.pyplot as plt\n",
    "import numpy as np\n",
    "import pandas as pd\n",
    "from pprint import pprint\n",
    "\n",
    "# local server\n",
    "localserver = \"http://127.0.0.1:5000\"\n",
    "distantserver = \"http://fdr0903.pythonanywhere.com/\"\n",
    "\n",
    "# Server used\n",
    "server = distantserver"
   ]
  },
  {
   "cell_type": "markdown",
   "metadata": {},
   "source": [
    "# 2. Agents\n",
    "The agents is constantly connected to the distant LOB via the server address.\n",
    "\n",
    "#### Parameters :\n",
    "1. distant : if true, the agent must have the server address. If False, he should have the orderbook object passed in the configuration.\n",
    "2. server : when distant is True, the http address of the server the LOB is running on.\n",
    "3. id : optional, default is generic. the if is used in the transaction tape.\n",
    "4. b_record : optional, boolean, default is False. If True, the agent records all his activity : sent orders, executed trades, pending orders ...\n",
    "5. FIXaddress : address & port on which the agent is listening to the LOB messages. Every agent should have a different port.\n"
   ]
  },
  {
   "cell_type": "code",
   "execution_count": 3,
   "metadata": {},
   "outputs": [],
   "source": [
    "EURONEXT_config = {'distant' : True,\n",
    "                   'server'  : server,\n",
    "                   'id'      : 'market'}\n",
    "\n",
    "myself_config = {'distant' : True,\n",
    "                 'server'  : server,\n",
    "                 'id'      : 'FDR',\n",
    "                 'b_record': True,\n",
    "                 'FIXaddress' : 'http://127.0.0.1:5003/'}\n",
    "\n",
    "other_config = {'distant'  : True,\n",
    "                'server'   : server,\n",
    "                'id'       : 'Olivier'}\n",
    "\n",
    "euronext = genericAgent(**EURONEXT_config)\n",
    "myself   = genericAgent(**myself_config)\n",
    "other    = genericAgent(**other_config)"
   ]
  },
  {
   "cell_type": "markdown",
   "metadata": {},
   "source": [
    "#### The agent with id 'market' can change the LOB configuration and reset it"
   ]
  },
  {
   "cell_type": "code",
   "execution_count": 1,
   "metadata": {},
   "outputs": [
    {
     "ename": "NameError",
     "evalue": "name 'euronext' is not defined",
     "output_type": "error",
     "traceback": [
      "\u001b[1;31m---------------------------------------------------------------------------\u001b[0m",
      "\u001b[1;31mNameError\u001b[0m                                 Traceback (most recent call last)",
      "\u001b[1;32m<ipython-input-1-c6fb9a5b965e>\u001b[0m in \u001b[0;36m<module>\u001b[1;34m\u001b[0m\n\u001b[1;32m----> 1\u001b[1;33m \u001b[0meuronext\u001b[0m\u001b[1;33m.\u001b[0m\u001b[0msetLOB_tickSize\u001b[0m\u001b[1;33m(\u001b[0m\u001b[1;36m0.1\u001b[0m\u001b[1;33m)\u001b[0m\u001b[1;33m\u001b[0m\u001b[1;33m\u001b[0m\u001b[0m\n\u001b[0m",
      "\u001b[1;31mNameError\u001b[0m: name 'euronext' is not defined"
     ]
    }
   ],
   "source": [
    "euronext.setLOB_tickSize(0.1)"
   ]
  },
  {
   "cell_type": "markdown",
   "metadata": {},
   "source": [
    "# 3. Get the LOB state\n",
    "Either agents have access to LOB information"
   ]
  },
  {
   "cell_type": "code",
   "execution_count": 5,
   "metadata": {},
   "outputs": [
    {
     "name": "stdout",
     "output_type": "stream",
     "text": [
      "tick size : 1.0\n"
     ]
    },
    {
     "data": {
      "image/png": "[encoded data removed]",
      "text/plain": [
       "<Figure size 1440x504 with 1 Axes>"
      ]
     },
     "metadata": {
      "needs_background": "light"
     },
     "output_type": "display_data"
    }
   ],
   "source": [
    "LOBstate = euronext.getLOBState()\n",
    "tickSize =  float(euronext.getTickSize())\n",
    "print(f'tick size : {tickSize}')\n",
    "if type(LOBstate) == pd.DataFrame:\n",
    "    if len(LOBstate) >0 :\n",
    "        LOBstate = LOBstate.set_index('Price').sort_index()\n",
    "        minPrice = LOBstate.index[0]\n",
    "        maxPrice = LOBstate.index[-1]\n",
    "        LOBstate = LOBstate.reindex(np.arange(minPrice, maxPrice+tickSize, tickSize))\n",
    "        LOBstate.plot.bar(figsize=(20, 7))\n",
    "    else:\n",
    "        print('LOB is empty')\n",
    "else:\n",
    "    display(LOBstate)"
   ]
  },
  {
   "cell_type": "markdown",
   "metadata": {},
   "source": [
    "# 4. Send orders"
   ]
  },
  {
   "cell_type": "markdown",
   "metadata": {},
   "source": [
    "#### limit sell order @101 & limit buy order @99\n",
    "Check the LOB state afterwards"
   ]
  },
  {
   "cell_type": "code",
   "execution_count": 6,
   "metadata": {
    "scrolled": false
   },
   "outputs": [
    {
     "name": "stdout",
     "output_type": "stream",
     "text": [
      "Sent orders : \n"
     ]
    },
    {
     "data": {
      "text/html": [
       "<div>\n",
       "<style scoped>\n",
       "    .dataframe tbody tr th:only-of-type {\n",
       "        vertical-align: middle;\n",
       "    }\n",
       "\n",
       "    .dataframe tbody tr th {\n",
       "        vertical-align: top;\n",
       "    }\n",
       "\n",
       "    .dataframe thead th {\n",
       "        text-align: right;\n",
       "    }\n",
       "</style>\n",
       "<table border=\"1\" class=\"dataframe\">\n",
       "  <thead>\n",
       "    <tr style=\"text-align: right;\">\n",
       "      <th></th>\n",
       "      <th>price</th>\n",
       "      <th>quantity</th>\n",
       "      <th>side</th>\n",
       "      <th>trader_id</th>\n",
       "      <th>type</th>\n",
       "      <th>order_id</th>\n",
       "    </tr>\n",
       "  </thead>\n",
       "  <tbody>\n",
       "    <tr>\n",
       "      <td>0</td>\n",
       "      <td>101</td>\n",
       "      <td>100</td>\n",
       "      <td>ask</td>\n",
       "      <td>FDR</td>\n",
       "      <td>limit</td>\n",
       "      <td>NaN</td>\n",
       "    </tr>\n",
       "    <tr>\n",
       "      <td>1</td>\n",
       "      <td>100</td>\n",
       "      <td>100</td>\n",
       "      <td>bid</td>\n",
       "      <td>FDR</td>\n",
       "      <td>limit</td>\n",
       "      <td>NaN</td>\n",
       "    </tr>\n",
       "    <tr>\n",
       "      <td>2</td>\n",
       "      <td>NaN</td>\n",
       "      <td>NaN</td>\n",
       "      <td>ask</td>\n",
       "      <td>FDR</td>\n",
       "      <td>cancel</td>\n",
       "      <td>1</td>\n",
       "    </tr>\n",
       "    <tr>\n",
       "      <td>3</td>\n",
       "      <td>101</td>\n",
       "      <td>100</td>\n",
       "      <td>ask</td>\n",
       "      <td>FDR</td>\n",
       "      <td>limit</td>\n",
       "      <td>NaN</td>\n",
       "    </tr>\n",
       "    <tr>\n",
       "      <td>4</td>\n",
       "      <td>100</td>\n",
       "      <td>100</td>\n",
       "      <td>bid</td>\n",
       "      <td>FDR</td>\n",
       "      <td>limit</td>\n",
       "      <td>NaN</td>\n",
       "    </tr>\n",
       "  </tbody>\n",
       "</table>\n",
       "</div>"
      ],
      "text/plain": [
       "  price quantity side trader_id    type order_id\n",
       "0   101      100  ask       FDR   limit      NaN\n",
       "1   100      100  bid       FDR   limit      NaN\n",
       "2   NaN      NaN  ask       FDR  cancel        1\n",
       "3   101      100  ask       FDR   limit      NaN\n",
       "4   100      100  bid       FDR   limit      NaN"
      ]
     },
     "metadata": {},
     "output_type": "display_data"
    },
    {
     "name": "stdout",
     "output_type": "stream",
     "text": [
      "\n",
      "\n",
      "Pending orders (Orders that are still in the LOB) : \n"
     ]
    },
    {
     "data": {
      "text/html": [
       "<div>\n",
       "<style scoped>\n",
       "    .dataframe tbody tr th:only-of-type {\n",
       "        vertical-align: middle;\n",
       "    }\n",
       "\n",
       "    .dataframe tbody tr th {\n",
       "        vertical-align: top;\n",
       "    }\n",
       "\n",
       "    .dataframe thead th {\n",
       "        text-align: right;\n",
       "    }\n",
       "</style>\n",
       "<table border=\"1\" class=\"dataframe\">\n",
       "  <thead>\n",
       "    <tr style=\"text-align: right;\">\n",
       "      <th></th>\n",
       "      <th>order_id</th>\n",
       "      <th>price</th>\n",
       "      <th>quantity</th>\n",
       "      <th>side</th>\n",
       "      <th>timestamp</th>\n",
       "      <th>trader_id</th>\n",
       "      <th>type</th>\n",
       "    </tr>\n",
       "  </thead>\n",
       "  <tbody>\n",
       "    <tr>\n",
       "      <td>2</td>\n",
       "      <td>2</td>\n",
       "      <td>5</td>\n",
       "      <td>56</td>\n",
       "      <td>bid</td>\n",
       "      <td>1587323195861286500</td>\n",
       "      <td>FDR</td>\n",
       "      <td>limit</td>\n",
       "    </tr>\n",
       "    <tr>\n",
       "      <td>3</td>\n",
       "      <td>3</td>\n",
       "      <td>101</td>\n",
       "      <td>100</td>\n",
       "      <td>ask</td>\n",
       "      <td>1587323343948021900</td>\n",
       "      <td>FDR</td>\n",
       "      <td>limit</td>\n",
       "    </tr>\n",
       "    <tr>\n",
       "      <td>4</td>\n",
       "      <td>4</td>\n",
       "      <td>100</td>\n",
       "      <td>100</td>\n",
       "      <td>bid</td>\n",
       "      <td>1587323344606262400</td>\n",
       "      <td>FDR</td>\n",
       "      <td>limit</td>\n",
       "    </tr>\n",
       "  </tbody>\n",
       "</table>\n",
       "</div>"
      ],
      "text/plain": [
       "  order_id price quantity side            timestamp trader_id   type\n",
       "2        2     5       56  bid  1587323195861286500       FDR  limit\n",
       "3        3   101      100  ask  1587323343948021900       FDR  limit\n",
       "4        4   100      100  bid  1587323344606262400       FDR  limit"
      ]
     },
     "metadata": {},
     "output_type": "display_data"
    },
    {
     "name": "stdout",
     "output_type": "stream",
     "text": [
      "\n",
      "\n",
      "Executed Trades : \n"
     ]
    },
    {
     "data": {
      "text/html": [
       "<div>\n",
       "<style scoped>\n",
       "    .dataframe tbody tr th:only-of-type {\n",
       "        vertical-align: middle;\n",
       "    }\n",
       "\n",
       "    .dataframe tbody tr th {\n",
       "        vertical-align: top;\n",
       "    }\n",
       "\n",
       "    .dataframe thead th {\n",
       "        text-align: right;\n",
       "    }\n",
       "</style>\n",
       "<table border=\"1\" class=\"dataframe\">\n",
       "  <thead>\n",
       "    <tr style=\"text-align: right;\">\n",
       "      <th></th>\n",
       "      <th>party1_id</th>\n",
       "      <th>party1_order_id</th>\n",
       "      <th>party1_side</th>\n",
       "      <th>party2_id</th>\n",
       "      <th>party2_order_id</th>\n",
       "      <th>party2_side</th>\n",
       "      <th>time</th>\n",
       "      <th>traded_price</th>\n",
       "      <th>traded_quantity</th>\n",
       "    </tr>\n",
       "  </thead>\n",
       "  <tbody>\n",
       "    <tr>\n",
       "      <td>0</td>\n",
       "      <td>FDR</td>\n",
       "      <td>2</td>\n",
       "      <td>bid</td>\n",
       "      <td>Olivier</td>\n",
       "      <td>None</td>\n",
       "      <td>ask</td>\n",
       "      <td>1587323193230099000</td>\n",
       "      <td>100</td>\n",
       "      <td>50</td>\n",
       "    </tr>\n",
       "  </tbody>\n",
       "</table>\n",
       "</div>"
      ],
      "text/plain": [
       "  party1_id party1_order_id party1_side party2_id party2_order_id party2_side                 time traded_price traded_quantity\n",
       "0       FDR               2         bid   Olivier            None         ask  1587323193230099000          100              50"
      ]
     },
     "metadata": {},
     "output_type": "display_data"
    }
   ],
   "source": [
    "# Send Orders\n",
    "myself.send_sell_limit_order(quantity = 100,\n",
    "                             price    = 101)\n",
    "\n",
    "myself.send_buy_limit_order(quantity = 100,\n",
    "                             price    = 100)\n",
    "\n",
    "print('Sent orders : ')\n",
    "display(pd.DataFrame.from_dict(myself.sentorders).T)\n",
    "\n",
    "print('\\n\\nPending orders (Orders that are still in the LOB) : ')\n",
    "display(pd.DataFrame.from_dict(myself.pendingorders).T)\n",
    "\n",
    "print('\\n\\nExecuted Trades : ')\n",
    "display(pd.DataFrame.from_dict(myself.executedtrades).T)"
   ]
  },
  {
   "cell_type": "markdown",
   "metadata": {},
   "source": [
    "#### match orders\n",
    "Olivier will sell 50 at 100. A transaction will happen."
   ]
  },
  {
   "cell_type": "code",
   "execution_count": 7,
   "metadata": {},
   "outputs": [
    {
     "name": "stdout",
     "output_type": "stream",
     "text": [
      "Sent orders : \n"
     ]
    },
    {
     "data": {
      "text/html": [
       "<div>\n",
       "<style scoped>\n",
       "    .dataframe tbody tr th:only-of-type {\n",
       "        vertical-align: middle;\n",
       "    }\n",
       "\n",
       "    .dataframe tbody tr th {\n",
       "        vertical-align: top;\n",
       "    }\n",
       "\n",
       "    .dataframe thead th {\n",
       "        text-align: right;\n",
       "    }\n",
       "</style>\n",
       "<table border=\"1\" class=\"dataframe\">\n",
       "  <thead>\n",
       "    <tr style=\"text-align: right;\">\n",
       "      <th></th>\n",
       "      <th>price</th>\n",
       "      <th>quantity</th>\n",
       "      <th>side</th>\n",
       "      <th>trader_id</th>\n",
       "      <th>type</th>\n",
       "      <th>order_id</th>\n",
       "    </tr>\n",
       "  </thead>\n",
       "  <tbody>\n",
       "    <tr>\n",
       "      <td>0</td>\n",
       "      <td>101</td>\n",
       "      <td>100</td>\n",
       "      <td>ask</td>\n",
       "      <td>FDR</td>\n",
       "      <td>limit</td>\n",
       "      <td>NaN</td>\n",
       "    </tr>\n",
       "    <tr>\n",
       "      <td>1</td>\n",
       "      <td>100</td>\n",
       "      <td>100</td>\n",
       "      <td>bid</td>\n",
       "      <td>FDR</td>\n",
       "      <td>limit</td>\n",
       "      <td>NaN</td>\n",
       "    </tr>\n",
       "    <tr>\n",
       "      <td>2</td>\n",
       "      <td>NaN</td>\n",
       "      <td>NaN</td>\n",
       "      <td>ask</td>\n",
       "      <td>FDR</td>\n",
       "      <td>cancel</td>\n",
       "      <td>1</td>\n",
       "    </tr>\n",
       "    <tr>\n",
       "      <td>3</td>\n",
       "      <td>101</td>\n",
       "      <td>100</td>\n",
       "      <td>ask</td>\n",
       "      <td>FDR</td>\n",
       "      <td>limit</td>\n",
       "      <td>NaN</td>\n",
       "    </tr>\n",
       "    <tr>\n",
       "      <td>4</td>\n",
       "      <td>100</td>\n",
       "      <td>100</td>\n",
       "      <td>bid</td>\n",
       "      <td>FDR</td>\n",
       "      <td>limit</td>\n",
       "      <td>NaN</td>\n",
       "    </tr>\n",
       "  </tbody>\n",
       "</table>\n",
       "</div>"
      ],
      "text/plain": [
       "  price quantity side trader_id    type order_id\n",
       "0   101      100  ask       FDR   limit      NaN\n",
       "1   100      100  bid       FDR   limit      NaN\n",
       "2   NaN      NaN  ask       FDR  cancel        1\n",
       "3   101      100  ask       FDR   limit      NaN\n",
       "4   100      100  bid       FDR   limit      NaN"
      ]
     },
     "metadata": {},
     "output_type": "display_data"
    },
    {
     "name": "stdout",
     "output_type": "stream",
     "text": [
      "\n",
      "\n",
      "Pending orders (Orders that are still in the LOB) : \n"
     ]
    },
    {
     "data": {
      "text/html": [
       "<div>\n",
       "<style scoped>\n",
       "    .dataframe tbody tr th:only-of-type {\n",
       "        vertical-align: middle;\n",
       "    }\n",
       "\n",
       "    .dataframe tbody tr th {\n",
       "        vertical-align: top;\n",
       "    }\n",
       "\n",
       "    .dataframe thead th {\n",
       "        text-align: right;\n",
       "    }\n",
       "</style>\n",
       "<table border=\"1\" class=\"dataframe\">\n",
       "  <thead>\n",
       "    <tr style=\"text-align: right;\">\n",
       "      <th></th>\n",
       "      <th>order_id</th>\n",
       "      <th>price</th>\n",
       "      <th>quantity</th>\n",
       "      <th>side</th>\n",
       "      <th>timestamp</th>\n",
       "      <th>trader_id</th>\n",
       "      <th>type</th>\n",
       "    </tr>\n",
       "  </thead>\n",
       "  <tbody>\n",
       "    <tr>\n",
       "      <td>2</td>\n",
       "      <td>2</td>\n",
       "      <td>5</td>\n",
       "      <td>56</td>\n",
       "      <td>bid</td>\n",
       "      <td>1587323195861286500</td>\n",
       "      <td>FDR</td>\n",
       "      <td>limit</td>\n",
       "    </tr>\n",
       "    <tr>\n",
       "      <td>3</td>\n",
       "      <td>3</td>\n",
       "      <td>101</td>\n",
       "      <td>100</td>\n",
       "      <td>ask</td>\n",
       "      <td>1587323343948021900</td>\n",
       "      <td>FDR</td>\n",
       "      <td>limit</td>\n",
       "    </tr>\n",
       "    <tr>\n",
       "      <td>4</td>\n",
       "      <td>4</td>\n",
       "      <td>100</td>\n",
       "      <td>100</td>\n",
       "      <td>bid</td>\n",
       "      <td>1587323344606262400</td>\n",
       "      <td>FDR</td>\n",
       "      <td>limit</td>\n",
       "    </tr>\n",
       "  </tbody>\n",
       "</table>\n",
       "</div>"
      ],
      "text/plain": [
       "  order_id price quantity side            timestamp trader_id   type\n",
       "2        2     5       56  bid  1587323195861286500       FDR  limit\n",
       "3        3   101      100  ask  1587323343948021900       FDR  limit\n",
       "4        4   100      100  bid  1587323344606262400       FDR  limit"
      ]
     },
     "metadata": {},
     "output_type": "display_data"
    },
    {
     "name": "stdout",
     "output_type": "stream",
     "text": [
      "\n",
      "\n",
      "Executed Trades : \n"
     ]
    },
    {
     "data": {
      "text/html": [
       "<div>\n",
       "<style scoped>\n",
       "    .dataframe tbody tr th:only-of-type {\n",
       "        vertical-align: middle;\n",
       "    }\n",
       "\n",
       "    .dataframe tbody tr th {\n",
       "        vertical-align: top;\n",
       "    }\n",
       "\n",
       "    .dataframe thead th {\n",
       "        text-align: right;\n",
       "    }\n",
       "</style>\n",
       "<table border=\"1\" class=\"dataframe\">\n",
       "  <thead>\n",
       "    <tr style=\"text-align: right;\">\n",
       "      <th></th>\n",
       "      <th>party1_id</th>\n",
       "      <th>party1_order_id</th>\n",
       "      <th>party1_side</th>\n",
       "      <th>party2_id</th>\n",
       "      <th>party2_order_id</th>\n",
       "      <th>party2_side</th>\n",
       "      <th>time</th>\n",
       "      <th>traded_price</th>\n",
       "      <th>traded_quantity</th>\n",
       "    </tr>\n",
       "  </thead>\n",
       "  <tbody>\n",
       "    <tr>\n",
       "      <td>0</td>\n",
       "      <td>FDR</td>\n",
       "      <td>2</td>\n",
       "      <td>bid</td>\n",
       "      <td>Olivier</td>\n",
       "      <td>None</td>\n",
       "      <td>ask</td>\n",
       "      <td>1587323193230099000</td>\n",
       "      <td>100</td>\n",
       "      <td>50</td>\n",
       "    </tr>\n",
       "    <tr>\n",
       "      <td>1</td>\n",
       "      <td>FDR</td>\n",
       "      <td>4</td>\n",
       "      <td>bid</td>\n",
       "      <td>Olivier</td>\n",
       "      <td>None</td>\n",
       "      <td>ask</td>\n",
       "      <td>1587323346480829300</td>\n",
       "      <td>100</td>\n",
       "      <td>50</td>\n",
       "    </tr>\n",
       "  </tbody>\n",
       "</table>\n",
       "</div>"
      ],
      "text/plain": [
       "  party1_id party1_order_id party1_side party2_id party2_order_id party2_side                 time traded_price traded_quantity\n",
       "0       FDR               2         bid   Olivier            None         ask  1587323193230099000          100              50\n",
       "1       FDR               4         bid   Olivier            None         ask  1587323346480829300          100              50"
      ]
     },
     "metadata": {},
     "output_type": "display_data"
    }
   ],
   "source": [
    "other.send_sell_limit_order(quantity = 50,\n",
    "                             price    = 100)\n",
    "\n",
    "print('Sent orders : ')\n",
    "display(pd.DataFrame.from_dict(myself.sentorders).T)\n",
    "\n",
    "print('\\n\\nPending orders (Orders that are still in the LOB) : ')\n",
    "display(pd.DataFrame.from_dict(myself.pendingorders).T)\n",
    "\n",
    "print('\\n\\nExecuted Trades : ')\n",
    "display(pd.DataFrame.from_dict(myself.executedtrades).T)"
   ]
  },
  {
   "cell_type": "markdown",
   "metadata": {},
   "source": [
    "# 5. Modify orders\n",
    "\n",
    "Rules for modification : \n",
    "1. If the order is already executed : no new order\n",
    "2. Any order entered into the Central Order Book may be modified or cancelled prior to its execution. Any increase in the order quantity or change in the limit price shall cause the forfeiture of time priority. (Rule 4202/4 of Euronext)\n",
    "\n",
    "Rules for cancellation :\n",
    "1. If the order is already executed : no order cancellation"
   ]
  },
  {
   "cell_type": "markdown",
   "metadata": {},
   "source": [
    "#### Cancel an order"
   ]
  },
  {
   "cell_type": "code",
   "execution_count": 8,
   "metadata": {},
   "outputs": [
    {
     "name": "stdout",
     "output_type": "stream",
     "text": [
      "\n",
      "\n",
      "Pending orders (Orders that are still in the LOB) : \n"
     ]
    },
    {
     "data": {
      "text/html": [
       "<div>\n",
       "<style scoped>\n",
       "    .dataframe tbody tr th:only-of-type {\n",
       "        vertical-align: middle;\n",
       "    }\n",
       "\n",
       "    .dataframe tbody tr th {\n",
       "        vertical-align: top;\n",
       "    }\n",
       "\n",
       "    .dataframe thead th {\n",
       "        text-align: right;\n",
       "    }\n",
       "</style>\n",
       "<table border=\"1\" class=\"dataframe\">\n",
       "  <thead>\n",
       "    <tr style=\"text-align: right;\">\n",
       "      <th></th>\n",
       "      <th>order_id</th>\n",
       "      <th>price</th>\n",
       "      <th>quantity</th>\n",
       "      <th>side</th>\n",
       "      <th>timestamp</th>\n",
       "      <th>trader_id</th>\n",
       "      <th>type</th>\n",
       "    </tr>\n",
       "  </thead>\n",
       "  <tbody>\n",
       "    <tr>\n",
       "      <td>2</td>\n",
       "      <td>2</td>\n",
       "      <td>5</td>\n",
       "      <td>56</td>\n",
       "      <td>bid</td>\n",
       "      <td>1587323195861286500</td>\n",
       "      <td>FDR</td>\n",
       "      <td>limit</td>\n",
       "    </tr>\n",
       "    <tr>\n",
       "      <td>3</td>\n",
       "      <td>3</td>\n",
       "      <td>101</td>\n",
       "      <td>100</td>\n",
       "      <td>ask</td>\n",
       "      <td>1587323343948021900</td>\n",
       "      <td>FDR</td>\n",
       "      <td>limit</td>\n",
       "    </tr>\n",
       "    <tr>\n",
       "      <td>4</td>\n",
       "      <td>4</td>\n",
       "      <td>100</td>\n",
       "      <td>100</td>\n",
       "      <td>bid</td>\n",
       "      <td>1587323344606262400</td>\n",
       "      <td>FDR</td>\n",
       "      <td>limit</td>\n",
       "    </tr>\n",
       "  </tbody>\n",
       "</table>\n",
       "</div>"
      ],
      "text/plain": [
       "  order_id price quantity side            timestamp trader_id   type\n",
       "2        2     5       56  bid  1587323195861286500       FDR  limit\n",
       "3        3   101      100  ask  1587323343948021900       FDR  limit\n",
       "4        4   100      100  bid  1587323344606262400       FDR  limit"
      ]
     },
     "metadata": {},
     "output_type": "display_data"
    }
   ],
   "source": [
    "print('\\n\\nPending orders (Orders that are still in the LOB) : ')\n",
    "display(pd.DataFrame.from_dict(myself.pendingorders).T)"
   ]
  },
  {
   "cell_type": "code",
   "execution_count": 9,
   "metadata": {},
   "outputs": [
    {
     "name": "stdout",
     "output_type": "stream",
     "text": [
      "\n",
      "\n",
      "Pending orders (Orders that are still in the LOB) : \n"
     ]
    },
    {
     "data": {
      "text/html": [
       "<div>\n",
       "<style scoped>\n",
       "    .dataframe tbody tr th:only-of-type {\n",
       "        vertical-align: middle;\n",
       "    }\n",
       "\n",
       "    .dataframe tbody tr th {\n",
       "        vertical-align: top;\n",
       "    }\n",
       "\n",
       "    .dataframe thead th {\n",
       "        text-align: right;\n",
       "    }\n",
       "</style>\n",
       "<table border=\"1\" class=\"dataframe\">\n",
       "  <thead>\n",
       "    <tr style=\"text-align: right;\">\n",
       "      <th></th>\n",
       "      <th>order_id</th>\n",
       "      <th>price</th>\n",
       "      <th>quantity</th>\n",
       "      <th>side</th>\n",
       "      <th>timestamp</th>\n",
       "      <th>trader_id</th>\n",
       "      <th>type</th>\n",
       "    </tr>\n",
       "  </thead>\n",
       "  <tbody>\n",
       "    <tr>\n",
       "      <td>2</td>\n",
       "      <td>2</td>\n",
       "      <td>5</td>\n",
       "      <td>56</td>\n",
       "      <td>bid</td>\n",
       "      <td>1587323195861286500</td>\n",
       "      <td>FDR</td>\n",
       "      <td>limit</td>\n",
       "    </tr>\n",
       "    <tr>\n",
       "      <td>3</td>\n",
       "      <td>3</td>\n",
       "      <td>101</td>\n",
       "      <td>100</td>\n",
       "      <td>ask</td>\n",
       "      <td>1587323343948021900</td>\n",
       "      <td>FDR</td>\n",
       "      <td>limit</td>\n",
       "    </tr>\n",
       "    <tr>\n",
       "      <td>4</td>\n",
       "      <td>4</td>\n",
       "      <td>100</td>\n",
       "      <td>100</td>\n",
       "      <td>bid</td>\n",
       "      <td>1587323344606262400</td>\n",
       "      <td>FDR</td>\n",
       "      <td>limit</td>\n",
       "    </tr>\n",
       "  </tbody>\n",
       "</table>\n",
       "</div>"
      ],
      "text/plain": [
       "  order_id price quantity side            timestamp trader_id   type\n",
       "2        2     5       56  bid  1587323195861286500       FDR  limit\n",
       "3        3   101      100  ask  1587323343948021900       FDR  limit\n",
       "4        4   100      100  bid  1587323344606262400       FDR  limit"
      ]
     },
     "metadata": {},
     "output_type": "display_data"
    }
   ],
   "source": [
    "myself.cancelOrder(side     = 'ask', \n",
    "                   order_id = 1)\n",
    "\n",
    "print('\\n\\nPending orders (Orders that are still in the LOB) : ')\n",
    "display(pd.DataFrame.from_dict(myself.pendingorders).T)"
   ]
  },
  {
   "cell_type": "markdown",
   "metadata": {},
   "source": [
    "#### modify an order"
   ]
  },
  {
   "cell_type": "code",
   "execution_count": 10,
   "metadata": {},
   "outputs": [
    {
     "name": "stdout",
     "output_type": "stream",
     "text": [
      "\n",
      "\n",
      "Pending orders (Orders that are still in the LOB) : \n"
     ]
    },
    {
     "data": {
      "text/html": [
       "<div>\n",
       "<style scoped>\n",
       "    .dataframe tbody tr th:only-of-type {\n",
       "        vertical-align: middle;\n",
       "    }\n",
       "\n",
       "    .dataframe tbody tr th {\n",
       "        vertical-align: top;\n",
       "    }\n",
       "\n",
       "    .dataframe thead th {\n",
       "        text-align: right;\n",
       "    }\n",
       "</style>\n",
       "<table border=\"1\" class=\"dataframe\">\n",
       "  <thead>\n",
       "    <tr style=\"text-align: right;\">\n",
       "      <th></th>\n",
       "      <th>order_id</th>\n",
       "      <th>price</th>\n",
       "      <th>quantity</th>\n",
       "      <th>side</th>\n",
       "      <th>timestamp</th>\n",
       "      <th>trader_id</th>\n",
       "      <th>type</th>\n",
       "    </tr>\n",
       "  </thead>\n",
       "  <tbody>\n",
       "    <tr>\n",
       "      <td>2</td>\n",
       "      <td>2</td>\n",
       "      <td>5</td>\n",
       "      <td>56</td>\n",
       "      <td>bid</td>\n",
       "      <td>1587323195861286500</td>\n",
       "      <td>FDR</td>\n",
       "      <td>limit</td>\n",
       "    </tr>\n",
       "    <tr>\n",
       "      <td>3</td>\n",
       "      <td>3</td>\n",
       "      <td>101</td>\n",
       "      <td>100</td>\n",
       "      <td>ask</td>\n",
       "      <td>1587323343948021900</td>\n",
       "      <td>FDR</td>\n",
       "      <td>limit</td>\n",
       "    </tr>\n",
       "    <tr>\n",
       "      <td>4</td>\n",
       "      <td>4</td>\n",
       "      <td>100</td>\n",
       "      <td>100</td>\n",
       "      <td>bid</td>\n",
       "      <td>1587323344606262400</td>\n",
       "      <td>FDR</td>\n",
       "      <td>limit</td>\n",
       "    </tr>\n",
       "  </tbody>\n",
       "</table>\n",
       "</div>"
      ],
      "text/plain": [
       "  order_id price quantity side            timestamp trader_id   type\n",
       "2        2     5       56  bid  1587323195861286500       FDR  limit\n",
       "3        3   101      100  ask  1587323343948021900       FDR  limit\n",
       "4        4   100      100  bid  1587323344606262400       FDR  limit"
      ]
     },
     "metadata": {},
     "output_type": "display_data"
    }
   ],
   "source": [
    "myself.modifyOrder(order_id     = 2, \n",
    "                   side         = 'bid',\n",
    "                   new_price    = 5,\n",
    "                   new_quantity = 56)\n",
    "\n",
    "print('\\n\\nPending orders (Orders that are still in the LOB) : ')\n",
    "display(pd.DataFrame.from_dict(myself.pendingorders).T)"
   ]
  },
  {
   "cell_type": "markdown",
   "metadata": {},
   "source": [
    "# 6. Modify The LOB\n",
    "One agent type (market) can reset the LOB, dump the tape, and modify the LOB properties \n",
    "#### Change tick size"
   ]
  },
  {
   "cell_type": "code",
   "execution_count": 11,
   "metadata": {},
   "outputs": [
    {
     "data": {
      "text/plain": [
       "'DONE'"
      ]
     },
     "execution_count": 11,
     "metadata": {},
     "output_type": "execute_result"
    }
   ],
   "source": [
    "euronext.setLOB_tickSize(0.1)"
   ]
  },
  {
   "cell_type": "markdown",
   "metadata": {},
   "source": [
    "#### Remove all pending orders"
   ]
  },
  {
   "cell_type": "code",
   "execution_count": 12,
   "metadata": {},
   "outputs": [
    {
     "data": {
      "text/plain": [
       "'DONE'"
      ]
     },
     "execution_count": 12,
     "metadata": {},
     "output_type": "execute_result"
    }
   ],
   "source": [
    "euronext.resetLOB_PendingOrders()"
   ]
  },
  {
   "cell_type": "markdown",
   "metadata": {},
   "source": [
    "#### Remove orders and transactions"
   ]
  },
  {
   "cell_type": "code",
   "execution_count": 13,
   "metadata": {},
   "outputs": [
    {
     "data": {
      "text/plain": [
       "'DONE'"
      ]
     },
     "execution_count": 13,
     "metadata": {},
     "output_type": "execute_result"
    }
   ],
   "source": [
    "euronext.resetLOB()"
   ]
  }
 ],
 "metadata": {
  "kernelspec": {
   "display_name": "Python 3",
   "language": "python",
   "name": "python3"
  },
  "language_info": {
   "codemirror_mode": {
    "name": "ipython",
    "version": 3
   },
   "file_extension": ".py",
   "mimetype": "text/x-python",
   "name": "python",
   "nbconvert_exporter": "python",
   "pygments_lexer": "ipython3",
   "version": "3.7.4"
  }
 },
 "nbformat": 4,
 "nbformat_minor": 4
}
